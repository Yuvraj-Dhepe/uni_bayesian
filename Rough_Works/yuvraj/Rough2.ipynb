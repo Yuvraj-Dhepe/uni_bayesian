{
 "cells": [
  {
   "cell_type": "code",
   "execution_count": 43,
   "id": "314cbe52-8cca-450c-92de-45a6b33582ca",
   "metadata": {
    "tags": []
   },
   "outputs": [],
   "source": [
    "import numpy as np\n",
    "a = [5,2,3]\n",
    "b = [1.5,2,-1]\n",
    "T = np.ones((3, 3)) / 9\n",
    "\n",
    "def pos(num,matrix):\n",
    "    cnt = 0\n",
    "    for i in range(len(matrix)):\n",
    "        for j in range(len(matrix[i])):\n",
    "            cnt+=1\n",
    "            if cnt==num:\n",
    "                return (i,j)\n",
    "alpha = 0.0001  \n",
    "for iter in range(int(1e5)):\n",
    "    for index in range(9):\n",
    "        row,col = pos(index+1,t)\n",
    "        t[row][col] = t[row][col]*(b[row]-a[col])**2\n",
    "        diff = np.subtract.outer(b_values, a_values)\n",
    "        T[row,col] = T[i, j] * np.exp(-alpha * diff[i, j]**2)"
   ]
  },
  {
   "cell_type": "code",
   "execution_count": 63,
   "id": "b0ea4f80-7f98-4743-929b-cf8565c45c4f",
   "metadata": {
    "tags": []
   },
   "outputs": [
    {
     "name": "stdout",
     "output_type": "stream",
     "text": [
      "Optimal Coupling Matrix:\n",
      "[[2.57866210e-003 9.97421338e-001 2.62040633e-041]\n",
      " [1.35992480e-049 1.41399314e-003 9.98586007e-001]\n",
      " [1.00000000e+000 2.75577189e-215 1.53160350e-322]]\n"
     ]
    }
   ],
   "source": [
    "import numpy as np\n",
    "\n",
    "# Values for X1 and X2\n",
    "a_values = np.array([1, 2, 3])\n",
    "b_values = np.array([1.5, 2, -1])\n",
    "\n",
    "# Initialize the coupling matrix T\n",
    "T = np.ones((3, 3)) / 9\n",
    "\n",
    "# Set the learning rate\n",
    "learning_rate = 0.001\n",
    "\n",
    "# Iterate until convergence\n",
    "iter = 0\n",
    "while True:\n",
    "    # Calculate the differences\n",
    "    diff = np.subtract.outer(b_values, a_values)\n",
    "    \n",
    "    # Update each element of T\n",
    "    for i in range(3):\n",
    "        for j in range(3):\n",
    "            T[i, j] = T[i, j] * np.exp(-learning_rate * diff[i, j]**2)\n",
    "    \n",
    "    # Normalize the rows and columns\n",
    "    T = T / np.sum(T, axis=0)\n",
    "    T = T / np.sum(T, axis=1)[:, np.newaxis]\n",
    "    \n",
    "    # Check for convergence\n",
    "    # You can define a convergence criterion based on your requirements\n",
    "    \n",
    "    # Break the loop if convergence is reached\n",
    "    iter +=1\n",
    "    if iter==1e5:\n",
    "        break\n",
    "\n",
    "# Print the optimal coupling matrix\n",
    "print(\"Optimal Coupling Matrix:\")\n",
    "print(T)"
   ]
  },
  {
   "cell_type": "code",
   "execution_count": 64,
   "id": "0e70477a-2cc8-4cb8-8a03-f483af622f5b",
   "metadata": {
    "tags": []
   },
   "outputs": [
    {
     "data": {
      "text/plain": [
       "array([1.00257866, 0.99883533, 0.99858601])"
      ]
     },
     "execution_count": 64,
     "metadata": {},
     "output_type": "execute_result"
    }
   ],
   "source": [
    "np.sum(T,axis = 0)"
   ]
  },
  {
   "cell_type": "code",
   "execution_count": null,
   "id": "73696f46-14b3-4631-bce8-b0a3ff5f8f2b",
   "metadata": {},
   "outputs": [],
   "source": [
    "https://www.youtube.com/watch?v=wObV_hwu2QM&ab_channel=DataWithMo"
   ]
  }
 ],
 "metadata": {
  "kernelspec": {
   "display_name": "Python 3 (ipykernel)",
   "language": "python",
   "name": "python3"
  },
  "language_info": {
   "codemirror_mode": {
    "name": "ipython",
    "version": 3
   },
   "file_extension": ".py",
   "mimetype": "text/x-python",
   "name": "python",
   "nbconvert_exporter": "python",
   "pygments_lexer": "ipython3",
   "version": "3.11.3"
  }
 },
 "nbformat": 4,
 "nbformat_minor": 5
}
