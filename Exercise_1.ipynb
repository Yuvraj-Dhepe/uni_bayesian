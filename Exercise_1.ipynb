{
 "cells": [
  {
   "cell_type": "markdown",
   "id": "04d5ab6c-7e87-4785-a760-2b6e7271e73c",
   "metadata": {
    "tags": []
   },
   "source": [
    "## Library Imports"
   ]
  },
  {
   "cell_type": "code",
   "execution_count": 20,
   "id": "96855e40-0a51-411d-97fb-d0d9efd93799",
   "metadata": {
    "tags": []
   },
   "outputs": [],
   "source": [
    "import numpy as np\n",
    "from math import sin,cos"
   ]
  },
  {
   "cell_type": "markdown",
   "id": "845af394-0a4e-4225-89b0-2742492978b6",
   "metadata": {},
   "source": [
    "### Question 2"
   ]
  },
  {
   "cell_type": "markdown",
   "id": "c6e883b9-3c33-47aa-aad7-8974a124402a",
   "metadata": {
    "tags": []
   },
   "source": [
    "<img src = \"./images/ex_1_p1.jpg\" alt = \"Ex_1_P1\">"
   ]
  },
  {
   "cell_type": "markdown",
   "id": "1456352e-986c-4bfb-aea8-3862b529f4ca",
   "metadata": {},
   "source": [
    "### Solution to Problem 2 A part"
   ]
  },
  {
   "cell_type": "code",
   "execution_count": 134,
   "id": "95478d2a-c256-462f-9291-327b3205971d",
   "metadata": {
    "tags": []
   },
   "outputs": [
    {
     "name": "stdout",
     "output_type": "stream",
     "text": [
      "True value of y(5) by use of simple euler method is 1.273925690316826\n",
      "True value of y(10) by use of simple euler method is -0.3106618221316094\n"
     ]
    }
   ],
   "source": [
    "def original_harmonic_oscillator(old_params,m, k, dt = 0.01,N=1):\n",
    "    x_old,y_old = old_params\n",
    "    substeps = int(1/dt)\n",
    "    y_t = [] # We store y(0),y(1)... in this\n",
    "    x_t = [] # We store x(0),x(1)... in this\n",
    "    y_t.append(y_old)\n",
    "    x_t.append(x_old)\n",
    "    for i in range(1,N+1): #We go till N+1 only since we already have initial points that start from 0 appended to the list.\n",
    "        x_old = x_t[i-1]\n",
    "        y_old = y_t[i-1]\n",
    "        for substep in range(0,substeps):\n",
    "            # calculating new position and momentum\n",
    "            x_new = x_old + (dt/m)*(y_old)\n",
    "            y_new = y_old - (dt*k)*(x_old)\n",
    "        \n",
    "            # revising the position and momentum after every dt interval.\n",
    "            x_old,y_old = x_new,y_new\n",
    "        # After updating position and momentum for 1/dt times, they are the new position and momentum at n'th observed moment.\n",
    "        # We append it to x_t and y_t array.\n",
    "        x_t.append(x_old) \n",
    "        y_t.append(y_old)\n",
    "    return y_t\n",
    "\n",
    "old_params = np.array([1.0,1.0])\n",
    "dt = 0.01\n",
    "m = 1 # By comparing the given equations with simple harmonic oscillator equations.\n",
    "k = 1 # By comparing the given equations with simple harmonic oscillator equations.\n",
    "\n",
    "# We put N = 11, since we are taking initial start from N = 0.\n",
    "y = original_harmonic_oscillator(old_params,m,k,dt,N = 10)\n",
    "\n",
    "print(f\"True value of y(5) by use of simple euler method is {y[5]}\")\n",
    "print(f\"True value of y(10) by use of simple euler method is {y[10]}\")"
   ]
  },
  {
   "cell_type": "markdown",
   "id": "0bb1a8d9-0ea4-4f9b-8bd8-01b4d4ec2399",
   "metadata": {},
   "source": [
    "### Solution to Problem 2 B part"
   ]
  },
  {
   "cell_type": "markdown",
   "id": "45f86da3-da1c-4580-b16b-dce7e9217592",
   "metadata": {},
   "source": [
    "- By the above values of y(5), y(10) and given trigonometric equation, we can form the following linear equations to be solved\n",
    "- 1.2739 = -x_0*sin(5) + y_0*cos(5)\n",
    "- -0.3106 = -x_0*sin(5) + y_0*cos(5)\n",
    "- This system of equations can be solved by the following code, to find the values of x_0 and y_0"
   ]
  },
  {
   "cell_type": "code",
   "execution_count": 155,
   "id": "20d3144e-a194-4436-ae12-c8820636bb07",
   "metadata": {
    "tags": []
   },
   "outputs": [
    {
     "data": {
      "text/plain": [
       "array([[-1.0228    ],\n",
       "       [ 1.03331452]])"
      ]
     },
     "execution_count": 155,
     "metadata": {},
     "output_type": "execute_result"
    }
   ],
   "source": [
    "# Forming the matrix to be solved for the unknown\n",
    "M = np.array([[np.sin(5), np.cos(5)], [np.sin(10), np.cos(10)]])\n",
    "b = np.array([[1.2739], [-0.3106]])\n",
    "\n",
    "var = np.linalg.solve(M, b)\n",
    "var"
   ]
  },
  {
   "cell_type": "markdown",
   "id": "d89d2604-fe00-4057-8c9a-4f26cd9b7bcf",
   "metadata": {},
   "source": [
    "- By observing the values of var, we have x_0 = 1.0228 and y_0 = 1.033, x_0's sign changes cause of the trigonometric equation has -ve sign in the sin(t) term\n",
    "- Thus we can say that the x_0 and y_0 values are very close to their true values of 1.0"
   ]
  },
  {
   "cell_type": "markdown",
   "id": "af099839-0cce-4410-abc0-3fbed6482ca2",
   "metadata": {},
   "source": [
    "### Solution to Problem 2 C part"
   ]
  },
  {
   "cell_type": "code",
   "execution_count": 154,
   "id": "a6899f50-d91c-44e4-baf2-8a13a8f0538c",
   "metadata": {
    "tags": []
   },
   "outputs": [
    {
     "name": "stdout",
     "output_type": "stream",
     "text": [
      "True value of y(5) by use of simple euler method is 1.5789676217711568\n",
      "True value of y(10) by use of simple euler method is -0.5603400541582387\n"
     ]
    }
   ],
   "source": [
    "y = original_harmonic_oscillator(old_params,m,k,dt=0.1,N = 10)\n",
    "print(f\"True value of y(5) by use of simple euler method is {y[5]}\")\n",
    "print(f\"True value of y(10) by use of simple euler method is {y[10]}\")"
   ]
  },
  {
   "cell_type": "code",
   "execution_count": 156,
   "id": "eb1761f9-75f4-422f-a84a-c807868678b7",
   "metadata": {
    "tags": []
   },
   "outputs": [
    {
     "data": {
      "text/plain": [
       "array([[-1.21581458],\n",
       "       [ 1.45604845]])"
      ]
     },
     "execution_count": 156,
     "metadata": {},
     "output_type": "execute_result"
    }
   ],
   "source": [
    "# Forming the matrix to be solved for the unknown\n",
    "M = np.array([[np.sin(5), np.cos(5)], [np.sin(10), np.cos(10)]])\n",
    "b = np.array([[1.5789], [-0.5603]])\n",
    "\n",
    "var = np.linalg.solve(M, b)\n",
    "var"
   ]
  },
  {
   "cell_type": "markdown",
   "id": "6c246a58-f069-49aa-9c71-0f9987e971ac",
   "metadata": {},
   "source": [
    "- By observing the values of y(5), y(10), x_0, y_0, we can say that increasing the value of dt, makes the model more error prone."
   ]
  },
  {
   "cell_type": "markdown",
   "id": "2aa5e5b6-650c-469a-bfd1-52c2732a8c71",
   "metadata": {
    "tags": []
   },
   "source": [
    "### Rough Work"
   ]
  },
  {
   "cell_type": "code",
   "execution_count": 138,
   "id": "5680224c-4c94-4772-aeca-3aa7ce70cac7",
   "metadata": {
    "tags": []
   },
   "outputs": [
    {
     "name": "stdout",
     "output_type": "stream",
     "text": [
      "Value of y(5) by use of trigonometric function is 1.2425864601263648\n",
      "Value of y(10) by use of trigonometric function is -0.29505041818708266\n"
     ]
    }
   ],
   "source": [
    "def model_harmonic_oscillator(old_params,t):\n",
    "    x_old,y_old = old_params\n",
    "    return -x_old*sin(t) + y_old*cos(t)\n",
    "\n",
    "old_params = np.array([1.0,1.0])\n",
    "n = 10\n",
    "y = []\n",
    "for i in range(0,n+1):\n",
    "    y.append(model_harmonic_oscillator(old_params,t=i))\n",
    "\n",
    "# y_5 = model_harmonic_oscillator(old_params,t=2)\n",
    "# y_10 = model_harmonic_oscillator(old_params,t = 10)\n",
    "print(f\"Value of y(5) by use of trigonometric function is {y[5]}\")\n",
    "print(f\"Value of y(10) by use of trigonometric function is {y[10]}\")"
   ]
  },
  {
   "cell_type": "markdown",
   "id": "7091af8b-9d4b-4f91-9559-537f5410dc75",
   "metadata": {},
   "source": [
    "### Matrix Multiplication version of simple euler forward method"
   ]
  },
  {
   "cell_type": "code",
   "execution_count": 62,
   "id": "6c4920f1-f8fa-415e-8355-37f64cd149cd",
   "metadata": {
    "tags": []
   },
   "outputs": [],
   "source": [
    "def mat_mult(c,power):\n",
    "    return np.linalg.matrix_power(c,power)"
   ]
  },
  {
   "cell_type": "code",
   "execution_count": 148,
   "id": "cf05bdb2-fccb-40f1-a591-3eaf5f49328f",
   "metadata": {
    "tags": []
   },
   "outputs": [
    {
     "name": "stdout",
     "output_type": "stream",
     "text": [
      "Value of y(5) by use of matrix multiplication in simple euler method is 1.27392569031684\n",
      "Value of y(10) by use of matrix multiplication in simple euler method is -0.3106618221316164\n"
     ]
    }
   ],
   "source": [
    "import numpy as np\n",
    "n = 10\n",
    "dt = 0.01\n",
    "L = int(1/dt)\n",
    "m = 1\n",
    "k = 1\n",
    "Z = []\n",
    "z_old = np.array([1.0,1.0])\n",
    "Z.append(z_old)\n",
    "c = np.array([[1, dt/m], [-dt*k, 1]])\n",
    "\n",
    "for i in range(1,n+1):\n",
    "    z_new = mat_mult(c,i*L).dot(Z[0])\n",
    "    Z.append(z_new)\n",
    "\n",
    "print(f\"Value of y(5) by use of matrix multiplication in simple euler method is {Z[5][1]}\")\n",
    "print(f\"Value of y(10) by use of matrix multiplication in simple euler method is {Z[10][1]}\")"
   ]
  },
  {
   "cell_type": "code",
   "execution_count": 149,
   "id": "f844dad7-e2e6-4828-bf91-2da6a89cb90f",
   "metadata": {
    "tags": []
   },
   "outputs": [
    {
     "name": "stdout",
     "output_type": "stream",
     "text": [
      "Value of y(5) by use of matrix multiplication in simple euler method is 1.27392569031684\n",
      "Value of y(10) by use of matrix multiplication in simple euler method is -0.31066182213161575\n"
     ]
    }
   ],
   "source": [
    "import numpy as np\n",
    "n = 10\n",
    "dt = 0.01\n",
    "L = int(1/dt)\n",
    "m = 1\n",
    "k = 1\n",
    "Z = []\n",
    "z_old = np.array([1.0,1.0])\n",
    "Z.append(z_old)\n",
    "c = np.array([[1, dt/m], [-dt*k, 1]])\n",
    "\n",
    "for i in range(1,n+1):\n",
    "    z_new = mat_mult(c,L).dot(Z[i-1])\n",
    "    Z.append(z_new)\n",
    "\n",
    "print(f\"Value of y(5) by use of matrix multiplication in simple euler method is {Z[5][1]}\")\n",
    "print(f\"Value of y(10) by use of matrix multiplication in simple euler method is {Z[10][1]}\")"
   ]
  }
 ],
 "metadata": {
  "kernelspec": {
   "display_name": "Python 3 (ipykernel)",
   "language": "python",
   "name": "python3"
  },
  "language_info": {
   "codemirror_mode": {
    "name": "ipython",
    "version": 3
   },
   "file_extension": ".py",
   "mimetype": "text/x-python",
   "name": "python",
   "nbconvert_exporter": "python",
   "pygments_lexer": "ipython3",
   "version": "3.11.3"
  }
 },
 "nbformat": 4,
 "nbformat_minor": 5
}
