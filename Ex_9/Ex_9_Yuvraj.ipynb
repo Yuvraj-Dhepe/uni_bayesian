{
 "cells": [
  {
   "cell_type": "code",
   "execution_count": 1,
   "id": "e3a5da1f-82d8-40e7-ba49-d5caefd3d3b3",
   "metadata": {
    "tags": []
   },
   "outputs": [],
   "source": [
    "import pandas as pd\n",
    "import numpy as np\n",
    "import random\n",
    "import seaborn as sns"
   ]
  },
  {
   "cell_type": "markdown",
   "id": "314b0ade-fa91-47d5-aabe-594c5771112f",
   "metadata": {},
   "source": [
    "### Problem 2.1"
   ]
  },
  {
   "cell_type": "code",
   "execution_count": 8,
   "id": "ba17b668-be7c-4c18-8093-7cc09dd748ce",
   "metadata": {
    "tags": []
   },
   "outputs": [],
   "source": [
    "# Given Transition Matrix\n",
    "P = np.array([[1/2,2/3,0,0],[1/2,1/3,0,0],[0,0,1/4,4/5],[0,0,3/4,1/5]])\n",
    "x_0_1 = np.array([1,0,0,0])\n",
    "x_0_3 = np.array([0,0,1,0])\n",
    "x_2_1 = np.round(np.linalg.multi_dot([P,P,x_0_1]),3)\n",
    "x_2_3 = np.round(np.linalg.multi_dot([P,P,x_0_3]),3)"
   ]
  },
  {
   "cell_type": "code",
   "execution_count": 15,
   "id": "a6dde9f3-3f6e-4439-b714-f54107f5fd0b",
   "metadata": {
    "tags": []
   },
   "outputs": [
    {
     "name": "stdout",
     "output_type": "stream",
     "text": [
      "Probability of being in State 1 after 2 transitions:0.583\n",
      "Probability of being in State 2 after 2 transitions:0.417\n",
      "Probability of being in State 3 after 2 transitions:0.0\n",
      "Probability of being in State 4 after 2 transitions:0.0\n"
     ]
    }
   ],
   "source": [
    "print(f\"Probability of being in State 1 after 2 transitions:{x_2_1[0]}\")\n",
    "print(f\"Probability of being in State 2 after 2 transitions:{x_2_1[1]}\")\n",
    "print(f\"Probability of being in State 3 after 2 transitions:{x_2_1[2]}\")\n",
    "print(f\"Probability of being in State 4 after 2 transitions:{x_2_1[3]}\")"
   ]
  },
  {
   "cell_type": "markdown",
   "id": "0df0ac6f-2fc1-4a27-ba83-a6ac7282a4af",
   "metadata": {},
   "source": [
    "### Problem 2.2"
   ]
  },
  {
   "cell_type": "code",
   "execution_count": 13,
   "id": "f6fe72f2-d639-4cdd-af7d-28c8241b16a6",
   "metadata": {},
   "outputs": [
    {
     "name": "stdout",
     "output_type": "stream",
     "text": [
      "Probability of being in State 1 after 2 transitions:0.0\n",
      "Probability of being in State 2 after 2 transitions:0.0\n",
      "Probability of being in State 3 after 2 transitions:0.663\n",
      "Probability of being in State 4 after 2 transitions:0.338\n"
     ]
    }
   ],
   "source": [
    "print(f\"Probability of being in State 1 after 2 transitions:{x_2_3[0]}\")\n",
    "print(f\"Probability of being in State 2 after 2 transitions:{x_2_3[1]}\")\n",
    "print(f\"Probability of being in State 3 after 2 transitions:{x_2_3[2]}\")\n",
    "print(f\"Probability of being in State 4 after 2 transitions:{x_2_3[3]}\")"
   ]
  },
  {
   "cell_type": "markdown",
   "id": "56ee2c17-2165-4246-8e96-f3b97866db25",
   "metadata": {},
   "source": [
    "### Problem 2.3"
   ]
  },
  {
   "cell_type": "code",
   "execution_count": 35,
   "id": "972f5572-0c51-4fa6-8af6-10708acdcd2b",
   "metadata": {
    "tags": []
   },
   "outputs": [
    {
     "name": "stdout",
     "output_type": "stream",
     "text": [
      "Invariant Measure for the given transition matrix for 1st eigen value 1.0 is: [0.57142857 0.42857143 0.         0.        ]\n",
      "Invariant Measure for the given transition matrix for 2nd eigen value 1.0 is: [0.         0.         0.51612903 0.48387097]\n"
     ]
    }
   ],
   "source": [
    "# Finding the eigen values and eigen vectors for the matrix P\n",
    "eigs, eigen=np.linalg.eig(P) #Every column is a eigen vector in eigen variable\n",
    "\n",
    "# Getting the indices where eigen values are 1\n",
    "inds = np.where(eigs == 1)[0].tolist()\n",
    "\n",
    "# For a stochastic matrix, the invariant measure is the eigenvector corresponding to eigenvalue 1\n",
    "inv_meas_1 = eigen[:,inds[0]]/(np.sum(eigen[:,inds[0]])) # Dividing it is necessary to have the probabilities sum up to 1\n",
    "inv_meas_2 = eigen[:,inds[1]]/(np.sum(eigen[:,inds[1]])) # Dividing it is necessary to have the probabilities sum up to 1\n",
    "\n",
    "# We have this eigen vector for the 1st eigen value 1\n",
    "print(f\"Invariant Measure for the given transition matrix for 1st eigen value {eigs[inds[0]]} is: {inv_meas_1}\")\n",
    "print(f\"Invariant Measure for the given transition matrix for 2nd eigen value {eigs[inds[0]]} is: {inv_meas_2}\")"
   ]
  },
  {
   "cell_type": "markdown",
   "id": "c037a430-ea27-49c4-b658-6fa4aa566d72",
   "metadata": {},
   "source": [
    "#### Observation"
   ]
  },
  {
   "cell_type": "markdown",
   "id": "ed389bd5-189d-4d9e-84f2-07ad51bb3c96",
   "metadata": {},
   "source": [
    "- As there are 2 eigen values having value as 1, this means that there are 2 non-connected independent distributions which are aperiodic in themselves. And each of them will have their on stationary invariant measure which will be attained depending on the initial state.\n",
    "- Like if we begin in the state 1 or 2, we will attain the 1st invariant measure, while if we begin in the 3rd or 4th state we will attain the other invariant measure"
   ]
  }
 ],
 "metadata": {
  "kernelspec": {
   "display_name": "Python 3 (ipykernel)",
   "language": "python",
   "name": "python3"
  },
  "language_info": {
   "codemirror_mode": {
    "name": "ipython",
    "version": 3
   },
   "file_extension": ".py",
   "mimetype": "text/x-python",
   "name": "python",
   "nbconvert_exporter": "python",
   "pygments_lexer": "ipython3",
   "version": "3.11.3"
  }
 },
 "nbformat": 4,
 "nbformat_minor": 5
}
