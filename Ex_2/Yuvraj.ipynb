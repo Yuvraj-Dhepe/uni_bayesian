{
 "cells": [
  {
   "cell_type": "markdown",
   "id": "8d9b2041-3b72-4b3f-bac8-6848577443ca",
   "metadata": {
    "tags": []
   },
   "source": [
    "# Exercise 2"
   ]
  },
  {
   "cell_type": "code",
   "execution_count": 3,
   "id": "307b59dc-d4fd-455b-ba4a-af77cb03a413",
   "metadata": {
    "tags": []
   },
   "outputs": [],
   "source": [
    "import matplotlib.pyplot as plt\n",
    "import numpy as np\n",
    "import math"
   ]
  },
  {
   "cell_type": "markdown",
   "id": "8cc50ab9-daa1-4679-a7fc-2783fce7f52d",
   "metadata": {
    "tags": []
   },
   "source": [
    "## Task 1"
   ]
  },
  {
   "cell_type": "markdown",
   "id": "067df828-cbb7-487f-acab-ebf0720234f4",
   "metadata": {
    "tags": []
   },
   "source": [
    "### Utility functions"
   ]
  },
  {
   "cell_type": "code",
   "execution_count": 5,
   "id": "22682559-1202-4370-a93f-f8ee40c92806",
   "metadata": {
    "tags": []
   },
   "outputs": [],
   "source": [
    "def field_vector(coords:np.array) -> np.array:\n",
    "    '''\n",
    "    Takes x, y, z coordinates and returns a field vector\n",
    "    '''\n",
    "    x,y,z = coords\n",
    "    sig: float = 10.0\n",
    "    ro: float = 28\n",
    "    bet: float = 8/3\n",
    "    return np.array([sig*(y-x), x*(ro-z)-y, x*y-bet*z])"
   ]
  },
  {
   "cell_type": "code",
   "execution_count": 13,
   "id": "ec0083ee-7dad-4b7c-a007-273920667ede",
   "metadata": {
    "tags": []
   },
   "outputs": [],
   "source": [
    "def tent_map_iterator(gt: np.array, a: float) -> np.array:\n",
    "    '''\n",
    "    Takes gn and performs tent map iteration for calculating gn+1 error\n",
    "    '''\n",
    "    return np.array([1.99999*g + a/2 if g >= -a/2 and g < 0 else -1.99999*g + a/2 for g in gt])"
   ]
  },
  {
   "cell_type": "code",
   "execution_count": 14,
   "id": "6183f904-c9a1-4c74-a94a-5804dc1a7fd4",
   "metadata": {
    "tags": []
   },
   "outputs": [],
   "source": [
    "def lorrenz_attractor(Z_t: np.array,dt: float,t: int):\n",
    "    '''\n",
    "    Takes initial co-ordinates and simulate a lorrenz attractor with dt time interval and t observations\n",
    "    '''\n",
    "    iterations = int(t/dt)\n",
    "    a = 1/np.sqrt(dt)\n",
    "    g1 = a*(1/np.sqrt(2) - 1/2)\n",
    "    g2 = a*(1/np.sqrt(3) - 1/2)\n",
    "    g3 = a*(1/np.sqrt(5) - 1/2)\n",
    "    gt = np.array([g1, g2, g3])\n",
    "\n",
    "    f_z = field_vector(Z_t)\n",
    "    X_cord = np.array([Z_ini[0],])\n",
    "    Y_cord = np.array([Z_ini[1],])\n",
    "    Z_cord = np.array([Z_ini[2],])\n",
    "    for i in range(iterations):\n",
    "        \n",
    "        # Calculating Z_t+1\n",
    "        Z_new = Z_t + dt*(f_z+gt)\n",
    "        \n",
    "        # Updating gt to gt+1\n",
    "        gt = tent_map_iterator(gt,a)\n",
    "        \n",
    "        # Getting new coordinates and appending to a list\n",
    "        x,y,z = Z_new\n",
    "        X_cord = np.append(X_cord,x)\n",
    "        Y_cord = np.append(Y_cord,y)\n",
    "        Z_cord = np.append(Z_cord,z)\n",
    "        \n",
    "        # Updating the field vector and the states of the Z_vector\n",
    "        f_z = field_vector(Z_new)\n",
    "        Z_t = Z_new\n",
    "    return [X_cord,Y_cord,Z_cord]"
   ]
  },
  {
   "cell_type": "markdown",
   "id": "47554502-4d61-4054-9523-2fa276d3f172",
   "metadata": {},
   "source": [
    "### Plotting the Lorrenz Attractor"
   ]
  },
  {
   "cell_type": "code",
   "execution_count": 15,
   "id": "9d269546-6360-4bcf-952d-26a806e66805",
   "metadata": {
    "tags": []
   },
   "outputs": [],
   "source": [
    "### Initializing params\n",
    "Z_ini: np.array = np.array([-0.587,-0.563,16.870])\n",
    "dt: float = 0.001\n",
    "t: int = 100\n",
    "\n",
    "# Getting all lorrenz attractor coordinates\n",
    "all_coords: list[np.array] = lorrenz_attractor(Z_ini,dt,t)"
   ]
  },
  {
   "cell_type": "code",
   "execution_count": 30,
   "id": "42a566ab-222b-4873-9099-de31c40b16b2",
   "metadata": {
    "tags": []
   },
   "outputs": [
    {
     "ename": "ModuleNotFoundError",
     "evalue": "No module named 'ipympl'",
     "output_type": "error",
     "traceback": [
      "\u001b[0;31m---------------------------------------------------------------------------\u001b[0m",
      "\u001b[0;31mModuleNotFoundError\u001b[0m                       Traceback (most recent call last)",
      "Cell \u001b[0;32mIn[30], line 3\u001b[0m\n\u001b[1;32m      1\u001b[0m \u001b[38;5;66;03m# Generating the plot\u001b[39;00m\n\u001b[1;32m      2\u001b[0m \u001b[38;5;28;01mfrom\u001b[39;00m \u001b[38;5;21;01mmpl_toolkits\u001b[39;00m\u001b[38;5;21;01m.\u001b[39;00m\u001b[38;5;21;01mmplot3d\u001b[39;00m \u001b[38;5;28;01mimport\u001b[39;00m Axes3D\n\u001b[0;32m----> 3\u001b[0m \u001b[38;5;28;01mimport\u001b[39;00m \u001b[38;5;21;01mipympl\u001b[39;00m\n\u001b[1;32m      4\u001b[0m x,y,z \u001b[38;5;241m=\u001b[39m all_coords[\u001b[38;5;241m0\u001b[39m],all_coords[\u001b[38;5;241m1\u001b[39m],all_coords[\u001b[38;5;241m2\u001b[39m]\n\u001b[1;32m      5\u001b[0m fig \u001b[38;5;241m=\u001b[39m plt\u001b[38;5;241m.\u001b[39mfigure(figsize \u001b[38;5;241m=\u001b[39m (\u001b[38;5;241m10\u001b[39m,\u001b[38;5;241m10\u001b[39m))\n",
      "\u001b[0;31mModuleNotFoundError\u001b[0m: No module named 'ipympl'"
     ]
    }
   ],
   "source": [
    "# Generating the plot\n",
    "from mpl_toolkits.mplot3d import Axes3D\n",
    "import ipympl\n",
    "x,y,z = all_coords[0],all_coords[1],all_coords[2]\n",
    "fig = plt.figure(figsize = (10,10))\n",
    "ax = fig.add_subplot(111, projection='3d')\n",
    "ax.plot(x,y,z, color = 'blue', lw = 0.6)\n",
    "ax.view_init(20,80)\n",
    "ax.set_xlabel('X Label')\n",
    "ax.set_ylabel('Y Label')\n",
    "ax.set_zlabel('Z Label')\n",
    "plt.show()"
   ]
  },
  {
   "cell_type": "code",
   "execution_count": null,
   "id": "4d2df2e3-ca83-4785-bce2-4c2429c84cee",
   "metadata": {},
   "outputs": [],
   "source": []
  }
 ],
 "metadata": {
  "kernelspec": {
   "display_name": "Python 3 (ipykernel)",
   "language": "python",
   "name": "python3"
  },
  "language_info": {
   "codemirror_mode": {
    "name": "ipython",
    "version": 3
   },
   "file_extension": ".py",
   "mimetype": "text/x-python",
   "name": "python",
   "nbconvert_exporter": "python",
   "pygments_lexer": "ipython3",
   "version": "3.11.3"
  }
 },
 "nbformat": 4,
 "nbformat_minor": 5
}
