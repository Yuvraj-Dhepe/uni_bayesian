{
 "cells": [
  {
   "cell_type": "code",
   "execution_count": 1,
   "metadata": {
    "collapsed": false,
    "jupyter": {
     "outputs_hidden": false
    },
    "pycharm": {
     "name": "#%%\n"
    }
   },
   "outputs": [],
   "source": [
    "import numpy as np\n",
    "import matplotlib.pyplot as plt"
   ]
  },
  {
   "cell_type": "code",
   "execution_count": 2,
   "metadata": {
    "collapsed": false,
    "jupyter": {
     "outputs_hidden": false
    },
    "pycharm": {
     "name": "#%%\n"
    }
   },
   "outputs": [
    {
     "data": {
      "text/plain": [
       "array([[0.5       , 0.25      , 0.2       ],\n",
       "       [0.33333333, 0.5       , 0.4       ],\n",
       "       [0.16666667, 0.25      , 0.4       ]])"
      ]
     },
     "execution_count": 2,
     "metadata": {},
     "output_type": "execute_result"
    }
   ],
   "source": [
    "transition_matrix: np.array = np.array(\n",
    "   [ [1/2, 1/4, 1/5],\n",
    "    [1/3, 1/2, 2/5],\n",
    "    [1/6, 1/4, 2/5]]\n",
    ")\n",
    "transition_matrix"
   ]
  },
  {
   "cell_type": "code",
   "execution_count": 3,
   "metadata": {
    "collapsed": false,
    "jupyter": {
     "outputs_hidden": false
    },
    "pycharm": {
     "name": "#%%\n"
    }
   },
   "outputs": [
    {
     "ename": "AssertionError",
     "evalue": "",
     "output_type": "error",
     "traceback": [
      "\u001B[1;31m---------------------------------------------------------------------------\u001B[0m",
      "\u001B[1;31mAssertionError\u001B[0m                            Traceback (most recent call last)",
      "Cell \u001B[1;32mIn[3], line 1\u001B[0m\n\u001B[1;32m----> 1\u001B[0m \u001B[38;5;28;01massert\u001B[39;00m np\u001B[38;5;241m.\u001B[39msum(transition_matrix[:, \u001B[38;5;241m0\u001B[39m]) \u001B[38;5;241m==\u001B[39m \u001B[38;5;241m1\u001B[39m\n\u001B[0;32m      2\u001B[0m \u001B[38;5;28;01massert\u001B[39;00m np\u001B[38;5;241m.\u001B[39msum(transition_matrix[:, \u001B[38;5;241m1\u001B[39m]) \u001B[38;5;241m==\u001B[39m \u001B[38;5;241m1\u001B[39m\n\u001B[0;32m      3\u001B[0m \u001B[38;5;28;01massert\u001B[39;00m np\u001B[38;5;241m.\u001B[39msum(transition_matrix[:, \u001B[38;5;241m2\u001B[39m]) \u001B[38;5;241m==\u001B[39m \u001B[38;5;241m1\u001B[39m\n",
      "\u001B[1;31mAssertionError\u001B[0m: "
     ]
    }
   ],
   "source": [
    "assert np.sum(transition_matrix[:, 0]) == 1\n",
    "assert np.sum(transition_matrix[:, 1]) == 1\n",
    "assert np.sum(transition_matrix[:, 2]) == 1"
   ]
  },
  {
   "cell_type": "code",
   "execution_count": 4,
   "metadata": {
    "collapsed": false,
    "jupyter": {
     "outputs_hidden": false
    },
    "pycharm": {
     "name": "#%%\n"
    }
   },
   "outputs": [
    {
     "data": {
      "text/plain": [
       "0.9999999999999999"
      ]
     },
     "execution_count": 4,
     "metadata": {},
     "output_type": "execute_result"
    }
   ],
   "source": [
    "np.sum(transition_matrix[:, 0])"
   ]
  },
  {
   "cell_type": "markdown",
   "metadata": {
    "pycharm": {
     "name": "#%% md\n"
    }
   },
   "source": [
    "## Task 1.3\n",
    "The following numerical decoding will be user\n",
    "0 = sunny\n",
    "1 = overcast\n",
    "2 = rainy\n",
    "\n",
    "The transition matrix P is constructed such that:\n",
    "P(ij) is the probability that the weather changes from i to j where i is the weather today and j the weather tomorrow"
   ]
  },
  {
   "cell_type": "code",
   "execution_count": 4,
   "metadata": {
    "collapsed": false,
    "jupyter": {
     "outputs_hidden": false
    },
    "pycharm": {
     "name": "#%%\n"
    }
   },
   "outputs": [],
   "source": []
  },
  {
   "cell_type": "code",
   "execution_count": 5,
   "metadata": {
    "collapsed": false,
    "jupyter": {
     "outputs_hidden": false
    },
    "pycharm": {
     "name": "#%%\n"
    }
   },
   "outputs": [
    {
     "data": {
      "text/plain": [
       "array([[0, 0, 0, ..., 0, 0, 0],\n",
       "       [0, 0, 0, ..., 0, 0, 0],\n",
       "       [0, 0, 0, ..., 0, 0, 0],\n",
       "       ...,\n",
       "       [0, 0, 0, ..., 0, 0, 0],\n",
       "       [0, 0, 0, ..., 0, 0, 0],\n",
       "       [0, 0, 0, ..., 0, 0, 0]])"
      ]
     },
     "execution_count": 5,
     "metadata": {},
     "output_type": "execute_result"
    }
   ],
   "source": [
    "trajectories: np.array = np.zeros((190, 31)).astype(int)\n",
    "trajectories"
   ]
  },
  {
   "cell_type": "code",
   "execution_count": 6,
   "metadata": {
    "collapsed": false,
    "jupyter": {
     "outputs_hidden": false
    },
    "pycharm": {
     "name": "#%%\n"
    }
   },
   "outputs": [],
   "source": [
    "## generate vectorized function\n",
    "def step(x: np.array):\n",
    "    probs: np.array = np.array(transition_matrix[:, x])\n",
    "    random_number: float = np.random.uniform(0, 1)\n",
    "\n",
    "    if random_number <= np.sum(probs[0]):\n",
    "        return 0\n",
    "    elif random_number <= np.sum(probs[0:2]):\n",
    "        return 1\n",
    "    else:\n",
    "        return 2\n",
    "\n",
    "vectorized_step  = np.vectorize(step)\n",
    "## produce the simulation\n",
    "for i in range(1, trajectories.shape[1]):\n",
    "    x = trajectories[:, i-1]\n",
    "    trajectories[:, i] = vectorized_step(x)"
   ]
  },
  {
   "cell_type": "code",
   "execution_count": 7,
   "metadata": {
    "collapsed": false,
    "jupyter": {
     "outputs_hidden": false
    },
    "pycharm": {
     "name": "#%%\n"
    }
   },
   "outputs": [
    {
     "data": {
      "text/plain": [
       "array([[0, 0, 0, ..., 2, 2, 2],\n",
       "       [0, 2, 1, ..., 1, 2, 1],\n",
       "       [0, 1, 2, ..., 0, 0, 2],\n",
       "       ...,\n",
       "       [0, 0, 0, ..., 0, 1, 2],\n",
       "       [0, 1, 2, ..., 0, 2, 1],\n",
       "       [0, 1, 1, ..., 0, 2, 2]])"
      ]
     },
     "execution_count": 7,
     "metadata": {},
     "output_type": "execute_result"
    }
   ],
   "source": [
    "trajectories"
   ]
  },
  {
   "cell_type": "code",
   "execution_count": 32,
   "metadata": {
    "collapsed": false,
    "jupyter": {
     "outputs_hidden": false
    },
    "pycharm": {
     "name": "#%%\n"
    }
   },
   "outputs": [],
   "source": [
    "day_2: np.array = trajectories[:, 2]\n",
    "day_3: np.array = trajectories[:, 3]\n",
    "day_30: np.array = trajectories[:, 30]"
   ]
  },
  {
   "cell_type": "code",
   "execution_count": null,
   "outputs": [],
   "source": [
    "def plot_hist(x: np.array):\n",
    "    count_0: np.array = np.count_nonzero(x == 0)\n",
    "    count_1: np.array = np.count_nonzero(x == 1)\n",
    "    count_2: np.array = np.count_nonzero(x == 2)\n",
    "\n",
    "    p_0: float = round(count_0/len(x), 4)\n",
    "    p_1: float = round(count_1/len(x), 4)\n",
    "    p_2: float = round(count_2/len(x), 4)\n",
    "\n",
    "    assert count_0 + count_1 + count_2 == len(x)\n",
    "    x = [\"Sunny\", \"Overcast\", \"Rainy\"]\n",
    "    y = [p_0, p_1, p_2]\n",
    "    plt.bar(x, y)\n",
    "    for i in range(3):\n",
    "        plt.text(i, y[i], y[i], ha = 'center')"
   ],
   "metadata": {
    "collapsed": false,
    "pycharm": {
     "name": "#%%\n"
    }
   }
  },
  {
   "cell_type": "code",
   "execution_count": null,
   "outputs": [],
   "source": [
    "plot_hist(day_2)"
   ],
   "metadata": {
    "collapsed": false,
    "pycharm": {
     "name": "#%%\n"
    }
   }
  },
  {
   "cell_type": "code",
   "execution_count": null,
   "outputs": [],
   "source": [
    "plot_hist(day_3)"
   ],
   "metadata": {
    "collapsed": false,
    "pycharm": {
     "name": "#%%\n"
    }
   }
  },
  {
   "cell_type": "code",
   "execution_count": null,
   "outputs": [],
   "source": [
    "plot_hist(day_30)"
   ],
   "metadata": {
    "collapsed": false,
    "pycharm": {
     "name": "#%%\n"
    }
   }
  },
  {
   "cell_type": "code",
   "execution_count": null,
   "outputs": [],
   "source": [
    "from typing import List\n",
    "\n",
    "invariant_measure: List [float] = [round(6/19, 4), round(8/19, 4), round(5/19, 4)]\n",
    "x: List [str] = [\"Sunny\", \"Overcast\", \"Rainy\"]\n",
    "plt.bar(x, invariant_measure)\n",
    "for i in range(3):\n",
    "    plt.text(i, invariant_measure[i], invariant_measure[i], ha = 'center')"
   ],
   "metadata": {
    "collapsed": false,
    "pycharm": {
     "name": "#%%\n"
    }
   }
  },
  {
   "cell_type": "markdown",
   "source": [
    "    # Task 1.5"
   ],
   "metadata": {
    "collapsed": false,
    "pycharm": {
     "name": "#%% md\n"
    }
   }
  },
  {
   "cell_type": "code",
   "execution_count": 37,
   "metadata": {
    "collapsed": false,
    "jupyter": {
     "outputs_hidden": false
    },
    "pycharm": {
     "name": "#%%\n"
    }
   },
   "outputs": [
    {
     "name": "stdout",
     "output_type": "stream",
     "text": [
      "P: Rainy    = 0.40350877192982454\n",
      "P: Overcast = 0.5964912280701754\n"
     ]
    }
   ],
   "source": [
    "count_sunny_day_2: np.array = np.count_nonzero(day_2 == 0)\n",
    "count_overcast_day_2: np.array = np.count_nonzero(day_2 == 1) + count_sunny_day_2 * (2/3)\n",
    "count_count_rainy_day_2: np.array = np.count_nonzero(day_2 == 2) + count_sunny_day_2 * (1/3)\n",
    "\n",
    "p_rainy: float = count_count_rainy_day_2 / len(day_2)\n",
    "p_overc: float = count_overcast_day_2 / len(day_2)\n",
    "\n",
    "print(f\"P: Rainy    = {p_rainy}\")\n",
    "print(f\"P: Overcast = {p_overc}\")"
   ]
  },
  {
   "cell_type": "markdown",
   "metadata": {
    "pycharm": {
     "name": "#%% md\n"
    }
   },
   "source": [
    "## Task 1.6"
   ]
  },
  {
   "cell_type": "code",
   "execution_count": 45,
   "metadata": {
    "collapsed": false,
    "jupyter": {
     "outputs_hidden": false
    },
    "pycharm": {
     "name": "#%%\n"
    }
   },
   "outputs": [
    {
     "data": {
      "image/png": "[encoded data removed]",
      "text/plain": [
       "<Figure size 640x480 with 1 Axes>"
      ]
     },
     "metadata": {},
     "output_type": "display_data"
    }
   ],
   "source": [
    "def plot_hist_no_sun(d_2: np.array, d_3: np.array):\n",
    "    count_0: np.array = np.count_nonzero(d_3[d_2 != 0] == 0)\n",
    "    count_1: np.array = np.count_nonzero(d_3[d_2 != 0] == 1)\n",
    "    count_2: np.array = np.count_nonzero(d_3[d_2 != 0] == 2)\n",
    "\n",
    "    p_0: float = round(count_0/(count_0 + count_1 + count_2), 4)\n",
    "    p_1: float = round(count_1/(count_0 + count_1 + count_2), 4)\n",
    "    p_2: float = round(count_2/(count_0 + count_1 + count_2), 4)\n",
    "\n",
    "\n",
    "    x = [\"Sunny\", \"Overcast\", \"Rainy\"]\n",
    "    y = [p_0, p_1, p_2]\n",
    "    plt.bar(x, y)\n",
    "    for i in range(3):\n",
    "        plt.text(i, y[i], y[i], ha = 'center')\n",
    "\n",
    "plot_hist_no_sun(day_2, day_3)"
   ]
  },
  {
   "cell_type": "code",
   "execution_count": 46,
   "metadata": {
    "collapsed": false,
    "jupyter": {
     "outputs_hidden": false
    },
    "pycharm": {
     "name": "#%%\n"
    }
   },
   "outputs": [
    {
     "data": {
      "image/png": "[encoded data removed]",
      "text/plain": [
       "<Figure size 640x480 with 1 Axes>"
      ]
     },
     "metadata": {},
     "output_type": "display_data"
    }
   ],
   "source": [
    "plot_hist(day_3)"
   ]
  },
  {
   "cell_type": "code",
   "execution_count": null,
   "metadata": {
    "collapsed": false,
    "jupyter": {
     "outputs_hidden": false
    },
    "pycharm": {
     "name": "#%%\n"
    }
   },
   "outputs": [],
   "source": []
  }
 ],
 "metadata": {
  "kernelspec": {
   "display_name": "Python 3 (ipykernel)",
   "language": "python",
   "name": "python3"
  },
  "language_info": {
   "codemirror_mode": {
    "name": "ipython",
    "version": 3
   },
   "file_extension": ".py",
   "mimetype": "text/x-python",
   "name": "python",
   "nbconvert_exporter": "python",
   "pygments_lexer": "ipython3",
   "version": "3.11.3"
  }
 },
 "nbformat": 4,
 "nbformat_minor": 4
}