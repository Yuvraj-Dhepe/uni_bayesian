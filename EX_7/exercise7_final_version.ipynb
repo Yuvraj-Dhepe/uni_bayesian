{
 "cells": [
  {
   "cell_type": "code",
   "execution_count": 1,
   "metadata": {
    "collapsed": false,
<<<<<<< HEAD
    "jupyter": {
     "outputs_hidden": false
    },
=======
>>>>>>> d432bf208edfb2dd8f8390db5351f679e173f00d
    "pycharm": {
     "name": "#%%\n"
    }
   },
   "outputs": [],
   "source": [
    "import numpy as np\n",
    "import matplotlib.pyplot as plt\n",
    "from typing import List"
   ]
  },
  {
   "attachments": {},
   "cell_type": "markdown",
   "metadata": {
    "pycharm": {
     "name": "#%% md\n"
    }
   },
   "source": [
    "## Set up the transitionmatrix"
   ]
  },
  {
   "cell_type": "code",
   "execution_count": 2,
   "metadata": {
    "collapsed": false,
<<<<<<< HEAD
    "jupyter": {
     "outputs_hidden": false
    },
=======
>>>>>>> d432bf208edfb2dd8f8390db5351f679e173f00d
    "pycharm": {
     "name": "#%%\n"
    }
   },
   "outputs": [
    {
     "data": {
      "text/plain": [
       "array([[0.5       , 0.25      , 0.2       ],\n",
       "       [0.33333333, 0.5       , 0.4       ],\n",
       "       [0.16666667, 0.25      , 0.4       ]])"
      ]
     },
     "execution_count": 2,
     "metadata": {},
     "output_type": "execute_result"
    }
   ],
   "source": [
    "transition_matrix: np.array = np.array(\n",
    "    [ [1/2, 1/4, 1/5],\n",
    "      [1/3, 1/2, 2/5],\n",
    "      [1/6, 1/4, 2/5]]\n",
    ")\n",
    "transition_matrix"
   ]
  },
  {
<<<<<<< HEAD
   "cell_type": "markdown",
   "metadata": {
=======
   "attachments": {},
   "cell_type": "markdown",
   "metadata": {
    "collapsed": false,
>>>>>>> d432bf208edfb2dd8f8390db5351f679e173f00d
    "pycharm": {
     "name": "#%% md\n"
    }
   },
   "source": [
    "# Task 1.3\n",
    "The following numerical decoding will be used\n",
    "\n",
    "0 = sunny\n",
    "1 = overcast\n",
    "2 = rainy\n",
    "\n",
<<<<<<< HEAD
    "The transition matrix P is constructed such that: P(ij) is the probability that the weather changes from i to j where i is the weather\n",
    "today and j the weather tomorrow"
=======
    "The transition matrix P is constructed such that: P(ij)=P(tomorrow=i|today=j)."
>>>>>>> d432bf208edfb2dd8f8390db5351f679e173f00d
   ]
  },
  {
   "cell_type": "code",
   "execution_count": 3,
   "metadata": {
    "collapsed": false,
<<<<<<< HEAD
    "jupyter": {
     "outputs_hidden": false
    },
=======
>>>>>>> d432bf208edfb2dd8f8390db5351f679e173f00d
    "pycharm": {
     "name": "#%%\n"
    }
   },
   "outputs": [
    {
     "data": {
      "text/plain": [
       "(190, 31)"
      ]
     },
     "execution_count": 3,
     "metadata": {},
     "output_type": "execute_result"
    }
   ],
   "source": [
    "number_simulations: int = 190\n",
    "number_simulated_days: int = 30 + 1  # +1 since day 0 is always sunny and day one is at position [1]\n",
    "\n",
    "initial_trajectories: np.array = np.zeros((number_simulations, number_simulated_days)).astype(int)\n",
    "initial_trajectories.shape"
   ]
  },
  {
   "cell_type": "code",
   "execution_count": 4,
   "metadata": {
    "collapsed": false,
<<<<<<< HEAD
    "jupyter": {
     "outputs_hidden": false
    },
=======
>>>>>>> d432bf208edfb2dd8f8390db5351f679e173f00d
    "pycharm": {
     "name": "#%%\n"
    }
   },
   "outputs": [],
   "source": [
    "def sim_step(x: np.array) -> int:\n",
    "    \"\"\"\n",
    "    Produce one step in the simulation given x as the array of weather states in [0, 1, 2]\n",
    "    this function is applied on each element of the array x and will calculate the weahter for the next day using the transition probabilites given in\n",
    "    Transition matrix\n",
    "    :param x: [0|1|2]\n",
    "    :return: 0|1|2\n",
    "    \"\"\"\n",
    "    # get the transition probabilities for the given weather today\n",
    "    probs: np.array = np.array(transition_matrix[:, x])\n",
    "    return np.random.choice([0, 1, 2],p=probs)"
   ]
  },
  {
   "attachments": {},
   "cell_type": "markdown",
   "metadata": {
    "pycharm": {
     "name": "#%% md\n"
    }
   },
   "source": [
    "### Vectorize the sim step to apply it to each element of a vector"
   ]
  },
  {
   "cell_type": "code",
   "execution_count": 5,
   "metadata": {
    "collapsed": false,
    "jupyter": {
     "outputs_hidden": false
    },
    "pycharm": {
     "name": "#%%\n"
    }
   },
   "outputs": [],
   "source": [
    "vectorized_step  = np.vectorize(sim_step)"
   ]
  },
  {
   "attachments": {},
   "cell_type": "markdown",
   "metadata": {
    "pycharm": {
     "name": "#%% md\n"
    }
   },
   "source": [
    "### Produce the simulation"
   ]
  },
  {
   "cell_type": "code",
   "execution_count": 6,
   "metadata": {
    "collapsed": false,
<<<<<<< HEAD
    "jupyter": {
     "outputs_hidden": false
    },
=======
>>>>>>> d432bf208edfb2dd8f8390db5351f679e173f00d
    "pycharm": {
     "name": "#%%\n"
    }
   },
   "outputs": [],
   "source": [
    "trajectories: np.array = initial_trajectories\n",
    "\n",
    "for i in range(1, number_simulated_days):\n",
    "    trajectories[:, i] = vectorized_step(trajectories[:, i-1])"
   ]
  },
  {
   "cell_type": "code",
   "execution_count": 7,
   "metadata": {
    "collapsed": false,
<<<<<<< HEAD
    "jupyter": {
     "outputs_hidden": false
    },
=======
>>>>>>> d432bf208edfb2dd8f8390db5351f679e173f00d
    "pycharm": {
     "name": "#%%\n"
    }
   },
   "outputs": [
    {
     "data": {
      "text/plain": [
<<<<<<< HEAD
       "array([[0, 1, 2, ..., 0, 2, 2],\n",
       "       [0, 2, 2, ..., 1, 1, 1],\n",
       "       [0, 1, 1, ..., 1, 0, 1],\n",
       "       ...,\n",
       "       [0, 1, 2, ..., 1, 1, 2],\n",
       "       [0, 0, 0, ..., 2, 2, 2],\n",
       "       [0, 1, 2, ..., 0, 0, 1]])"
=======
       "array([[0, 0, 0, ..., 2, 0, 0],\n",
       "       [0, 0, 1, ..., 1, 0, 2],\n",
       "       [0, 0, 0, ..., 0, 1, 2],\n",
       "       ...,\n",
       "       [0, 0, 2, ..., 1, 2, 0],\n",
       "       [0, 2, 1, ..., 1, 2, 1],\n",
       "       [0, 0, 0, ..., 2, 0, 0]])"
>>>>>>> d432bf208edfb2dd8f8390db5351f679e173f00d
      ]
     },
     "execution_count": 7,
     "metadata": {},
     "output_type": "execute_result"
    }
   ],
   "source": [
    "trajectories"
   ]
  },
  {
   "cell_type": "code",
   "execution_count": 8,
   "metadata": {
    "collapsed": false,
<<<<<<< HEAD
    "jupyter": {
     "outputs_hidden": false
    },
=======
>>>>>>> d432bf208edfb2dd8f8390db5351f679e173f00d
    "pycharm": {
     "name": "#%%\n"
    }
   },
   "outputs": [],
   "source": [
    "def plot_hist(days: List[np.array]):\n",
    "    # for comparison\n",
    "    invariant_measure: List [float] = [round(6/19, 4), round(8/19, 4), round(5/19, 4)]\n",
    "\n",
    "    fig, axes = plt.subplots(1, 4)\n",
    "    fig.set_size_inches(18.5, 6)\n",
    "    x = [\"Sunny\", \"Overcast\", \"Rainy\"]\n",
    "    titles = [\"2\", \"3\", \"30\"]\n",
    "    for day, ax, title in zip(days, axes, titles):\n",
    "        count_0: np.array = np.count_nonzero(day == 0) # Sunny\n",
    "        count_1: np.array = np.count_nonzero(day == 1) # overcast\n",
    "        count_2: np.array = np.count_nonzero(day == 2) # rainy\n",
    "\n",
    "        p_0: float = round(count_0/len(day), 4)\n",
    "        p_1: float = round(count_1/len(day), 4)\n",
    "        p_2: float = round(count_2/len(day), 4)\n",
    "\n",
    "        y = [p_0, p_1, p_2]\n",
    "        ax.bar(x, y)\n",
    "        ax.set_title(f\"Distribution after {title} Days\")\n",
    "        for i in range(3):\n",
    "            ax.text(i, y[i], y[i], ha = 'center')\n",
    "\n",
    "    # set the invariant measure\n",
    "    axes[3].bar(x, invariant_measure)\n",
    "    axes[3].set_title(\"Invariant Measure\")\n",
    "    for i in range(3):\n",
    "        plt.text(i, invariant_measure[i], invariant_measure[i], ha = 'center')"
   ]
  },
  {
   "cell_type": "code",
   "execution_count": 9,
   "metadata": {
    "collapsed": false,
<<<<<<< HEAD
    "jupyter": {
     "outputs_hidden": false
    },
=======
>>>>>>> d432bf208edfb2dd8f8390db5351f679e173f00d
    "pycharm": {
     "name": "#%%\n"
    }
   },
   "outputs": [
    {
     "data": {
<<<<<<< HEAD
      "image/png": "iVBORw0KGgoAAAANSUhEUgAABdYAAAIQCAYAAACMmjzsAAAAOXRFWHRTb2Z0d2FyZQBNYXRwbG90bGliIHZlcnNpb24zLjYuMiwgaHR0cHM6Ly9tYXRwbG90bGliLm9yZy8o6BhiAAAACXBIWXMAAA9hAAAPYQGoP6dpAACi4UlEQVR4nOzdeVhV1f7H8Q9DDIICikzGlUFLLZGSRMuxECjLoUy0biqVlsbNosxIhUQNNTNuZXKvU06lv0rNslBDqUzS0sjqqjdNNAdwSghSMNi/P7ycPALKQUCC9+t59vN41l5r7bUO+uX4PXutbWUYhiEAAAAAAAAAAFAp1ld7AAAAAAAAAAAA/JWQWAcAAAAAAAAAwAIk1gEAAAAAAAAAsACJdQAAAAAAAAAALEBiHQAAAAAAAAAAC5BYBwAAAAAAAADAAiTWAQAAAAAAAACwAIl1AAAAAAAAAAAsQGIdAAAAAAAAAAALkFivp1588UVZWVnVyrV69uypnj17ml6np6fLyspK7733Xq1cf/jw4fLz86uVa1VVfn6+Hn30UXl5ecnKykpPPfXU1R4SgL8Y4nrdQlwHYAlieN1CDAcAy2VlZcnKykpvvfXW1R4KUGeQWP8LeOutt2RlZWU6HBwc5OPjo4iICL322mv67bffquU6R44c0YsvvqjMzMxq6a861eWxVcZLL72kt956S6NGjdKSJUv00EMPacuWLXrxxRd1+vTpWhtHWlqaHn74YV133XVq1KiRAgIC9Oijj+ro0aOVaj98+HCzv4vOzs4KCAjQwIED9f7776ukpKSGZwDUD8T1uj22yqgrcf3zzz9X37595evrKwcHB3l5eSkyMlJffvllpdoT1wHLEcPr9tgq468aw7ds2aKuXbuqUaNG8vLy0pNPPqn8/PzLXqc0GVZ6XHPNNXJ3d9ett96qF154QQcPHqzuqQGwQOnvlW+++eZqD6VOeOmll7R69epK1b0wvk2ZMqXcOg8++KDpcy5Q3Wyv9gBQeYmJifL399e5c+eUnZ2t9PR0PfXUU5o1a5bWrFmjoKAgU90JEybo+eeft6j/I0eOaNKkSfLz81NwcHCl261fv96i61TFpcY2d+7cOv8f/40bN6pz585KSEgwlc2cOVOTJk3S8OHD5erqWivjGDdunE6dOqX7779frVu31s8//6w33nhDH330kTIzM+Xl5XXZPuzt7TVv3jxJ0pkzZ3TgwAF9+OGHGjhwoHr27KkPPvhATZo0qempAPUCcZ24fqX++9//ytraWo8//ri8vLz066+/aunSperevbvWrl2ryMjIy/ZBXAeqhhhODL9SlsTwzMxM3XHHHWrbtq1mzZqlQ4cOaebMmfrpp5/0ySefVOp6Q4YM0V133aWSkhL9+uuv+vrrr5WcnKx//vOfmj9/vgYPHlxTUwVQD7Rs2VJnzpzRNddcU6PXeemllzRw4ED179+/0m0cHBz0zjvvaMKECWblBQUF+uCDD+Tg4FDNowTOI7H+F3LnnXcqJCTE9DouLk4bN27U3Xffrb59+2rXrl1ydHSUJNna2srWtmZ/vL///rsaNWokOzu7Gr3O5dR0UK8Ox44dU7t27WrlWqU/l/LMmjVLXbt2lbX1n4tVIiMj1aNHD73xxhsVfsN7IVtbW/397383K5syZYqmTZumuLg4jRgxQitWrLiySQANBHG9fMR1c5eK648++qgeffRRs7LRo0crICBAycnJlUqsE9eBqiGGl48Ybq66YvgLL7wgNzc3paenm77s9PPz04gRI7R+/XqFh4dfdiw333xzmXh/4MABhYeHa9iwYWrbtq06dOhg6RQB1HN//PGHSkpKZGdnV2cT1HfddZdWrlyp7777ziyOffDBByoqKlJkZKQ2btx4FUd45c6ePSs7OzuzfA6uPn4af3G33367Jk6cqAMHDmjp0qWm8vL2cdywYYO6du0qV1dXOTs76/rrr9cLL7wg6fzei7fccoskKTo62rSUpnTvrJ49e+rGG2/U9u3b1b17dzVq1MjU9uJ9HEsVFxfrhRdekJeXl5ycnNS3b1/98ssvZnX8/Pw0fPjwMm0v7PNyYytvH8eCggI988wz8vX1lb29va6//nrNnDlThmGY1bOyslJMTIxWr16tG2+8Ufb29rrhhhuUmppa/ht+gaKiIsXHx6tjx45ycXGRk5OTunXrpk2bNpnqlO5puX//fq1du9Y09uHDh2vs2LGSJH9/f1N5VlaWqe3SpUvVsWNHOTo6qmnTpho8eHCZ9+9SP5fydO/evUwQ7t69u5o2bapdu3Zdds6X8vzzzys8PFzvvvuu/vvf/5rKP/jgA/Xp00c+Pj6yt7dXYGCgJk+erOLiYlOdhIQEXXPNNTp+/HiZfkeOHClXV1edPXtWkvTNN98oIiJC7u7ucnR0lL+/vx5++OErGjtQlxDXieuWxPXyNGrUSM2bN7/i7QyI64DliOHE8JqI4Xl5edqwYYP+/ve/m60gGjp0qJydnfV///d/Fl3jQi1bttRbb72loqIizZgxw1R+6tQpPfvss2rfvr2cnZ3VpEkT3Xnnnfruu+9MdfLz8+Xk5KQxY8aU6ffQoUOysbFRUlKSJOncuXOaNGmSWrduLQcHBzVr1kxdu3bVhg0bqjx2oD4bPny4nJ2ddfjwYfXv31/Ozs5q3ry5nn32WdNnrnPnzqlp06aKjo4u0z4vL08ODg569tlnJVUuRkp/bq0yc+ZMJScnKzAwUPb29vrPf/5T7h7rO3fu1PDhwxUQEGDa0urhhx/WyZMnzfot/T24d+9e08ogFxcXRUdH6/fffzfVs7KyUkFBgRYtWmQWoy+nS5cu8vf319tvv21WvmzZMkVGRqpp06bltvvkk0/UrVs3OTk5qXHjxurTp49+/PFHszqVneNvv/2mp556Sn5+frK3t5eHh4d69+6tHTt2mOpU5ves9Ofvq+XLl2vChAlq0aKFGjVqpLy8PEnS1q1bFRkZKRcXFzVq1Eg9evSo9FaQqF7csV4PPPTQQ3rhhRe0fv16jRgxotw6P/74o+6++24FBQUpMTFR9vb22rt3r+kfXtu2bZWYmKj4+HiNHDlS3bp1kyTdeuutpj5OnjypO++8U4MHD9bf//53eXp6XnJcU6dOlZWVlcaNG6djx44pOTlZYWFhyszMNN29UxmVGduFDMNQ3759tWnTJj3yyCMKDg7WunXrNHbsWB0+fFivvvqqWf3Nmzdr5cqVGj16tBo3bqzXXntN9913nw4ePKhmzZpVOK68vDzNmzdPQ4YM0YgRI/Tbb79p/vz5ioiI0LZt2xQcHKy2bdtqyZIlevrpp3XttdfqmWeekSS1b99eRUVFeuedd/Tqq6/K3d1dktS8eXPTezdx4kQNGjRIjz76qI4fP67XX39d3bt317fffmu2PNXSn8vF8vPzlZ+fbxrDlXjooYe0fv16bdiwQdddd52k8/vFOTs7KzY2Vs7Oztq4caPi4+OVl5enl19+2dQuMTFRK1asUExMjKm/oqIivffee7rvvvvk4OCgY8eOKTw8XM2bN9fzzz8vV1dXZWVlaeXKlVc8dqAuIa6bI65fPq7n5eWpqKhIJ06c0OLFi/XDDz9YnMwpD3EdsBwx3Bwx/Mpj+Pfff68//vjDbIWEJNnZ2Sk4OFjffvvtZa9xKV26dFFgYKBZkvvnn3/W6tWrdf/998vf3185OTn617/+pR49eug///mPfHx85OzsrAEDBmjFihWaNWuWbGxsTO3feecdGYahBx98UNL5pFpSUpIeffRRderUSXl5efrmm2+0Y8cO9e7d+4rGD9RXxcXFioiIUGhoqGbOnKlPP/1Ur7zyigIDAzVq1Chdc801GjBggFauXKl//etfZiuWVq9ercLCQtMWT5WJkRdauHChzp49q5EjR8re3l5NmzYtd5uvDRs26Oeff1Z0dLS8vLz0448/6t///rd+/PFHffXVV2W+VB40aJD8/f2VlJSkHTt2aN68efLw8ND06dMlSUuWLDHFiZEjR0qSAgMDK/V+DRkyREuXLtW0adNkZWWlEydOaP369VqyZEm5X9AuWbJEw4YNU0REhKZPn67ff/9dc+bMUdeuXfXtt9+aviSu7Bwff/xxvffee4qJiVG7du108uRJbd68Wbt27dLNN99cqTlcbPLkybKzs9Ozzz6rwsJC2dnZaePGjbrzzjvVsWNHJSQkyNraWgsXLtTtt9+uL774Qp06darStVBFBuq8hQsXGpKMr7/+usI6Li4uxk033WR6nZCQYFz443311VcNScbx48cr7OPrr782JBkLFy4sc65Hjx6GJCMlJaXccz169DC93rRpkyHJaNGihZGXl2cq/7//+z9DkvHPf/7TVNayZUtj2LBhl+3zUmMbNmyY0bJlS9Pr1atXG5KMKVOmmNUbOHCgYWVlZezdu9dUJsmws7MzK/vuu+8MScbrr79e5loX+uOPP4zCwkKzsl9//dXw9PQ0Hn74YbPyli1bGn369DEre/nllw1Jxv79+83Ks7KyDBsbG2Pq1Klm5d9//71ha2trVn6pn0tlTZ482ZBkpKWlXbbusGHDDCcnpwrPf/vtt4Yk4+mnnzaV/f7772XqPfbYY0ajRo2Ms2fPmsq6dOlihIaGmtVbuXKlIcnYtGmTYRiGsWrVqsv+WwD+CojrxHXDqN64HhERYUgyzf+xxx4zzpw5c9l2xHXAcsRwYrhh1G4Mf/fddw1Jxueff16m7f333294eXldsv/9+/cbkoyXX365wjr9+vUzJBm5ubmGYRjG2bNnjeLi4jL92NvbG4mJiaaydevWGZKMTz75xKxuUFCQ2d+ZDh06lHnPAZxX3u+VYcOGGZLM/r0ZhmHcdNNNRseOHU2vS/8Nfvjhh2b17rrrLiMgIMD0urIxsjReNGnSxDh27JhZ/dJzF8b+8j4XvvPOO2ViVunvwYvj8YABA4xmzZqZlTk5OZX7u6g8F8a3H374wZBkfPHFF4ZhGMbs2bMNZ2dno6CgoMxn3t9++81wdXU1RowYYdZfdna24eLiYlZe2Tm6uLgYTzzxxCXHW9nfs6W/uwMCAsyuX1JSYrRu3dqIiIgwSkpKzMbo7+9v9O7d+5LXR/VjK5h6wtnZWb/99luF50vvovjggw+q/DAhe3v7cpcYVWTo0KFq3Lix6fXAgQPl7e2tjz/+uErXr6yPP/5YNjY2evLJJ83Kn3nmGRmGUebhPmFhYWbfgAYFBalJkyb6+eefL3kdGxsb0zfCJSUlOnXqlOlOkguX+lhq5cqVKikp0aBBg3TixAnT4eXlpdatW5dZqmXpz+VCn3/+uSZNmqRBgwbp9ttvr/KYS5U+ZfvCv4sX3gH122+/6cSJE+rWrZt+//137d6923Ru6NCh2rp1q/bt22cqW7ZsmXx9fdWjRw9Jf/49/uijj3Tu3LkrHi9QlxHX/0Rcv7xp06Zp/fr1mj9/vjp37qyioiL98ccfVR5zKeI6UDXE8D8Rwy/vcjH8zJkzpr4v5uDgYDp/JS6O9/b29qYtJIuLi3Xy5EnTlkUXvp9hYWHy8fHRsmXLTGU//PCDdu7cabafu6urq3788Uf99NNPVzxWoCF5/PHHzV5369bNLB7efvvtcnd3N3sezq+//qoNGzYoKirKVGZpjLzvvvtMq3Yu5cLPhWfPntWJEyfUuXNnSSq33/Lmc/LkSdMWJ1fihhtuUFBQkN555x1J0ttvv61+/fqV+5yLDRs26PTp0xoyZIhZbLexsVFoaKhZbK/sHF1dXbV161YdOXLkiudSatiwYWbXz8zM1E8//aQHHnhAJ0+eNI27oKBAd9xxhz7//PM6/wDx+obEej2Rn59v9kH5YlFRUbrtttv06KOPytPTU4MHD9b//d//WfQPrkWLFhY9DKl169Zmr62srNSqVSuzvQprwoEDB+Tj41Pm/Wjbtq3p/IX+9re/lenDzc1Nv/7662WvtWjRIgUFBZn2CWzevLnWrl2r3NzcKo//p59+kmEYat26tZo3b2527Nq1S8eOHTOrb+nPpdTu3bs1YMAA3XjjjZo3b16Vx3uh/Px8STJ773/88UcNGDBALi4uatKkiZo3b276kH3h+xQVFSV7e3vTh/Lc3Fx99NFHevDBB01Lq3r06KH77rtPkyZNkru7u/r166eFCxeqsLCwWsYP1CXE9T8R1y8vODhYvXv31sMPP6wNGzZo27ZtldqP8nKI60DVEMP/RAy/vMvF8NKkSnmx8ezZsxZt5VORi+N9SUmJXn31VbVu3Vr29vZyd3dX8+bNtXPnTrP309raWg8++KBWr15t2id52bJlcnBw0P3332+ql5iYqNOnT+u6665T+/btNXbsWO3cufOKxw3UZw4ODmWS2xfHQ1tbW91333364IMPTDFi5cqVOnfunFliXbIsRvr7+1dqjKdOndKYMWPk6ekpR0dHNW/e3NS2vH4vjvFubm6SVKkYXxkPPPCA3n33Xe3du1dbtmzRAw88UG690i/5br/99jKxff369WaxvbJznDFjhn744Qf5+vqqU6dOevHFFy/7pfDlXPxzKB33sGHDyox73rx5KiwsvKLfebAce6zXA4cOHVJubq5atWpVYR1HR0d9/vnn2rRpk9auXavU1FStWLFCt99+u9avX2+2H96l+qhuF++3Vaq4uLhSY6oOFV3HuOhhShdbunSphg8frv79+2vs2LHy8PAwPaDnwrvzLFVSUiIrKyt98skn5Y6t9G6SUlX5ufzyyy8KDw+Xi4uLPv7440v+x88SP/zwgySZ/i6ePn1aPXr0UJMmTZSYmKjAwEA5ODhox44dGjdunNl/Ht3c3HT33Xdr2bJlio+P13vvvafCwkKzO12srKz03nvv6auvvtKHH36odevW6eGHH9Yrr7yir776qsx7A/xVEdevTEOM6xeys7NT3759NW3aNJ05c+aK+iOuA5Yjhl8ZYnjZGO7t7S1JOnr0aJn6R48elY+PzxVdUzof7z08PEwPR33ppZc0ceJEPfzww5o8ebKaNm0qa2trPfXUU2W+ABo6dKhefvllrV69WkOGDNHbb7+tu+++Wy4uLqY63bt31759+/TBBx9o/fr1mjdvnl599VWlpKTo0UcfveLxA/VRZePu4MGD9a9//UuffPKJ+vfvr//7v/9TmzZt1KFDB1MdS2NkZWPZoEGDtGXLFo0dO1bBwcFydnZWSUmJIiMjy/2yuKoxvrKGDBmiuLg4jRgxQs2aNVN4eHi59UrHtmTJEnl5eZU5b2v7Z7q0snMcNGiQunXrplWrVmn9+vV6+eWXNX36dK1cuVJ33nmnJMt/z178cyi93ssvv1xmX/xSfH6uXSTW64ElS5ZIkiIiIi5Zz9raWnfccYfuuOMOzZo1Sy+99JLGjx+vTZs2KSwsrMJ/4FV18TI/wzC0d+9eBQUFmcrc3NzMnnhf6sCBAwoICDC9tmRsLVu21KeffqrffvvNLGFcujy9ZcuWle7rUt577z0FBARo5cqVZuNLSEioVPuK5hQYGCjDMOTv7296UFx1OnnypMLDw1VYWKi0tDTTB/XqsGTJEllZWZkeQJSenq6TJ09q5cqV6t69u6ne/v37y20/dOhQ9evXT19//bWWLVumm266STfccEOZep07d1bnzp01depUvf3223rwwQe1fPlyPpSj3iCumyOuW+7MmTMyDEO//fbbFSV5iOuA5Yjh5ojhlrs4ht94442ytbXVN998o0GDBpnqFRUVKTMz06ysKjIyMrRv3z6zLz7fe+899erVS/Pnzzere/r0adPDXUvdeOONuummm7Rs2TJde+21OnjwoF5//fUy12natKmio6MVHR2t/Px8de/eXS+++CKxHrhC3bt3l7e3t1asWKGuXbtq48aNGj9+vFmdK42R5fn111+VlpamSZMmKT4+3lR+pVs+Xcnvv7/97W+67bbblJ6erlGjRpklyC9UuuWYh4eHwsLCKuzP0jl6e3tr9OjRGj16tI4dO6abb75ZU6dONSXWK/t7tiKl427SpMklx43aw1Ywf3EbN27U5MmT5e/vb3rienlOnTpVpqz0263S5UJOTk6SVO4/8qpYvHix2d6S7733no4ePWoKKNL5oPDVV1+pqKjIVPbRRx/pl19+MevLkrHdddddKi4u1htvvGFW/uqrr8rKysrs+lei9NvEC79Z3bp1qzIyMirVvqI53XvvvbKxsdGkSZPKfGtrGIZOnjxZ5TEXFBTorrvu0uHDh/Xxxx+XWRJ8JUr3hoyKijL1W957VFRUpDfffLPcPu688065u7tr+vTp+uyzz8w+3Evnf6ld/J5c/PcY+KsjrpdFXK/YxVsQlF7//fffl6+vrzw8PKrcN3EdsBwxvCxieMUqG8NdXFwUFhampUuXmv0MlyxZovz8fLMtVyx14MABDR8+XHZ2dho7dqyp3MbGpsx83333XR0+fLjcfh566CGtX79eycnJatasWZmf68Xvk7Ozs1q1akWsB6qBtbW1Bg4cqA8//FBLlizRH3/8UWYbmCuNkeUpr09JSk5OrnKf0vl4fCW/+6ZMmaKEhAT94x//qLBORESEmjRpopdeeqnc5/wcP35cUuXnWFxcXGYLFg8PD/n4+JjFucr+nq1Ix44dFRgYqJkzZ5q28Cpv3Kg93LH+F/LJJ59o9+7d+uOPP5STk6ONGzdqw4YNatmypdasWSMHB4cK2yYmJurzzz9Xnz591LJlSx07dkxvvvmmrr32WnXt2lXS+X/grq6uSklJUePGjeXk5KTQ0NBK7611saZNm6pr166Kjo5WTk6OkpOT1apVK40YMcJU59FHH9V7772nyMhIDRo0SPv27dPSpUvNHlhk6djuuece9erVS+PHj1dWVpY6dOig9evX64MPPtBTTz1Vpu+quvvuu7Vy5UoNGDBAffr00f79+5WSkqJ27dqVG+Au1rFjR0nS+PHjNXjwYF1zzTW65557FBgYqClTpiguLk5ZWVnq37+/GjdurP3792vVqlUaOXKknn322SqN+cEHH9S2bdv08MMPa9euXdq1a5fpnLOzs/r373/ZPv744w8tXbpU0vk9HQ8cOKA1a9Zo586d6tWrl/7973+b6t56661yc3PTsGHD9OSTT8rKykpLliypcJnXNddco8GDB+uNN96QjY2NhgwZYnZ+0aJFevPNNzVgwAAFBgbqt99+09y5c9WkSRPdddddVXhHgKuLuE5cv9K4fuedd+raa69VaGioPDw8dPDgQS1cuFBHjhwxe4jVpRDXgaohhhPDazOGT506Vbfeeqt69OihkSNH6tChQ3rllVcUHh6uyMjISl1vx44dWrp0qUpKSnT69Gl9/fXXev/9902x/MLVC3fffbcSExMVHR2tW2+9Vd9//72WLVtW4R2VDzzwgJ577jmtWrVKo0aN0jXXXGN2vl27durZs6c6duyopk2b6ptvvtF7772nmJgYC981AOWJiorS66+/roSEBLVv3970HItSVxojy9OkSRN1795dM2bM0Llz59SiRQutX7++wpWMldWxY0d9+umnmjVrlnx8fOTv76/Q0NBKt+/Ro4d69Ohx2bHPmTNHDz30kG6++WYNHjxYzZs318GDB7V27VrddttteuONNyo9x99++03XXnutBg4cqA4dOsjZ2Vmffvqpvv76a73yyiumepX9PVsRa2trzZs3T3feeaduuOEGRUdHq0WLFjp8+LA2bdqkJk2a6MMPP6z0e4VqYKDOW7hwoSHJdNjZ2RleXl5G7969jX/+859GXl5emTYJCQnGhT/etLQ0o1+/foaPj49hZ2dn+Pj4GEOGDDH++9//mrX74IMPjHbt2hm2traGJGPhwoWGYRhGjx49jBtuuKHc8fXo0cPo0aOH6fWmTZsMScY777xjxMXFGR4eHoajo6PRp08f48CBA2Xav/LKK0aLFi0Me3t747bbbjO++eabMn1eamzDhg0zWrZsaVb3t99+M55++mnDx8fHuOaaa4zWrVsbL7/8slFSUmJWT5LxxBNPlBlTy5YtjWHDhpU731IlJSXGSy+9ZLRs2dKwt7c3brrpJuOjjz4qdzwtW7Y0+vTpU6aPyZMnGy1atDCsra0NScb+/ftN595//32ja9euhpOTk+Hk5GS0adPGeOKJJ4w9e/aY6lzq51Keli1bmv1duvC4eMzlGTZsmFmbRo0aGX5+fsZ9991nvPfee0ZxcXGZNl9++aXRuXNnw9HR0fDx8TGee+45Y926dYYkY9OmTWXqb9u2zZBkhIeHlzm3Y8cOY8iQIcbf/vY3w97e3vDw8DDuvvtu45tvvqn0ewDUBcT1S4+NuF75uP7GG28YXbt2Ndzd3Q1bW1ujefPmxj333GN8/vnnlWpPXAcsRwy/9NiI4TUXw7/44gvj1ltvNRwcHIzmzZsbTzzxRLl/3y62f/9+s7+ztra2RtOmTY3Q0FAjLi6u3L8HZ8+eNZ555hnD29vbcHR0NG677TYjIyOj3L8Lpe666y5DkrFly5Yy56ZMmWJ06tTJcHV1NRwdHY02bdoYU6dONYqKii47fqC+K/298vXXX5vKhg0bZjg5OZWpe/Hvk1IlJSWGr6+vIcmYMmVKuecrEyNL48XLL79cpo/Sc6Xx3jAM49ChQ8aAAQMMV1dXw8XFxbj//vuNI0eOGJKMhISEMuM+fvx4uXO/MN7u3r3b6N69u+Ho6GhIumT8v9R4L1TR+7lp0yYjIiLCcHFxMRwcHIzAwEBj+PDhZp9FKzPHwsJCY+zYsUaHDh2Mxo0bG05OTkaHDh2MN998s8w1K/N7tvR397vvvlvufL799lvj3nvvNZo1a2bY29sbLVu2NAYNGmSkpaVd8n1A9bMyjGp6QgAAVIPvvvtOwcHBWrx4sR566KGrPRwAwBUirgNAwzBgwAB9//332rt379UeCgAAtYI91gHUKXPnzpWzs7Puvffeqz0UAEA1IK4DQP139OhRrV27li9QAQANCnusA6gTPvzwQ/3nP//Rv//9b8XExJgeIAUA+GsirgNA/bd//359+eWXmjdvnq655ho99thjV3tIAADUGraCAVAn+Pn5KScnRxEREVqyZIkaN258tYcEALgCxHUAqP/eeustRUdH629/+5teeeUVDRw48GoPCQCAWkNiHQAAAAAAAAAAC7DHOgAAAAAAAAAAFiCxDgAAAAAAAACABerFw0tLSkp05MgRNW7cWFZWVld7OABQbQzD0G+//SYfHx9ZWzec70KJ6wDqq4Ya1yViO4D6ibhOXAdQv1gS1+tFYv3IkSPy9fW92sMAgBrzyy+/6Nprr73aw6g1xHUA9V1Di+sSsR1A/UZcB4D6pTJxvV4k1hs3bizp/ISbNGlylUcDANUnLy9Pvr6+pjjXUBDXAdRXDTWuS8R2APUTcZ24DqB+sSSu14vEeumSoyZNmhDMAdRLDW1pJXEdQH3X0OK6RGwHUL8R14nrAOqXysT1hrUBGAAAAAAAAAAAV4jEOgAAAAAAAAAAFiCxDgAAAAAAAACABUisAwA0e/Zs+fn5ycHBQaGhodq2bVul2i1fvlxWVlbq37+/WblhGIqPj5e3t7ccHR0VFhamn376qQZGDgAAAAAAUPtIrANAA7dixQrFxsYqISFBO3bsUIcOHRQREaFjx45dsl1WVpaeffZZdevWrcy5GTNm6LXXXlNKSoq2bt0qJycnRURE6OzZszU1DQAAAAAAgFpDYh0AGrhZs2ZpxIgRio6OVrt27ZSSkqJGjRppwYIFFbYpLi7Wgw8+qEmTJikgIMDsnGEYSk5O1oQJE9SvXz8FBQVp8eLFOnLkiFavXl3DswEAAAAAAKh5JNYBoAErKirS9u3bFRYWZiqztrZWWFiYMjIyKmyXmJgoDw8PPfLII2XO7d+/X9nZ2WZ9uri4KDQ0tMI+CwsLlZeXZ3YAAAAAAADUVSTWAaABO3HihIqLi+Xp6WlW7unpqezs7HLbbN68WfPnz9fcuXPLPV/azpI+k5KS5OLiYjp8fX0tnQoAAAAAAECtIbEOAKi03377TQ899JDmzp0rd3f3aus3Li5Oubm5puOXX36ptr4BAAAAAACqG4l1oByzZ8+Wn5+fHBwcFBoaqm3btlWq3fLly2VlZaX+/fvX7ACBauLu7i4bGxvl5OSYlefk5MjLy6tM/X379ikrK0v33HOPbG1tZWtrq8WLF2vNmjWytbXVvn37TO0q26ck2dvbq0mTJmYHUBFLYvTKlSsVEhIiV1dXOTk5KTg4WEuWLDGrk5+fr5iYGF177bVydHQ0PWvgQvv27dOAAQPUvHlzNWnSRIMGDSrzd9zPz09WVlZmx7Rp06pv4gBQT1XnZ+9z585p3Lhxat++vZycnOTj46OhQ4fqyJEjZm2nTp2qW2+9VY0aNZKrq2u5/T/55JPq2LGj7O3tFRwcXMXZAUDDQ1xHQ0FiHbjIihUrFBsbq4SEBO3YsUMdOnRQRESEjh07dsl2WVlZevbZZ9WtW7daGilw5ezs7NSxY0elpaWZykpKSpSWlqYuXbqUqd+mTRt9//33yszMNB19+/ZVr169lJmZKV9fX/n7+8vLy8usz7y8PG3durXcPgFLWBqjmzZtqvHjxysjI0M7d+5UdHS0oqOjtW7dOlOd2NhYpaamaunSpdq1a5eeeuopxcTEaM2aNZKkgoIChYeHy8rKShs3btSXX36poqIi3XPPPSopKTG7XmJioo4ePWo6/vGPf9TcmwEA9UB1f/b+/ffftWPHDk2cOFE7duzQypUrtWfPHvXt29esXlFRke6//36NGjXqktd5+OGHFRUVVbXJAUADRFxHg2LUA7m5uYYkIzc392oPBfVAp06djCeeeML0uri42PDx8TGSkpIqbPPHH38Yt956qzFv3jxj2LBhRr9+/WphpGgIaiO+LV++3LC3tzfeeust4z//+Y8xcuRIw9XV1cjOzjYMwzAeeugh4/nnn6+wfXl/56dNm2a4uroaH3zwgbFz506jX79+hr+/v3HmzJlKjYm4jopUJUZf7KabbjImTJhgen3DDTcYiYmJZnVuvvlmY/z48YZhGMa6desMa2trs7+Pp0+fNqysrIwNGzaYylq2bGm8+uqrlk4JDUxDjm8Nee6oWG189t62bZshyThw4ECZcwsXLjRcXFwu2T4hIcHo0KHDJeug4WrIsa0hzx0VI67jr86S2MYd68AFioqKtH37doWFhZnKrK2tFRYWpoyMjArbJSYmysPDQ4888khtDBOoVlFRUZo5c6bi4+MVHByszMxMpaammh4+evDgQR09etSiPp977jn94x//0MiRI3XLLbcoPz9fqampcnBwqIkpoIGoaowuZRiG0tLStGfPHnXv3t1Ufuutt2rNmjU6fPiwDMPQpk2b9N///lfh4eGSpMLCQllZWcne3t7UxsHBQdbW1tq8ebPZNaZNm6ZmzZrppptu0ssvv6w//vjjSqcNAPVWbX32zs3NlZWVVYVbAwAAqgdxHQ2N7dUeAFCXnDhxQsXFxaaEYilPT0/t3r273DabN2/W/PnzlZmZWQsjBGpGTEyMYmJiyj2Xnp5+ybZvvfVWmTIrKyslJiYqMTGxGkYHnFeVGC2d/+DdokULFRYWysbGRm+++aZ69+5tOv/6669r5MiRuvbaa2Vraytra2vNnTvXlHzv3LmznJycNG7cOL300ksyDEPPP/+8iouLzb50evLJJ3XzzTeradOm2rJli+Li4nT06FHNmjWrmt8JAKgfauOz99mzZzVu3DgNGTKEZ7gAQA0jrqOhIbEOXIHffvtNDz30kObOnSt3d/erPRwAQDkaN26szMxM5efnKy0tTbGxsQoICFDPnj0lnU+sf/XVV1qzZo1atmypzz//XE888YR8fHwUFham5s2b691339WoUaP02muvydraWkOGDNHNN98sa+s/F//Fxsaa/hwUFCQ7Ozs99thjSkpKMrvbHQBQNZZ+9j537pwGDRokwzA0Z86cWhghAMASxHX81VUpsT579my9/PLLys7OVocOHfT666+rU6dOl223fPlyDRkyRP369dPq1atN5YZhKCEhQXPnztXp06d12223ac6cOWrdunVVhgdUmbu7u2xsbJSTk2NWnpOTIy8vrzL19+3bp6ysLN1zzz2mstIH2dna2mrPnj0KDAys2UEDQANhaYwuZW1trVatWkmSgoODtWvXLiUlJalnz546c+aMXnjhBa1atUp9+vSRdD4pnpmZqZkzZ5qWsYaHh2vfvn06ceKEbG1t5erqKi8vLwUEBFR43dDQUP3xxx/KysrS9ddff6XTB4B6pyY/e5cmXw4cOKCNGzdyVyMA1ALiOhoai/dYr+6n+0rSjBkz9NprryklJUVbt26Vk5OTIiIidPbsWUuHB1wROzs7dezYUWlpaaaykpISpaWlqUuXLmXqt2nTRt9//70yMzNNR9++fdWrVy9lZmbK19e3NocPAPWapTG6IiUlJSosLJR0/gP6uXPnzO48lyQbGxvTh/oLubu7y9XVVRs3btSxY8fUt2/fCq+TmZkpa2treXh4VHpsANCQ1NRn79Lky08//aRPP/1UzZo1q7U5AUBDRlxHQ2PxHeuzZs3SiBEjFB0dLUlKSUnR2rVrtWDBAj3//PPltikuLtaDDz6oSZMm6YsvvtDp06dN5wzDUHJysiZMmKB+/fpJkhYvXixPT0+tXr1agwcPrsK0gKqLjY3VsGHDFBISok6dOik5OVkFBQWmv/NDhw5VixYtlJSUJAcHB914441m7UsfnnFxOQDgylkSoyUpKSlJISEhCgwMVGFhoT7++GMtWbLEtHS0SZMm6tGjh8aOHStHR0e1bNlSn332mRYvXmy2N/rChQvVtm1bNW/eXBkZGRozZoyefvpp053oGRkZ2rp1q3r16qXGjRsrIyNDTz/9tP7+97/Lzc2tlt8lAPjrqO7P3ufOndPAgQO1Y8cOffTRRyouLlZ2drYkqWnTprKzs5N0/uHsp06d0sGDB1VcXGza27dVq1ZydnaWJO3du1f5+fnKzs7WmTNnTHXatWtn6gcAYI64jobEosR66dN94+LiTGWWPt33iy++MDu3f/9+ZWdnmz0x2MXFRaGhocrIyCg3sV5YWGi600yS8vLyLJkGcElRUVE6fvy44uPjlZ2dreDgYKWmppoevnHw4MEydzYCAGqHpTG6oKBAo0eP1qFDh+To6Kg2bdpo6dKlioqKMtVZvny54uLi9OCDD+rUqVNq2bKlpk6dqscff9xUZ8+ePYqLi9OpU6fk5+en8ePH6+mnnzadt7e31/Lly/Xiiy+qsLBQ/v7+evrpp832XQcAlFXdn70PHz6sNWvWSDq//deFNm3aZHq+Rnx8vBYtWmQ6d9NNN5Wp8+ijj+qzzz4rU2f//v3y8/OzZJoA0GAQ19GQWBmGYVS28pEjR9SiRQtt2bLFbAnHc889p88++0xbt24t02bz5s0aPHiwMjMz5e7uruHDh+v06dOmPda3bNmi2267TUeOHJG3t7ep3aBBg2RlZaUVK1aU6fPFF1/UpEmTypTn5uayx1I94ff82qs9hL+8rGl9rvYQUA3y8vLk4uLS4OJbQ513fUZcv3LE9fqhIce3hjz3+oi4fuWI6/VDQ45tDXnu9RFx/coR1+sHS2Jbjd52a+nTfSsrLi5Oubm5puOXX36ptr4BAAAAAAAAALgUi7aCqYmn+5a2y8nJMbtjPScnp8wSj1L29vayt7e3ZOgAAAAAAAAAAFQLi+5Yr4mn+/r7+8vLy8usz7y8PG3durXcPgEAAAAAAAAAuJosumNdqv6n+0rSU089pSlTpqh169by9/fXxIkT5ePjo/79+1d9ZgAAAAAAAAAA1ACLE+vV/XRf6fzDTwsKCjRy5EidPn1aXbt2VWpqqhwcHCwdHgAAAAAAAAAANcrixLokxcTEKCYmptxz6enpl2z71ltvlSmzsrJSYmKiEhMTqzIcAAAAAAAAAABqjWW3lgMAAAAAAAAA0MCRWAcAAAAAAAAAwAIk1gEAAAAAAAAAsACJdQAAAAAAAAAALEBiHQAAAAAAAAAAC5BYBwAAAAAAAADAAiTWAQAAAAAAAACwAIl1AAAAAAAAAAAsQGIdAAAAAAAAAAALkFgHAAAAAAAAAMACJNYBAAAAAAAAALAAiXUAAACgnpk9e7b8/Pzk4OCg0NBQbdu2rVLtli9fLisrK/Xv39+s3DAMxcfHy9vbW46OjgoLC9NPP/1UAyMHAJSHuA4AdQ+JdQAAAKAeWbFihWJjY5WQkKAdO3aoQ4cOioiI0LFjxy7ZLisrS88++6y6detW5tyMGTP02muvKSUlRVu3bpWTk5MiIiJ09uzZmpoGAOB/iOsAUDeRWAcAAADqkVmzZmnEiBGKjo5Wu3btlJKSokaNGmnBggUVtikuLtaDDz6oSZMmKSAgwOycYRhKTk7WhAkT1K9fPwUFBWnx4sU6cuSIVq9eXcOzAQAQ1wGgbiKxDgAAANQTRUVF2r59u8LCwkxl1tbWCgsLU0ZGRoXtEhMT5eHhoUceeaTMuf379ys7O9usTxcXF4WGhl6yz8LCQuXl5ZkdAADLENcBoO4isQ4AAADUEydOnFBxcbE8PT3Nyj09PZWdnV1um82bN2v+/PmaO3duuedL21nSpyQlJSXJxcXFdPj6+loyFQCAiOsAUJeRWAcAAAAaqN9++00PPfSQ5s6dK3d392rtOy4uTrm5uabjl19+qdb+AQBlEdcBoPbYXu0BAAAAAKge7u7usrGxUU5Ojll5Tk6OvLy8ytTft2+fsrKydM8995jKSkpKJEm2trbas2ePqV1OTo68vb3N+gwODq5wLPb29rK3t7+S6QBAg0dcB4C6izvWAQAAgHrCzs5OHTt2VFpamqmspKREaWlp6tKlS5n6bdq00ffff6/MzEzT0bdvX/Xq1UuZmZny9fWVv7+/vLy8zPrMy8vT1q1by+0TAFB9iOsAUHdxxzoAAABQj8TGxmrYsGEKCQlRp06dlJycrIKCAkVHR0uShg4dqhYtWigpKUkODg668cYbzdq7urpKkln5U089pSlTpqh169by9/fXxIkT5ePjo/79+9fWtACgwSKuA0DdRGIdAAAAqEeioqJ0/PhxxcfHKzs7W8HBwUpNTTU9pO7gwYOytrZs4epzzz2ngoICjRw5UqdPn1bXrl2VmpoqBweHmpgCAOACxHUAqJusDMMwrvYgrlReXp5cXFyUm5urJk2aXO3hoBr4Pb/2ag/hLy9rWp+rPQRUg4Ya3xrqvOsz4vqVI67XDw05vjXkuddHxPUrR1yvHxpybGvIc6+PiOtXjrheP1gS29hjHQAAAAAAAAAAC5BYBwAAAAAAAADAAiTWq9ns2bPl5+cnBwcHhYaGatu2bRXWXblypUJCQuTq6ionJycFBwdryZIlZert2rVLffv2lYuLi5ycnHTLLbfo4MGDpvOPPfaYAgMD5ejoqObNm6tfv37avXu36fx3332nIUOGyNfXV46Ojmrbtq3++c9/Vu/EAQAAAAAAAKCBILFejVasWKHY2FglJCRox44d6tChgyIiInTs2LFy6zdt2lTjx49XRkaGdu7cqejoaEVHR2vdunWmOvv27VPXrl3Vpk0bpaena+fOnZo4caLZA0U6duyohQsXateuXVq3bp0Mw1B4eLiKi4slSdu3b5eHh4eWLl2qH3/8UePHj1dcXJzeeOONmn1DAAAAAAAAAKAesr3aA6hPZs2apREjRig6OlqSlJKSorVr12rBggV6/vnny9Tv2bOn2esxY8Zo0aJF2rx5syIiIiRJ48eP11133aUZM2aY6gUGBpq1GzlypOnPfn5+mjJlijp06KCsrCwFBgbq4YcfNqsfEBCgjIwMrVy5UjExMVc0ZwAAAAAAAABoaLhjvZoUFRVp+/btCgsLM5VZW1srLCxMGRkZl21vGIbS0tK0Z88ede/eXZJUUlKitWvX6rrrrlNERIQ8PDwUGhqq1atXV9hPQUGBFi5cKH9/f/n6+lZYLzc3V02bNq38BAEAAAAAAAAAkkisV5sTJ06ouLhYnp6eZuWenp7Kzs6usF1ubq6cnZ1lZ2enPn366PXXX1fv3r0lSceOHVN+fr6mTZumyMhIrV+/XgMGDNC9996rzz77zKyfN998U87OznJ2dtYnn3yiDRs2yM7OrtxrbtmyRStWrDC70x0AAAAAAAAAUDlsBXOVNW7cWJmZmcrPz1daWppiY2MVEBCgnj17qqSkRJLUr18/Pf3005Kk4OBgbdmyRSkpKerRo4epnwcffFC9e/fW0aNHNXPmTA0aNEhffvml2V7skvTDDz+oX79+SkhIUHh4eO1NFAAAAAAAAADqCRLr1cTd3V02NjbKyckxK8/JyZGXl1eF7aytrdWqVStJ55Pmu3btUlJSknr27Cl3d3fZ2tqqXbt2Zm3atm2rzZs3m5W5uLjIxcVFrVu3VufOneXm5qZVq1ZpyJAhpjr/+c9/dMcdd2jkyJGaMGHClU4ZAAAAAAAAABoktoKpJnZ2durYsaPS0tJMZSUlJUpLS1OXLl0q3U9JSYkKCwtNfd5yyy3as2ePWZ3//ve/atmyZYV9GIYhwzBM/UjSjz/+qF69emnYsGGaOnVqpccDAAAAAAAAADDHHevVKDY2VsOGDVNISIg6deqk5ORkFRQUKDo6WpI0dOhQtWjRQklJSZKkpKQkhYSEKDAwUIWFhfr444+1ZMkSzZkzx9Tn2LFjFRUVpe7du6tXr15KTU3Vhx9+qPT0dEnSzz//rBUrVig8PFzNmzfXoUOHNG3aNDk6Ouquu+6SdH77l9tvv10RERGKjY017fluY2Oj5s2b1+I7BAAAAAAAAAB/fdyxXo2ioqI0c+ZMxcfHKzg4WJmZmUpNTTU90PTgwYM6evSoqX5BQYFGjx6tG264Qbfddpvef/99LV26VI8++qipzoABA5SSkqIZM2aoffv2mjdvnt5//3117dpVkuTg4KAvvvhCd911l1q1aqWoqCg1btxYW7ZskYeHhyTpvffe0/Hjx7V06VJ5e3ubjltuuaUW3x0Addns2bPl5+cnBwcHhYaGatu2bRXWXblypUJCQuTq6ionJycFBwdryZIlZnWGDx8uKysrsyMyMrKmpwEAAAAAAFAruGNdkt/za6uxN39ZDXlT3pJyJEWtOiGt+l//nccqy+x6XaT7usjzf6+OSBr3rTTu24vH4yndlyxPSacljcmQxmRcUCfoCTkGSY7/e/mlpIiFeyXt/V/JLWo57qNyR1tdc8+a1qda+gFQ+1asWKHY2FilpKQoNDRUycnJioiI0J49e0xf0F2oadOmGj9+vNq0aSM7Ozt99NFHio6OloeHhyIiIkz1IiMjtXDhQtNre3v7WpkPAAAAAABATeOOdQBo4GbNmqURI0YoOjpa7dq1U0pKiho1aqQFCxaUW79nz54aMGCA2rZtq8DAQI0ZM0ZBQUFlHqpsb28vLy8v0+Hm5lYb0wEAAAAAAKhxJNYBoAErKirS9u3bFRYWZiqztrZWWFiYMjIyLtveMAylpaVpz5496t69u9m59PR0eXh46Prrr9eoUaN08uTJah8/AAAAAADA1cBWMADQgJ04cULFxcWmZ0GU8vT01O7duytsl5ubqxYtWqiwsFA2NjZ688031bt3b9P5yMhI3XvvvfL399e+ffv0wgsv6M4771RGRoZsbGzK9FdYWKjCwkLT67y8vGqYHQAAAAAAQM0gsQ4AsFjjxo2VmZmp/Px8paWlKTY2VgEBAerZs6ckafDgwaa67du3V1BQkAIDA5Wenq477rijTH9JSUmaNGlSbQ0fAAAAAADgirAVDAA0YO7u7rKxsVFOTo5ZeU5Ojry8vCpsZ21trVatWik4OFjPPPOMBg4cqKSkpArrBwQEyN3dXXv37i33fFxcnHJzc03HL7/8UrUJAQAAAAAA1AIS6wDQgNnZ2aljx45KS0szlZWUlCgtLU1dunSpdD8lJSVmW7lc7NChQzp58qS8vb3LPW9vb68mTZqYHQAAAAAAAHUVW8EAQAMXGxurYcOGKSQkRJ06dVJycrIKCgoUHR0tSRo6dKhatGhhuiM9KSlJISEhCgwMVGFhoT7++GMtWbJEc+bMkSTl5+dr0qRJuu++++Tl5aV9+/bpueeeU6tWrRQREXHV5gkAAAAAAFBdSKwDQAMXFRWl48ePKz4+XtnZ2QoODlZqaqrpgaYHDx6UtfWfC5wKCgo0evRoHTp0SI6OjmrTpo2WLl2qqKgoSZKNjY127typRYsW6fTp0/Lx8VF4eLgmT54se3v7qzJHAAAAAACA6kRiHQCgmJgYxcTElHsuPT3d7PWUKVM0ZcqUCvtydHTUunXrqnN4AAAAAAAAdUqV9lifPXu2/Pz85ODgoNDQUG3btq3CuitXrlRISIhcXV3l5OSk4OBgLVmyxKzO8OHDZWVlZXZERkZWZWgAAAAAAAAAANQoi+9YX7FihWJjY5WSkqLQ0FAlJycrIiJCe/bskYeHR5n6TZs21fjx49WmTRvZ2dnpo48+UnR0tDw8PMz22o2MjNTChQtNr9kuAAAAAAAAAABQF1l8x/qsWbM0YsQIRUdHq127dkpJSVGjRo20YMGCcuv37NlTAwYMUNu2bRUYGKgxY8YoKChImzdvNqtnb28vLy8v0+Hm5la1GQEAAAAAAAAAUIMsSqwXFRVp+/btCgsL+7MDa2uFhYUpIyPjsu0Nw1BaWpr27Nmj7t27m51LT0+Xh4eHrr/+eo0aNUonT56ssJ/CwkLl5eWZHQAAAAAAAAAA1AaLtoI5ceKEiouL5enpaVbu6emp3bt3V9guNzdXLVq0UGFhoWxsbPTmm2+qd+/epvORkZG699575e/vr3379umFF17QnXfeqYyMDNnY2JTpLykpSZMmTbJk6AAAAAAAAAAAVAuL91ivisaNGyszM1P5+flKS0tTbGysAgIC1LNnT0nS4MGDTXXbt2+voKAgBQYGKj09XXfccUeZ/uLi4hQbG2t6nZeXJ19f3xqfBwAAAAAAAAAAFiXW3d3dZWNjo5ycHLPynJwceXl5VdjO2tparVq1kiQFBwdr165dSkpKMiXWLxYQECB3d3ft3bu33MS6vb09DzcFAAAAAAAAAFwVFu2xbmdnp44dOyotLc1UVlJSorS0NHXp0qXS/ZSUlKiwsLDC84cOHdLJkyfl7e1tyfAAAAAAAAAAAKhxFm8FExsbq2HDhikkJESdOnVScnKyCgoKFB0dLUkaOnSoWrRooaSkJEnn90MPCQlRYGCgCgsL9fHHH2vJkiWaM2eOJCk/P1+TJk3SfffdJy8vL+3bt0/PPfecWrVqpYiIiGqcKgAAAAAAAAAAV87ixHpUVJSOHz+u+Ph4ZWdnKzg4WKmpqaYHmh48eFDW1n/eCF9QUKDRo0fr0KFDcnR0VJs2bbR06VJFRUVJkmxsbLRz504tWrRIp0+flo+Pj8LDwzV58mS2ewEAAAAAAAAA1DlVenhpTEyMYmJiyj2Xnp5u9nrKlCmaMmVKhX05Ojpq3bp1VRkGAAAAAAAAAAC1zqI91gEAAAAAAAAAaOhIrAMAAAAAAAAAYAES6wAAAAAAAAAAWIDEOgAAAAAAAAAAFiCxDgAAAAAAAACABUisAwAAAAAAAABgARLrAAAAuCKzZ8+Wn5+fHBwcFBoaqm3btlVYd+XKlQoJCZGrq6ucnJwUHBysJUuWmM6fO3dO48aNU/v27eXk5CQfHx8NHTpUR44cMetn6tSpuvXWW9WoUSO5urqWe60nn3xSHTt2lL29vYKDg6tjqgAAAAAgicQ6AAAArsCKFSsUGxurhIQE7dixQx06dFBERISOHTtWbv2mTZtq/PjxysjI0M6dOxUdHa3o6GitW7dOkvT7779rx44dmjhxonbs2KGVK1dqz5496tu3r1k/RUVFuv/++zVq1KhLju/hhx9WVFRU9UwWAAAAAP6HxDoAAACqbNasWRoxYoSio6PVrl07paSkqFGjRlqwYEG59Xv27KkBAwaobdu2CgwM1JgxYxQUFKTNmzdLklxcXLRhwwYNGjRI119/vTp37qw33nhD27dv18GDB039TJo0SU8//bTat29f4dhee+01PfHEEwoICKjeSf8FVOcqAkkaPny4rKyszI7IyMiangYA4H+I6wBQ95BYBwAAQJUUFRVp+/btCgsLM5VZW1srLCxMGRkZl21vGIbS0tK0Z88ede/evcJ6ubm5srKyqnDLF5ir7lUEpSIjI3X06FHT8c4779TGdACgwSOuA0DdRGIdAAAAVXLixAkVFxfL09PTrNzT01PZ2dkVtsvNzZWzs7Ps7OzUp08fvf766+rdu3e5dc+ePatx48ZpyJAhatKkSbWOv76q7lUEpezt7eXl5WU63NzcamM6ANDgEdcBoG4isQ4AAIBa1bhxY2VmZurrr7/W1KlTFRsbq/T09DL1zp07p0GDBskwDM2ZM6f2B/oXVJOrCNLT0+Xh4aHrr79eo0aN0smTJ6t9/AAAc8R1AKi7bK/2AAAAAPDX5O7uLhsbG+Xk5JiV5+TkyMvLq8J21tbWatWqlSQpODhYu3btUlJSknr27GmqU5pUP3DggDZu3Mjd6pV0qVUEu3fvrrBdbm6uWrRoocLCQtnY2OjNN980W0UQGRmpe++9V/7+/tq3b59eeOEF3XnnncrIyJCNjU25fRYWFqqwsND0Oi8v7wpnBwAND3EdAOouEusAAACoEjs7O3Xs2FFpaWnq37+/JKmkpERpaWmKiYmpdD8lJSVm/1EvTar/9NNP2rRpk5o1a1bdQ8dFSlcR5OfnKy0tTbGxsQoICDB92TF48GBT3fbt2ysoKEiBgYFKT0/XHXfcUW6fSUlJmjRpUm0MHwBwEeI6ANQ8EusAAACostjYWA0bNkwhISHq1KmTkpOTVVBQoOjoaEnS0KFD1aJFCyUlJUk6/5/ykJAQBQYGqrCwUB9//LGWLFli2url3LlzGjhwoHbs2KGPPvpIxcXFpv3amzZtKjs7O0nSwYMHderUKR08eFDFxcXKzMyUJLVq1UrOzs6SpL179yo/P1/Z2dk6c+aMqU67du1M/dQ3NbmK4EIBAQFyd3fX3r17K0zAxMXFKTY21vQ6Ly9Pvr6+Fs4IABo24joA1F0k1gEAAFBlUVFROn78uOLj45Wdna3g4GClpqaalqwfPHhQ1tZ/PtanoKBAo0eP1qFDh+To6Kg2bdpo6dKlioqKkiQdPnxYa9askXQ+EXChTZs2mRIC8fHxWrRokencTTfdVKbOo48+qs8++6xMnf3798vPz6/a3oO6pKZWEVzs0KFDOnnypLy9vSusY29vL3t7+0pfEwBQFnEdAOouEusAAAANkN/za6uxN39ZDXlT3pJyJEWtOiGt+l//nccqy+x6XaT7uqh0p9gjksZ9K4379s/xtBz3UblXGZ5aIKX+r57X/Wo57v5L1+k8Vi07jy1Tp2fKj5J+tGyK5cia1ueK+6gJ1b2KID8/X5MmTdJ9990nLy8v7du3T88995xatWqliIiIqzZPAGgoiOsAUDeRWAcAAADqkepeRWBjY6OdO3dq0aJFOn36tHx8fBQeHq7Jkydz5yIA1ALiOgDUTSTWAQAAgHomJiamwi0C0tPTzV5PmTJFU6ZMqbAvR0dHrVu3rjqHBwCwEHEdAOoe68tXAQAAAAAAAAAApUisAwAAAAAAAABgARLrAAAAAAAAAABYgMQ6AAAAgAZj9uzZ8vPzk4ODg0JDQ7Vt27YK665cuVIhISFydXWVk5OTgoODtWTJErM6L774otq0aSMnJye5ubkpLCxMW7duNaszdepU3XrrrWrUqJFcXV0rvN5bb72loKAgOTg4yMPDQ0888cQVzRUAAAA1h8Q6AAAAgAZhxYoVio2NVUJCgnbs2KEOHTooIiJCx44dK7d+06ZNNX78eGVkZGjnzp2Kjo5WdHS02UP/rrvuOr3xxhv6/vvvtXnzZvn5+Sk8PFzHjx831SkqKtL999+vUaNGVTi2WbNmafz48Xr++ef1448/6tNPP1VERET1TR4AAADVyvZqDwAAAAAAasOsWbM0YsQIRUdHS5JSUlK0du1aLViwQM8//3yZ+j179jR7PWbMGC1atEibN282Jb0feOCBMteYP3++du7cqTvuuEOSNGnSJEnn70gvz6+//qoJEyboww8/NLWRpKCgoCrNEwAAADWPO9YBAAAA1HtFRUXavn27wsLCTGXW1tYKCwtTRkbGZdsbhqG0tDTt2bNH3bt3r/Aa//73v+Xi4qIOHTpUemwbNmxQSUmJDh8+rLZt2+raa6/VoEGD9Msvv1S6DwAAANQuEusAAAAA6r0TJ06ouLhYnp6eZuWenp7Kzs6usF1ubq6cnZ1lZ2enPn366PXXX1fv3r3N6nz00UdydnaWg4ODXn31VW3YsEHu7u6VHtvPP/+skpISvfTSS0pOTtZ7772nU6dOqXfv3ioqKrJsogAAAKgVbAUDAAAAABVo3LixMjMzlZ+fr7S0NMXGxiogIMBsm5hevXopMzNTJ06c0Ny5czVo0CBt3bpVHh4elbpGSUmJzp07p9dee03h4eGSpHfeeUdeXl7atGkTe60DAADUQSTWAQAAANR77u7usrGxUU5Ojll5Tk6OvLy8KmxnbW2tVq1aSZKCg4O1a9cuJSUlmSXWnZyc1KpVK7Vq1UqdO3dW69atNX/+fMXFxVVqbN7e3pKkdu3amcqaN28ud3d3HTx4sLJTBAAAQC1iKxgAAAAA9Z6dnZ06duyotLQ0U1lJSYnS0tLUpUuXSvdTUlKiwsLCK65zodtuu02StGfPHlPZqVOndOLECbVs2bLS/QAAAKD2cMc6AAAAgAYhNjZWw4YNU0hIiDp16qTk5GQVFBQoOjpakjR06FC1aNFCSUlJkqSkpCSFhIQoMDBQhYWF+vjjj7VkyRLNmTNHklRQUKCpU6eqb9++8vb21okTJzR79mwdPnxY999/v+m6Bw8e1KlTp3Tw4EEVFxcrMzNTktSqVSs5OzvruuuuU79+/TRmzBj9+9//VpMmTRQXF6c2bdqoV69etfsmAQAAoFJIrAMAAABoEKKionT8+HHFx8crOztbwcHBSk1NNT3Q9ODBg7K2/nNRb0FBgUaPHq1Dhw7J0dFRbdq00dKlSxUVFSVJsrGx0e7du7Vo0SKdOHFCzZo10y233KIvvvhCN9xwg6mf+Ph4LVq0yPT6pptukiRt2rTJtKXM4sWL9fTTT6tPnz6ytrZWjx49lJqaqmuuuaam3xYAAABUAYl1AAAAAHWa3/Nrq7E3f1kNeVPeknIkRa06Ia36X/+dxyrL7HpdpPu6yPN/r45IGvetNO7bC8Zz3SO65rpH5P2/l99Juv/9Y9L7F9Txul8tx/15B3up4akFUuoF9ZrfK5fH7pUk7ZDUbfZOSTuvaLalsqb1qZZ+AAAAcB57rAMAAAAAAAAAYAES6wAAAAAAAAAAWIDEOgBAs2fPlp+fnxwcHBQaGqpt27ZVWHflypUKCQmRq6urnJycFBwcrCVLlpjVMQxD8fHx8vb2lqOjo8LCwvTTTz/V9DQAAAAAAABqBYl1AGjgVqxYodjYWCUkJGjHjh3q0KGDIiIidOzYsXLrN23aVOPHj1dGRoZ27typ6OhoRUdHa926daY6M2bM0GuvvaaUlBRt3bpVTk5OioiI0NmzZ2trWgAAAAAAADWGxDoANHCzZs3SiBEjFB0drXbt2iklJUWNGjXSggULyq3fs2dPDRgwQG3btlVgYKDGjBmjoKAgbd68WdL5u9WTk5M1YcIE9evXT0FBQVq8eLGOHDmi1atX1+LMAAAAAAAAagaJdQBowIqKirR9+3aFhYWZyqytrRUWFqaMjIzLtjcMQ2lpadqzZ4+6d+8uSdq/f7+ys7PN+nRxcVFoaGiFfRYWFiovL8/sAAAAAIDLqe5tLVeuXKnw8HA1a9ZMVlZWyszMLNNPz549ZWVlZXY8/vjjZnW+/vpr3XHHHXJ1dZWbm5siIiL03XffVcucAdQNJNYBoAE7ceKEiouL5enpaVbu6emp7OzsCtvl5ubK2dlZdnZ26tOnj15//XX17t1bkkztLOkzKSlJLi4upsPX1/dKpgUAAACgAaiJbS0LCgrUtWtXTZ8+/ZLXHjFihI4ePWo6ZsyYYTqXn5+vyMhI/e1vf9PWrVu1efNmNW7cWBERETp37lz1TB7AVWd7tQcAAPjrady4sTIzM5Wfn6+0tDTFxsYqICBAPXv2rFJ/cXFxio2NNb3Oy8sjuQ4AAADgki7c1lKSUlJStHbtWi1YsEDPP/98mfoX/39lzJgxWrRokTZv3qyIiAhJ0kMPPSRJysrKuuS1GzVqJC8vr3LP7d69W6dOnVJiYqLp/zUJCQkKCgrSgQMH1KpVK0umCaCO4o51AGjA3N3dZWNjo5ycHLPynJycCj8kSue3i2nVqpWCg4P1zDPPaODAgUpKSpIkUztL+rS3t1eTJk3MjrrCkqWlc+fOVbdu3eTm5iY3NzeFhYWVqZ+fn6+YmBhde+21cnR0NO1rf6F9+/ZpwIABat68uZo0aaJBgwaVeT/9/PzKLD+dNm1a9U0cAAAAqMNqYltLSyxbtkzu7u668cYbFRcXp99//9107vrrr1ezZs00f/58FRUV6cyZM5o/f77atm0rPz8/i68FoG4isQ4ADZidnZ06duyotLQ0U1lJSYnS0tLUpUuXSvdTUlKiwsJCSZK/v7+8vLzM+szLy9PWrVst6rMusHRpaXp6uoYMGaJNmzYpIyNDvr6+Cg8P1+HDh011YmNjlZqaqqVLl2rXrl166qmnFBMTozVr1kg6v/Q0PDxcVlZW2rhxo7788ksVFRXpnnvuUUlJidn1EhMTzZaf/uMf/6i5NwMAAACoQ2piW8vKeuCBB7R06VJt2rRJcXFxWrJkif7+97+bzjdu3Fjp6elaunSpHB0d5ezsrNTUVH3yySeytWXzCKC+4F8zADRwsbGxGjZsmEJCQtSpUyclJyeroKDAtJxy6NChatGihemO9KSkJIWEhCgwMFCFhYX6+OOPtWTJEs2ZM0eSZGVlpaeeekpTpkxR69at5e/vr4kTJ8rHx0f9+/e/WtOsEkuXli5btszs9bx58/T+++8rLS1NQ4cOlSRt2bJFw4YNMy1DHTlypP71r39p27Zt6tu3r7788ktlZWXp22+/Nd25v2jRIrm5uWnjxo1md+Q0btz4kisLAAAAAJirjm0tR44cafpz+/bt5e3trTvuuEP79u1TYGCgzpw5o0ceeUS33Xab3nnnHRUXF2vmzJnq06ePvv76azk6OtbAzADUtirdsV7dT1w2DEPx8fHy9vaWo6OjwsLC9NNPP1VlaAAAC0VFRWnmzJmKj49XcHCwMjMzlZqaarrz4+DBgzp69KipfkFBgUaPHq0bbrhBt912m95//30tXbpUjz76qKnOc889p3/84x8aOXKkbrnlFuXn5ys1NVUODg61Pr+qutKlpZL0+++/69y5c2ratKmp7NZbb9WaNWt0+PBhGYahTZs26b///a/Cw8MlSYWFhbKyspK9vb2pjYODg6ytrbV582az/qdNm6ZmzZrppptu0ssvv6w//vjjSqYMAAAA/GXUxLaWVRUaGipJ2rt3ryTp7bffVlZWlhYuXKhbbrlFnTt31ttvv639+/frgw8+uKJrAag7LE6s18QTl2fMmKHXXntNKSkp2rp1q5ycnBQREaGzZ89WfWYAgEqLiYnRgQMHVFhYqK1bt5o+GErntzd56623TK+nTJmin376SWfOnNGpU6e0ZcsWRUVFmfVnZWWlxMREZWdn6+zZs/r000913XXX1dZ0qkVVl5ZeaNy4cfLx8TFLzr/++utq166drr32WtnZ2SkyMlKzZ8827evYuXNnOTk5ady4cfr9999VUFCgZ599VsXFxWZfcDz55JNavny5Nm3apMcee0wvvfSSnnvuuWqYOQAAAFD31cS2llWVmZkpSfL29pZ0/gYba2trWVlZmeqUvr54e0cAf10WJ9YvXBZf+sC1Ro0aacGCBeXW79mzpwYMGKC2bdsqMDBQY8aMUVBQkOmuO8MwlJycrAkTJqhfv34KCgrS4sWLdeTIEa1evfqKJgcAwNUybdo0LV++XKtWrTK7U//111/XV199pTVr1mj79u165ZVX9MQTT+jTTz+VJDVv3lzvvvuuPvzwQzk7O8vFxUWnT5/WzTffLGvrP39tx8bGqmfPngoKCtLjjz+uV155Ra+//voV/6cAAAAA+KuIjY3V3LlztWjRIu3atUujRo0qs61lXFycqX5SUpI2bNign3/+Wbt27dIrr7xSZn/0U6dOKTMzU//5z38kSXv27FFmZqbp5pp9+/Zp8uTJ2r59u7KysrRmzRoNHTpU3bt3V1BQkCSpd+/e+vXXX/XEE09o165d+vHHHxUdHS1bW1v16tWrtt4eADXMoj3WS5fFXxiULH3i8saNG7Vnzx5Nnz5dkrR//35lZ2eb3c3n4uKi0NBQZWRkaPDgwWX6KSwsNEsc5OXlWTINAAAuq6pLSyVp5syZmjZtmj799FPTh2tJOnPmjF544QWtWrVKffr0kSQFBQUpMzNTM2fONP0uDA8P1759+3TixAnZ2trK1dVVXl5eCggIqPCaoaGh+uOPP5SVlaXrr7++qtMGAAAA/jKioqJ0/PhxxcfHKzs7W8HBwWW2tbzw5pTSbS0PHTokR0dHtWnTRkuXLjVbgbtmzRpTYl6SKS+VkJCgF198UXZ2dvr0009Nz6by9fXVfffdpwkTJpjatGnTRh9++KEmTZqkLl26yNraWjfddJNSU1NNd7UD+OuzKLF+qWXxu3fvrrBdbm6uWrRoocLCQtnY2OjNN980PXG59Bs/S5baJyUladKkSZYMHQAAi1y4tLT0oaulS0tjYmIqbDdjxgxNnTpV69atU0hIiNm5c+fO6dy5c2Yf7iXJxsam3CWh7u7ukqSNGzfq2LFj6tu3b4XXzczMlLW1tTw8PCo7RQAAAOCq8Ht+bTX25i+rIW/KW1KOpKhVJ6RV/+u/81hlmV2vi3RfF5VmoI5IGvetNO7bC8fTXC3HfVTmKm+dld4q7afLc2rcRWos6Zyk/5P0fy99UXZoXePk2vX8H/dJGrz6pLS6euaeNa1PtfQDoOosSqxXVXU8cflCcXFxio2NNb3Oy8uTr69vNY0WAIDzYmNjNWzYMIWEhKhTp06mu1IuXFraokUL08OOpk+frvj4eL399tvy8/MzfUHs7OwsZ2dnNWnSRD169NDYsWPl6Oioli1b6rPPPtPixYs1a9Ys03UXLlyotm3bqnnz5srIyNCYMWP09NNPm+5Ez8jI0NatW9WrVy81btxYGRkZevrpp/X3v/9dbm5utfwuAQAAAADQ8FiUWL/SJy5LUnBwsHbt2qWkpCT17NnT1C4nJ8dsOUxOTo6Cg4PL7c/e3l729vaWDB0AAItZurR0zpw5Kioq0sCBA836KV02KknLly9XXFycHnzwQZ06dUotW7bU1KlT9fjjj5vq79mzR3FxcTp16pT8/Pw0fvx4Pf3006bz9vb2Wr58uV588UUVFhbK399fTz/9tNmXzgAAAAAAoOZYlFiv6rL4i134xGV/f395eXkpLS3NlEjPy8vT1q1bNWrUKEuGBwCApKu4tHTwbLUspwezZaOS5DlQ1zw0UJ6Szkp67Zj0WtzHF7ToJofh3eQjqajc85J6TpRrz/N//F3Sv3KlfyV8emVTvQBLSwEAAAAAqJjFW8FYuiw+KSlJISEhCgwMVGFhoT7++GMtWbJEc+bMkSRZWVnpqaee0pQpU9S6dWv5+/tr4sSJ8vHxMSXvAQAAAAAAAACoKyxOrNfEE5efe+45FRQUaOTIkTp9+rS6du2q1NRUOTg4VMMUAQAAAAAAAACoPlV6eGlMTEyFW7+kp6ebvZ4yZYqmTJlyyf6srKyUmJioxMTEqgwHAAAAAAAAAIBaY335KgAAAAAAAAAAoBSJdQAAAAAAAAAALEBiHQAAAAAAAAAAC5BYBwAAAAAAAADAAiTWAQAAAAAAAACwAIl1AAAAoJ6ZPXu2/Pz85ODgoNDQUG3btq3CuitXrlRISIhcXV3l5OSk4OBgLVmyxKyOYRiKj4+Xt7e3HB0dFRYWpp9++qmmpwEA+B/iOgDUPSTWAQAAgHpkxYoVio2NVUJCgnbs2KEOHTooIiJCx44dK7d+06ZNNX78eGVkZGjnzp2Kjo5WdHS01q1bZ6ozY8YMvfbaa0pJSdHWrVvl5OSkiIgInT17tramBQANFnEdAOomEusAAABAPTJr1iyNGDFC0dHRateunVJSUtSoUSMtWLCg3Po9e/bUgAED1LZtWwUGBmrMmDEKCgrS5s2bJZ2/qzE5OVkTJkxQv379FBQUpMWLF+vIkSNavXp1Lc4MABom4joA1E0k1gEAAIB6oqioSNu3b1dYWJipzNraWmFhYcrIyLhse8MwlJaWpj179qh79+6SpP379ys7O9usTxcXF4WGhlaqTwBA1RHXAaDusr3aAwAAAABQPU6cOKHi4mJ5enqalXt6emr37t0VtsvNzVWLFi1UWFgoGxsbvfnmm+rdu7ckKTs729THxX2WnitPYWGhCgsLTa/z8vIsng8ANHTEdQCou0isAwAAAA1c48aNlZmZqfz8fKWlpSk2NlYBAQHq2bNnlftMSkrSpEmTqm+QAIBKI64DQM1jKxgAAACgnnB3d5eNjY1ycnLMynNycuTl5VVhO2tra7Vq1UrBwcF65plnNHDgQCUlJUmSqZ2lfcbFxSk3N9d0/PLLL1WdFgA0WMR1AKi7SKwDAAAA9YSdnZ06duyotLQ0U1lJSYnS0tLUpUuXSvdTUlJiWu7v7+8vLy8vsz7z8vK0devWS/Zpb2+vJk2amB0AAMsQ1wGg7mIrGAAAAKAeiY2N1bBhwxQSEqJOnTopOTlZBQUFio6OliQNHTpULVq0MN25mJSUpJCQEAUGBqqwsFAff/yxlixZojlz5kiSrKys9NRTT2nKlClq3bq1/P39NXHiRPn4+Kh///5Xa5oA0GAQ1wGgbiKxDgAAANQjUVFROn78uOLj45Wdna3g4GClpqaaHlJ38OBBWVv/uXC1oKBAo0eP1qFDh+To6Kg2bdpo6dKlioqKMtV57rnnVFBQoJEjR+r06dPq2rWrUlNT5eDgUOvzA4CGhrgOAHUTiXUAAACgnomJiVFMTEy559LT081eT5kyRVOmTLlkf1ZWVkpMTFRiYmJ1DREAYAHiOgDUPeyxDgAAAAAAAACABUisAwAAAAAAAABgARLrAAAAAAAAAABYgMQ6AAAAAAAAAAAWILEOAAAAAAAAAIAFSKwDAAAAAAAAAGABEusAAAAAAAAAAFiAxDoAAAAAAAAAABYgsQ4AAAAAAAAAgAVIrAMAAAAAAAAAYAES6wAAAAAAAAAAWIDEOgAAAAAAAAAAFiCxDgAAAAAAAACABUisAwAAAAAAAABgARLrAAAAAAAAAABYgMQ6AAAAAAAAAAAWILEOAAAAAAAAAIAFSKwDAAAAAAAAAGABEusAAAAAAAAAAFiAxDoAAAAAAAAAABYgsQ4A0OzZs+Xn5ycHBweFhoZq27ZtFdadO3euunXrJjc3N7m5uSksLKxM/eHDh8vKysrsiIyMrOlpAAAAAAAA1AoS6wDQwK1YsUKxsbFKSEjQjh071KFDB0VEROjYsWPl1k9PT9eQIUO0adMmZWRkyNfXV+Hh4Tp8+LBZvcjISB09etR0vPPOO7UxHQAAAAAAgBpHYh0AGrhZs2ZpxIgRio6OVrt27ZSSkqJGjRppwYIF5dZftmyZRo8ereDgYLVp00bz5s1TSUmJ0tLSzOrZ29vLy8vLdLi5udXGdAAAAAAAwAWqe5W6JO3atUt9+/aVi4uLnJycdMstt+jgwYOm84899pgCAwPl6Oio5s2bq1+/ftq9e7fp/HfffachQ4bI19dXjo6Oatu2rf75z39W78RrGIl1AGjAioqKtH37doWFhZnKrK2tFRYWpoyMjEr18fvvv+vcuXNq2rSpWXl6ero8PDx0/fXXa9SoUTp58mS1jh0AAAAAAFxaTaxS37dvn7p27ao2bdooPT1dO3fu1MSJE+Xg4GCq07FjRy1cuFC7du3SunXrZBiGwsPDVVxcLEnavn27PDw8tHTpUv34448aP3684uLi9MYbb9TsG1KNbK/2AAAAV8+JEydUXFwsT09Ps3JPT0+zb5IvZdy4cfLx8TFLzkdGRuree++Vv7+/9u3bpxdeeEF33nmnMjIyZGNjU6aPwsJCFRYWml7n5eVVcUYAAAAAAKDUhavUJSklJUVr167VggUL9Pzzz5epv2zZMrPX8+bN0/vvv6+0tDQNHTpUkjR+/HjdddddmjFjhqleYGCgWbuRI0ea/uzn56cpU6aoQ4cOysrKUmBgoB5++GGz+gEBAcrIyNDKlSsVExNzZZOuJdyxDgCosmnTpmn58uVatWqV2TfTgwcPVt++fdW+fXv1799fH330kb7++mulp6eX209SUpJcXFxMh6+vby3NAAAAAACA+qkmVqmXlJRo7dq1uu666xQRESEPDw+FhoZq9erVFfZRUFCghQsXyt/f/5L/38/NzS2zGr4uI7EOAA2Yu7u7bGxslJOTY1aek5MjLy+vS7adOXOmpk2bpvXr1ysoKOiSdQMCAuTu7q69e/eWez4uLk65ubmm45dffrFsIgAAAAAAwMylVqlnZ2dXqo+LV6kfO3ZM+fn5mjZtmiIjI7V+/XoNGDBA9957rz777DOztm+++aacnZ3l7OysTz75RBs2bJCdnV2519myZYtWrFhhdqd7XUdiHQAaMDs7O3Xs2NHswaOlDyLt0qVLhe1mzJihyZMnKzU1VSEhIZe9zqFDh3Ty5El5e3uXe97e3l5NmjQxOwAAAAAAwNVT3ir1kpISSVK/fv309NNPKzg4WM8//7zuvvtupaSkmLV/8MEH9e233+qzzz7Tddddp0GDBuns2bNlrvPDDz+oX79+SkhIUHh4eM1PrJpUKbFe3U+SHT58uKysrMyOyMjIqgwNAGCh2NhYzZ07V4sWLdKuXbs0atQoFRQUmPZfGzp0qOLi4kz1p0+frokTJ2rBggXy8/NTdna2srOzlZ+fL0nKz8/X2LFj9dVXXykrK0tpaWnq16+fWrVqpYiIiKsyRwAAAAAAGpqaWKXu7u4uW1tbtWvXzqx+27ZtdfDgQbMyFxcXtW7dWt27d9d7772n3bt3a9WqVWZ1/vOf/+iOO+7QyJEjNWHChKpM86qxOLFeE0+Slc4/6O7o0aOm45133qnajAAAFomKitLMmTMVHx+v4OBgZWZmKjU11bRU7ODBgzp69Kip/pw5c1RUVKSBAwfK29vbdMycOVOSZGNjo507d6pv37667rrr9Mgjj6hjx4764osvZG9vf1XmCAAAAABAQ1MTq9Tt7Ox0yy23aM+ePWbl//3vf9WyZcsK+zQMQ4ZhqLCw0FT2448/qlevXho2bJimTp1q6fSuOltLG9TEk2Sl89sAXO6bEgBAzYiJianwqdsXP3A0Kyvrkn05Ojpq3bp11TQyAAAAAABQVbGxsRo2bJhCQkLUqVMnJScnl1ml3qJFCyUlJUk6v0o9Pj5eb7/9tmmVuiTTXumSNHbsWEVFRal79+7q1auXUlNT9eGHH5ryBz///LNWrFih8PBwNW/eXIcOHdK0adPk6Oiou+66S9L57V9uv/12RUREKDY21nQdGxsbNW/evDbfoiqz6I71mniSbKn09HR5eHjo+uuv16hRo3Ty5MkK+ygsLFReXp7ZAQAAAAAAAAD4U3WvUpekAQMGKCUlRTNmzFD79u1NN1J37dpVkuTg4KAvvvhCd911l1q1aqWoqCg1btxYW7ZskYeHhyTpvffe0/Hjx7V06VKz69xyyy21+O5cGYvuWL/Uk2R3795dqT4ufpKsdH4bmHvvvVf+/v7at2+fXnjhBd15553KyMiQjY1NmT6SkpI0adIkS4YOAAAAAAAAAH8Jfs+vrcbe/GU15E15S8qRFLXqhLTqf/13HqusC683eLbK29DlrbPSW2Zj8pTuS5anpNOSxmRIYzIuOB/0hByDJMf/vfxSUsTCvZL2/q/kFrUc91G5o62uuWdN61Mt/VTE4q1grkTpk2TT09NNT5KVpMGDB5v+3L59ewUFBSkwMFDp6em64447yvQTFxen2NhY0+u8vDz5+vrW7OABAAAAAAAAAJCFW8HUxJNkyxMQECB3d3ft3bu33PP29vZq0qSJ2QEAAAAAAAAAQG2wKLFeE0+SLc+hQ4d08uRJeXt7WzI8AAAAAAAAAABqnEWJden8k2Tnzp2rRYsWadeuXRo1alSZJ8nGxcWZ6k+fPl0TJ07UggULTE+Szc7OVn5+viQpPz9fY8eO1VdffaWsrCylpaWpX79+atWqlSIiIqppmgAAAAAAAAAAVA+LE+vV/SRZGxsb7dy5U3379tV1112nRx55RB07dtQXX3whe3v7apomgLpk9uzZ8vPzk4ODg0JDQ7Vt27YK686dO1fdunWTm5ub3NzcFBYWVqb+iy++qDZt2sjJyclUZ+vWrWX6Wrt2rUJDQ+Xo6Cg3Nzf179/f7PzXX3+tO+64Q66urnJzc1NERIS+++67apkzAAAAAAAA6o8qPbw0JiZGMTEx5Z5LT083e52VlXXJvhwdHbVu3bqqDAPAX9CKFSsUGxurlJQUhYaGKjk5WREREdqzZ488PDzK1E9PT9eQIUN06623ysHBQdOnT1d4eLh+/PFHtWjRQpJ03XXX6Y033lBAQIDOnDmjV199VeHh4dq7d6+aN28uSXr//fc1YsQIvfTSS7r99tv1xx9/6IcffjBdJz8/X5GRkerbt6/efPNN/fHHH0pISFBERIR++eUXXXPNNbXzBgEAAAAAAKDOs/iOdQC4ErNmzdKIESMUHR2tdu3aKSUlRY0aNdKCBQvKrb9s2TKNHj1awcHBatOmjebNm2d6tkOpBx54QGFhYQoICNANN9ygWbNmKS8vTzt37pQk/fHHHxozZoxefvllPf7447ruuuvUrl07DRo0yNTH7t27derUKSUmJur666/XDTfcoISEBOXk5OjAgQM1+6YAAAAAdUh1rzC90OOPPy4rKyslJyebytLT02VlZVXu8fXXX5fpY+/evWrcuLFcXV2vZJoAAFwREusAak1RUZG2b9+usLAwU5m1tbXCwsKUkZFRqT5+//13nTt3Tk2bNq3wGv/+97/l4uKiDh06SJJ27Nihw4cPy9raWjfddJO8vb115513mt2xfv3116tZs2aaP3++ioqKdObMGc2fP19t27aVn59f1ScNAAAA/IWUrjBNSEjQjh071KFDB0VEROjYsWPl1i9dYbpp0yZlZGTI19dX4eHhOnz4cJm6q1at0ldffSUfHx+z8ltvvVVHjx41Ox599FH5+/srJCTErO65c+c0ZMgQdevWrfomDQBAFZBYB1BrTpw4oeLiYtMzGUp5enoqOzu7Un2MGzdOPj4+Zsl5Sfroo4/k7OwsBwcHvfrqq9qwYYPc3d0lST///LOk83uxT5gwQR999JHc3NzUs2dPnTp1SpLUuHFjpaena+nSpXJ0dJSzs7NSU1P1ySefyNa2SrtmAQAAAH85NbHCVJIOHz6sf/zjH1q2bFmZbRbt7Ozk5eVlOpo1a6YPPvhA0dHRsrKyMqs7YcIEtWnTxmz1KQAAVwOJdQB/GdOmTdPy5cu1atUqOTg4mJ3r1auXMjMztWXLFkVGRmrQoEGmu2pKSkokSePHj9d9992njh07auHChbKystK7774rSTpz5oweeeQR3Xbbbfrqq6/05Zdf6sYbb1SfPn105syZ2p0oAABXqLq3cRg+fHiZ7RkiIyNrehoAallNrTAtKSnRQw89pLFjx+qGG264bB9r1qzRyZMnFR0dbVa+ceNGvfvuu5o9e3YlZ1R/ENcBoO4hsQ6g1ri7u8vGxkY5OTlm5Tk5OfLy8rpk25kzZ2ratGlav369goKCypx3cnJSq1at1LlzZ82fP1+2traaP3++JMnb21uS1K5dO1N9e3t7BQQE6ODBg5Kkt99+W1lZWVq4cKFuueUWde7cWW+//bb279+vDz744IrmDQBAbaqpbRwiIyPNtml45513amM6AGpRTa0wnT59umxtbfXkk09Wqo/58+crIiJC1157rans5MmTGj58uN566y01adKkUv3UF8R1AKibSKwDqDV2dnbq2LGj2bLQ0mWiXbp0qbDdjBkzNHnyZKWmppbZY7EiJSUlKiwslCR17NhR9vb22rNnj+n8uXPnlJWVpZYtW0o6f2eNtbW12VLT0teld7wDAPBXUFPbONjb25tt1eDm5lYb0wHwF1LeCtPt27frn//8p956660y27qU59ChQ1q3bp0eeeQRs/IRI0bogQceUPfu3Wtk7HUZcR0A6iYS6wBqVWxsrObOnatFixZp165dGjVqlAoKCkzLPIcOHaq4uDhT/enTp2vixIlasGCB/Pz8lJ2drezsbOXn50uSCgoK9MILL+irr77SgQMHtH37dj388MM6fPiw7r//fklSkyZN9PjjjyshIUHr16/Xnj17NGrUKEky1endu7d+/fVXPfHEE9q1a5d+/PFHRUdHy9bWVr169arNtwgAgCqryQeFp6eny8PDQ9dff71GjRqlkydPXrKfwsJC5eXlmR0A6raaWGH6xRdf6NixY/rb3/4mW1tb2dra6sCBA3rmmWfk5+dXpp+FCxeqWbNm6tu3r1n5xo0bNXPmTFMfjzzyiHJzc2Vra1thgrk+IK4DQN3FE/kA1KqoqCgdP35c8fHxys7OVnBwsFJTU03LTQ8ePChr6z+/85szZ46Kioo0cOBAs34SEhL04osvysbGRrt379aiRYt04sQJNWvWTLfccou++OILs/0bX375Zdna2uqhhx7SmTNnFBoaqo0bN5ruymjTpo0+/PBDTZo0SV26dJG1tbVuuukmpaammraSAQCgrrvUNg67d++uVB/lbeMQGRmpe++9V/7+/tq3b59eeOEF3XnnncrIyJCNjU25/SQlJWnSpElVnwyAWnfhCtP+/ftL+nOFaUxMTIXtZsyYoalTp2rdunVlVpg+9NBDZvFEkiIiIvTQQw+V2UPdMAwtXLhQQ4cOLfOA04yMDBUXF5tef/DBB5o+fbq2bNmiFi1aVGW6fwnEdQCou0isA6gUv+fXVmNv/rIa8qa8JeVIilp1Qlr1v/47j1XWhdcbPFsty+nhrbPSW6V1rntE11z3iErT399Juv/9Y9L7F43Ztpcco3vJUdJPkvosyZKUZV6na5xcu57/4z5Jg1eflFZXz9yzpvWpln4AAKgppds4pKenmz0ofPDgwaY/t2/fXkFBQQoMDFR6erruuOOOcvuKi4tTbGys6XVeXp58fX1rbvAAqkVsbKyGDRumkJAQderUScnJyWVWmLZo0UJJSUmSzq8wjY+P19tvv21aYSpJzs7OcnZ2VrNmzdSsWTOza1xzzTXy8vLS9ddfb1a+ceNG7d+/X48++miZcbVt29bs9TfffCNra2vdeOON1Tb3+oi4DgA1h8Q6AAAAUE9UxzYOn376abkPCr9QQECA3N3dtXfv3goTMPb29rK3t7dsAgCuuupeYWqJ+fPn69Zbb1WbNm2ueB71BXEdAOouEusAAABAPVET2ziU59ChQzp58iTbpQF1SJ1eYXqxwbOVnC0lX3z+bw9Kf6vsXJrL9fFl1TrvurjClLgOAHUXDy8FAAAA6pHqflB4fn6+xo4dq6+++kpZWVlKS0tTv3791KpVK0VERFyVOQJAQ0JcB4C6iTvWAQAAgHqkJh4UvnPnTi1atEinT5+Wj4+PwsPDNXnyZLYEAIBaQFwHgLqJxDoAAABQz8TExFS4RUB6errZ66ysrEv25ejoqHXr1lXTyAAAVUFcB4C6h61gAAAAAAAAAACwAIl1AAAAAAAAAAAsQGIdAAAAAAAAAAALkFgHAAAAAAAAAMACJNYBAAAAAAAAALAAiXUAAAAAAAAAACxAYh0AAAAAAAAAAAuQWAcAAAAAAAAAwAIk1gEAAAAAAAAAsACJdQAAAAAAAAAALEBiHQAAAAAAAAAAC5BYBwAAAAAAAADAAiTWAQAAAAAAAACwAIl1AAAAAAAAAAAsQGIdAAAAAAAAAAALkFgHAAAAAAAAAMACJNYBAAAAAAAAALAAiXUAAAAAAAAAACxAYh0AAAAAAAAAAAuQWAcAAAAAAAAAwAIk1gEAAAAAAAAAsACJdQAAAAAAAAAALEBiHQAAAAAAAAAAC5BYBwAAAAAAAADAAiTWAQCaPXu2/Pz85ODgoNDQUG3btq3CunPnzlW3bt3k5uYmNzc3hYWFlalvGIbi4+Pl7e0tR0dHhYWF6aeffqrpaQAAAAAAANQKEusA0MCtWLFCsbGxSkhI0I4dO9ShQwdFRETo2LFj5dZPT0/XkCFDtGnTJmVkZMjX11fh4eE6fPiwqc6MGTP02muvKSUlRVu3bpWTk5MiIiJ09uzZ2poWAAAAAABAjSGxDgAN3KxZszRixAhFR0erXbt2SklJUaNGjbRgwYJy6y9btkyjR49WcHCw2rRpo3nz5qmkpERpaWmSzt+tnpycrAkTJqhfv34KCgrS4sWLdeTIEa1evboWZwYAAAAAAFAzSKwDQANWVFSk7du3KywszFRmbW2tsLAwZWRkVKqP33//XefOnVPTpk0lSfv371d2drZZny4uLgoNDa2wz8LCQuXl5ZkdAAAAAAAAdRWJdQBowE6cOKHi4mJ5enqalXt6eio7O7tSfYwbN04+Pj6mRHppO0v6TEpKkouLi+nw9fW1dCoAAAAAAAC1hsQ6AKDKpk2bpuXLl2vVqlVycHCocj9xcXHKzc01Hb/88ks1jhIAAAAAAKB6VSmxPnv2bPn5+cnBwUGhoaHatm1bhXXnzp2rbt26yc3NTW5ubgoLCytT3zAMxcfHy9vbW46OjgoLC9NPP/1UlaEBACzg7u4uGxsb5eTkmJXn5OTIy8vrkm1nzpypadOmaf369QoKCjKVl7azpE97e3s1adLE7AAAAAAAAKirLE6sr1ixQrGxsUpISNCOHTvUoUMHRURE6NixY+XWT09P15AhQ7Rp0yZlZGTI19dX4eHhOnz4sKnOjBkz9NprryklJUVbt26Vk5OTIiIidPbs2arPDABwWXZ2durYsaPpwaOSTA8i7dKlS4XtZsyYocmTJys1NVUhISFm5/z9/eXl5WXWZ15enrZu3XrJPgEAAAAAAP4qLE6sz5o1SyNGjFB0dLTatWunlJQUNWrUSAsWLCi3/rJlyzR69GgFBwerTZs2mjdvnilpI52/Wz05OVkTJkxQv379FBQUpMWLF+vIkSNavXr1FU0OAHB5sbGxmjt3rhYtWqRdu3Zp1KhRKigoUHR0tCRp6NChiouLM9WfPn26Jk6cqAULFsjPz0/Z2dnKzs5Wfn6+JMnKykpPPfWUpkyZojVr1uj777/X0KFD5ePjo/79+1+NKQIAAAAAAFQrW0sqFxUVafv27WYJFmtra4WFhSkjI6NSffz+++86d+6cmjZtKknav3+/srOzTQ+9kyQXFxeFhoYqIyNDgwcPLtNHYWGhCgsLTa/z8vIsmQYA4AJRUVE6fvy44uPjlZ2dreDgYKWmppoePnrw4EFZW//5PeycOXNUVFSkgQMHmvWTkJCgF198UZL03HPPqaCgQCNHjtTp06fVtWtXpaamXtE+7AAAAAAAAHWFRYn1EydOqLi42JRsKeXp6andu3dXqo9x48bJx8fHlEjPzs429XFxn6XnLpaUlKRJkyZZMnQAwCXExMQoJiam3HPp6elmr7Oysi7bn5WVlRITE5WYmFgNowMAAAAAAKhbqvTw0qqaNm2ali9frlWrVl3RXYtxcXHKzc01Hb/88ks1jhIAAAAAAAAAgIpZdMe6u7u7bGxslJOTY1aek5MjLy+vS7adOXOmpk2bpk8//VRBQUGm8tJ2OTk58vb2NuszODi43L7s7e1lb29vydABAAAAAAAAAKgWFt2xbmdnp44dO5oePCrJ9CDSLl26VNhuxowZmjx5slJTUxUSEmJ2zt/fX15eXmZ95uXlaevWrZfsEwAAAAAAAACAq8GiO9YlKTY2VsOGDVNISIg6deqk5ORkFRQUKDo6WpI0dOhQtWjRQklJSZKk6dOnKz4+Xm+//bb8/PxM+6Y7OzvL2dlZVlZWeuqppzRlyhS1bt1a/v7+mjhxonx8fNS/f//qmykAAAAAAAAAANXA4sR6VFSUjh8/rvj4eGVnZys4OFipqammh48ePHhQ1tZ/3gg/Z84cFRUVaeDAgWb9JCQk6MUXX5QkPffccyooKNDIkSN1+vRpde3aVampqVe0DzsAAAAAAAAAADXB4sS6JMXExCgmJqbcc+np6Wavs7KyLtuflZWVEhMTlZiYWJXhAAAAAAAAAABQayzaYx0AAABA3Td79mz5+fnJwcFBoaGh2rZtW4V1586dq27dusnNzU1ubm4KCwsrU98wDMXHx8vb21uOjo4KCwvTTz/9VNPTAAD8D3EdAOoeEusAAABAPbJixQrFxsYqISFBO3bsUIcOHRQREaFjx46VWz89PV1DhgzRpk2blJGRIV9fX4WHh+vw4cOmOjNmzNBrr72mlJQUbd26VU5OToqIiNDZs2dra1oA0GAR1wGgbiKxDgAAANQjs2bN0ogRIxQdHa127dopJSVFjRo10oIFC8qtv2zZMo0ePVrBwcFq06aN5s2bp5KSEqWlpUk6f1djcnKyJkyYoH79+ikoKEiLFy/WkSNHtHr16lqcGQA0TMR1AKibSKwDAAAA9URRUZG2b9+usLAwU5m1tbXCwsKUkZFRqT5+//13nTt3Tk2bNpUk7d+/X9nZ2WZ9uri4KDQ09JJ9FhYWKi8vz+wAAFiGuA4AdReJdQAAAKCeOHHihIqLi+Xp6WlW7unpqezs7Er1MW7cOPn4+JgSLqXtLO0zKSlJLi4upsPX19eSqQAARFwHgLqMxDoAAAAASdK0adO0fPlyrVq1Sg4ODlfUV1xcnHJzc03HL7/8Uk2jBABUFnEdAGqO7dUeAAAAAIDq4e7uLhsbG+Xk5JiV5+TkyMvL65JtZ86cqWnTpunTTz9VUFCQqby0XU5Ojry9vc36DA4OrrA/e3t72dvbV2EWAIBSxHUAqLu4Yx0AAACoJ+zs7NSxY0fTA+okmR5Y16VLlwrbzZgxQ5MnT1ZqaqpCQkLMzvn7+8vLy8usz7y8PG3duvWSfQIArhxxHQDqLu5YBwAAAOqR2NhYDRs2TCEhIerUqZOSk5NVUFCg6OhoSdLQoUPVokULJSUlSZKmT5+u+Ph4vf322/Lz8zPtr+vs7CxnZ2dZWVnpqaee0pQpU9S6dWv5+/tr4sSJ8vHxUf/+/a/WNAGgwSCuA0DdRGIdAAAAqEeioqJ0/PhxxcfHKzs7W8HBwUpNTTU9pO7gwYOytv5z4eqcOXNUVFSkgQMHmvWTkJCgF198UZL03HPPqaCgQCNHjtTp06fVtWtXpaamXvF+vQCAyyOuA0DdRGIdAAAAqGdiYmIUExNT7rn09HSz11lZWZftz8rKSomJiUpMTKyG0QEALEVcB4C6hz3WAQAAAAAAAACwAIl1AAAAAAAAAAAsQGIdAAAAAAAAAAALkFgHAAAAAAAAAMACJNYBAAAAAAAAALAAiXUAAAAAAAAAACxAYh0AAAAAAAAAAAuQWAcAAAAAAAAAwAIk1gEAAAAAAAAAsACJdQAAAAAAAAAALEBiHQAAAAAAAAAAC5BYBwAAAAAAAADAAiTWAQAAAAAAAACwAIl1AAAAAAAAAAAsQGIdAAAAAAAAAAALkFgHAAAAAAAAAMACJNYBAAAAAAAAALAAiXUAAAAAAAAAACxAYh0AAAAAAAAAAAuQWAcAAAAAAAAAwAIk1gEAAAAAAAAAsACJdQAAAAAAAAAALEBiHQAAAAAAAAAAC5BYBwAAAAAAAADAAiTWAQAAAAAAAACwAIl1AAAAAAAAAAAsQGIdAAAAAAAAAAALkFgHAAAAAPx/e/cf3VV93w/8laAEEEEsSMDyJSKKpfJL0BRXy1rjgrMrtswDzApSZSsbnS6tXeMoSLWLrUCpLS2TU0RXrfij69najlZTsZsitGCmIFpFKCAk/JgKgoKD9/cPDx9NCdYLSfgkPB7n3EM+977v/dyb+8nzcJ65uRcAgAwU6wDE3Llzo6SkJNq1axelpaWxfPnyw45dvXp1jB49OkpKSqKgoCDmzJlzyJibbropCgoK6k3nnHNOEx4BAAAAQPNRrAMc5xYtWhQVFRUxffr0WLlyZQwaNCjKy8tj69atDY7fs2dP9OnTJ2699dYoLi4+7HY//OEPx5YtW3LTf//3fzfVIQAAAAA0K8U6wHFu9uzZMWnSpJg4cWL0798/5s2bFx06dIgFCxY0OP7888+P2267LcaOHRtFRUWH3e4JJ5wQxcXFualr165NdQgAAAAAzUqxDnAc27dvX6xYsSLKyspy8woLC6OsrCyWLl16VNt+4YUXomfPntGnT5+48sorY8OGDUe7uwAAAAB5QbEOcBzbvn177N+/P7p3715vfvfu3aO2tvaIt1taWhoLFy6MxYsXx/e///1Yt25dXHTRRbFr164Gx+/duzd27txZbwIAAADIV0dUrHvIHQDv5dJLL40rrrgiBg4cGOXl5fHzn/88Xn311bj//vsbHF9VVRWdO3fOTb169WrmPQYAAAB4/zIX6x5yB9B6dO3aNdq0aRN1dXX15tfV1b1nZmd1yimnxNlnnx0vvvhig8srKyvjtddey00bN25stPcGAAAAaGyZi3UPuQNoPdq2bRtDhw6N6urq3LwDBw5EdXV1DB8+vNHe5/XXX4+1a9dGjx49GlxeVFQUnTp1qjcBAAAA5KtMxXq+POTOvXgBGk9FRUXMnz8/7rrrrlizZk1Mnjw5du/eHRMnToyIiPHjx0dlZWVu/L59+6KmpiZqampi37598fLLL0dNTU29q9G/9KUvxWOPPRbr16+PJ554Ij796U9HmzZtYty4cc1+fAAAAACN7YQsg9/rIXfPPffcEe/EwYfc9evXL7Zs2RIzZsyIiy66KFatWhUnn3zyIeOrqqpixowZR/x+ALxjzJgxsW3btpg2bVrU1tbG4MGDY/Hixbms37BhQxQWvvN72M2bN8eQIUNyr2fOnBkzZ86MESNGxJIlSyIiYtOmTTFu3LjYsWNHdOvWLT760Y/Gk08+Gd26dWvWYwMAAABoCpmK9aZy6aWX5r4eOHBglJaWRu/eveP++++Pa6655pDxlZWVUVFRkXu9c+dOD7oDOApTpkyJKVOmNLjsYFl+UElJSaSU3nN79913X2PtGgAAAEDeyVSs58tD7oqKit7zfu0AAAAAANBUMt1jPV8ecgcAAAAAAMdKpmI9wkPuAAAg382dOzdKSkqiXbt2UVpaGsuXLz/s2NWrV8fo0aOjpKQkCgoKYs6cOYeMuemmm6KgoKDedM455zThEQDwbnIdIP9kvse6h9wBAED+WrRoUVRUVMS8efOitLQ05syZE+Xl5fH888/Haaeddsj4PXv2RJ8+feKKK66If/iHfzjsdj/84Q/HI488knt9wgl58bgmgFZPrgPkpyNKTQ+5AwCA/DR79uyYNGlS7i9K582bFz/72c9iwYIF8ZWvfOWQ8eeff36cf/75ERENLj/ohBNOaNTnKgHw/sh1gPyU+VYwAABAftq3b1+sWLEiysrKcvMKCwujrKwsli5delTbfuGFF6Jnz57Rp0+fuPLKK2PDhg1Hu7sA/BFyHSB/KdYBAKCV2L59e+zfvz93m8aDunfvHrW1tUe83dLS0li4cGEsXrw4vv/978e6devioosuil27dh12nb1798bOnTvrTQBkI9cB8pcbaAEAAO/p0ksvzX09cODAKC0tjd69e8f9998f11xzTYPrVFVVxYwZM5prFwHIQK4DHD1XrAMAQCvRtWvXaNOmTdTV1dWbX1dX16j30T3llFPi7LPPjhdffPGwYyorK+O1117LTRs3bmy09wc4Xsh1gPylWAcAgFaibdu2MXTo0Kiurs7NO3DgQFRXV8fw4cMb7X1ef/31WLt2bfTo0eOwY4qKiqJTp071JgCykesA+cutYAAAoBWpqKiICRMmxLBhw+KCCy6IOXPmxO7du2PixIkRETF+/Pg4/fTTo6qqKiLefjDes88+m/v65ZdfjpqamujYsWP07ds3IiK+9KUvxV/8xV9E7969Y/PmzTF9+vRo06ZNjBs37tgcJMBxRK4D5CfFOgAAtCJjxoyJbdu2xbRp06K2tjYGDx4cixcvzj34bsOGDVFY+M4frm7evDmGDBmSez1z5syYOXNmjBgxIpYsWRIREZs2bYpx48bFjh07olu3bvHRj340nnzyyejWrVuzHhvA8UiuA+QnxToAALQyU6ZMiSlTpjS47GCpclBJSUmklN5ze/fdd19j7RoAR0CuA+Qf91gHAAAAAIAMFOsAAAAAAJCBYh0AAAAAADJQrAMAAAAAQAaKdQAAAAAAyECxDgAAAAAAGSjWAQAAAAAgA8U6AAAAAABkoFgHAAAAAIAMFOsAAAAAAJCBYh0AAAAAADJQrAMAAAAAQAaKdQAAAAAAyECxDgAAAAAAGSjWAQAAAAAgA8U6AAAAAABkoFgHAAAAAIAMFOsAAAAAAJCBYh0AAAAAADJQrAMAAAAAQAaKdQAAAAAAyECxDgAAAAAAGSjWAQAAAAAgA8U6AAAAAABkoFgHAAAAAIAMFOsAAAAAAJCBYh0AAAAAADJQrAMAAAAAQAaKdQAAAAAAyECxDgAAAAAAGSjWAQAAAAAgA8U6AAAAAABkoFgHAAAAAIAMFOsAxNy5c6OkpCTatWsXpaWlsXz58sOOXb16dYwePTpKSkqioKAg5syZc9TbBAAAAGhJFOsAx7lFixZFRUVFTJ8+PVauXBmDBg2K8vLy2Lp1a4Pj9+zZE3369Ilbb701iouLG2WbAAAAAC2JYh3gODd79uyYNGlSTJw4Mfr37x/z5s2LDh06xIIFCxocf/7558dtt90WY8eOjaKiokbZJgAAAEBLckTFulsGALQO+/btixUrVkRZWVluXmFhYZSVlcXSpUubbZt79+6NnTt31psAAAAA8lXmYt0tAwBaj+3bt8f+/fuje/fu9eZ37949amtrm22bVVVV0blz59zUq1evI3pvAAAAgOaQuVh3ywAAGltlZWW89tpruWnjxo3HepcAAAAADitTse6WAQCtS9euXaNNmzZRV1dXb35dXd1h/8qoKbZZVFQUnTp1qjcBAAAA5KtMxbpbBgC0Lm3bto2hQ4dGdXV1bt6BAweiuro6hg8fnjfbBAAAAMgnR/Tw0mPNLQMAGk9FRUXMnz8/7rrrrlizZk1Mnjw5du/eHRMnToyIiPHjx0dlZWVu/L59+6KmpiZqampi37598fLLL0dNTU28+OKL73ubADStuXPnRklJSbRr1y5KS0tj+fLlhx27evXqGD16dJSUlERBQUHMmTPnqLcJQOOS6wD5J1Ox7pYBAK3PmDFjYubMmTFt2rQYPHhw1NTUxOLFi3N/SbRhw4bYsmVLbvzmzZtjyJAhMWTIkNiyZUvMnDkzhgwZEtdee+373iYATWfRokVRUVER06dPj5UrV8agQYOivLw8tm7d2uD4PXv2RJ8+feLWW2897P+/s24TgMYj1wHyU6Zi3S0DAFqnKVOmxO9///vYu3dvLFu2LEpLS3PLlixZEgsXLsy9LikpiZTSIdOSJUve9zYBaDqzZ8+OSZMmxcSJE6N///4xb9686NChQyxYsKDB8eeff37cdtttMXbs2CgqKmqUbQLQeOQ6QH7KfCsYtwwAAID8tG/fvlixYkWUlZXl5hUWFkZZWVksXbo0b7YJwPsj1wHy1wlZVxgzZkxs27Ytpk2bFrW1tTF48OBDbhlQWPhOX3/wlgEHzZw5M2bOnBkjRozIXd34x7YJAAD8cdu3b4/9+/cf8v/o7t27x3PPPdes29y7d2/s3bs393rnzp1H9P4AxzO5DpC/MhfrEW//ef+UKVMaXPaHtwI4eMuAo9kmAADQslRVVcWMGTOO9W4A0EjkOkB9mW8FAwAA5KeuXbtGmzZtoq6urt78urq6wz7Arqm2WVlZGa+99lpu2rhx4xG9P8DxTK4D5C/FOgAAtBJt27aNoUOHRnV1dW7egQMHorq6OoYPH96s2ywqKopOnTrVmwDIRq4D5K8juhUMAACQnyoqKmLChAkxbNiwuOCCC2LOnDmxe/fumDhxYkREjB8/Pk4//fSoqqqKiLcfYvfss8/mvn755ZejpqYmOnbsGH379n1f2wSg6ch1gPykWAcAgFZkzJgxsW3btpg2bVrU1tbG4MGDY/HixbmH1G3YsCEKC9/5w9XNmzfHkCFDcq9nzpwZM2fOjBEjRuSen/THtglA05HrAPlJsQ4AAK3MlClTYsqUKQ0uO1iqHFRSUhIppaPaJgBNS64D5B/3WAcAAAAAgAwU6wAAAAAAkIFiHQAAAAAAMlCsAwAAAABABop1AAAAAADIQLEOAAAAAAAZKNYBAAAAACADxToAAAAAAGSgWAcAAAAAgAwU6wAAAAAAkIFiHQAAAAAAMlCsAwAAAABABop1AAAAAADIQLEOAAAAAAAZKNYBAAAAACADxToAAAAAAGSgWAcAAAAAgAwU6wAAAAAAkIFiHQAAAAAAMlCsAwAAAABABop1AAAAAADIQLEOAAAAAAAZKNYBAAAAACADxToAAAAAAGSgWAcAAAAAgAwU6wAAAAAAkIFiHQAAAAAAMlCsAwAAAABABop1AAAAAADIQLEOAAAAAAAZKNYBAAAAACADxToAAAAAAGSgWAcAAAAAgAwU6wAAAAAAkIFiHQAAAAAAMlCsAwAAAABABop1AAAAAADIQLEOQMydOzdKSkqiXbt2UVpaGsuXL3/P8Q888ECcc8450a5duxgwYED8/Oc/r7f86quvjoKCgnrTyJEjm/IQAAAAAJqNYh3gOLdo0aKoqKiI6dOnx8qVK2PQoEFRXl4eW7dubXD8E088EePGjYtrrrkmnnrqqbj88svj8ssvj1WrVtUbN3LkyNiyZUtu+tGPftQchwMAAADQ5I6oWHdlI0DrMXv27Jg0aVJMnDgx+vfvH/PmzYsOHTrEggULGhz/7W9/O0aOHBk33HBDfOhDH4qbb745zjvvvPjud79bb1xRUVEUFxfnpi5dujTH4QAAAAA0uczFuisbAVqPffv2xYoVK6KsrCw3r7CwMMrKymLp0qUNrrN06dJ64yMiysvLDxm/ZMmSOO2006Jfv34xefLk2LFjR+MfAAAAAMAxkLlYd2UjQOuxffv22L9/f3Tv3r3e/O7du0dtbW2D69TW1v7R8SNHjoy77747qqur4xvf+EY89thjcemll8b+/fsb3ObevXtj586d9SYAAACAfJWpWM+XKxsVMAD5bezYsfGpT30qBgwYEJdffnn89Kc/jd/85jexZMmSBsdXVVVF586dc1OvXr2ad4cBWhm3bgRoXeQ6QP7JVKzny5WNChiAxtG1a9do06ZN1NXV1ZtfV1cXxcXFDa5TXFycaXxERJ8+faJr167x4osvNri8srIyXnvttdy0cePGjEcCwEFu3QjQush1gPx0RA8vbWxZr2xUwAA0jrZt28bQoUOjuro6N+/AgQNRXV0dw4cPb3Cd4cOH1xsfEfHwww8fdnxExKZNm2LHjh3Ro0ePBpcXFRVFp06d6k0AHBm3bgRoXeQ6QH7KVKzny5WNChiAxlNRURHz58+Pu+66K9asWROTJ0+O3bt3x8SJEyMiYvz48VFZWZkbf91118XixYtj1qxZ8dxzz8VNN90Uv/3tb2PKlCkREfH666/HDTfcEE8++WSsX78+qqurY9SoUdG3b98oLy8/JscIcLzIl1s3Rrh9I0BjkOsA+StTsZ4vVzYC0HjGjBkTM2fOjGnTpsXgwYOjpqYmFi9enLuN14YNG2LLli258RdeeGHce++9cccdd8SgQYPiwQcfjJ/85Cdx7rnnRkREmzZt4umnn45PfepTcfbZZ8c111wTQ4cOjf/6r/+KoqKiY3KMAMeLfLl1Y4TbNwI0BrkOkL9OyLpCRUVFTJgwIYYNGxYXXHBBzJkz55ArG08//fSoqqqKiLevbBwxYkTMmjUrLrvssrjvvvvit7/9bdxxxx0R8faVjTNmzIjRo0dHcXFxrF27Nr785S+7shGgGU2ZMiV3xfkfaui2XFdccUVcccUVDY5v3759/OIXv2jM3QPgGBs7dmzu6wEDBsTAgQPjzDPPjCVLlsTFF1/c4DqVlZVRUVGRe71z504lDECekOsARy9zsT5mzJjYtm1bTJs2LWpra2Pw4MGHXNlYWPjOhfAHr2ycOnVq3HjjjXHWWWc1eGXjXXfdFa+++mr07Nkz/uzP/ixuvvlmVzYCAEAGx+LWjYcrYIqKivx/HuAoyXWA/HVEDy+dMmVK/P73v4+9e/fGsmXLorS0NLdsyZIlsXDhwnrjr7jiinj++edj7969sWrVqvjzP//z3LKDVzZu3bo19u3bF+vXr4877rjjkD9bAgAA3ptbNwK0LnIdIH8dUbEOAADkJw+lBmhd5DpAfsp8KxgAACB/uXUjQOsi1wHyk2IdAABaGQ+lBmhd5DpA/nErGAAAAAAAyECxDgAAAAAAGSjWAQAAAAAgA8U6AAAAAABkoFgHAAAAAIAMFOsAAAAAAJCBYh0AAAAAADJQrAMAAAAAQAaKdQAAAAAAyECxDgAAAAAAGSjWAQAAAAAgA8U6AAAAAABkoFgHAAAAAIAMFOsAAAAAAJCBYh0AAAAAADJQrAMAAAAAQAaKdQAAAAAAyECxDgAAAAAAGSjWAQAAAAAgA8U6AAAAAABkoFgHAAAAAIAMFOsAAAAAAJCBYh0AAAAAADJQrAMAAAAAQAaKdQAAAAAAyECxDgAAAAAAGSjWAQAAAAAgA8U6AAAAAABkoFgHAAAAAIAMFOsAAAAAAJCBYh0AAAAAADJQrAMAAAAAQAaKdQAAAAAAyECxDgAAAAAAGSjWAQAAAAAgA8U6AAAAAABkoFgHAAAAAIAMFOsAAAAAAJCBYh0AAAAAADJQrAMAAAAAQAaKdQAAAAAAyOCIivW5c+dGSUlJtGvXLkpLS2P58uXvOf6BBx6Ic845J9q1axcDBgyIn//85/WWp5Ri2rRp0aNHj2jfvn2UlZXFCy+8cCS7BsARkOsArYtcB2hd5DpA/slcrC9atCgqKipi+vTpsXLlyhg0aFCUl5fH1q1bGxz/xBNPxLhx4+Kaa66Jp556Ki6//PK4/PLLY9WqVbkx3/zmN+P222+PefPmxbJly+Kkk06K8vLyePPNN4/8yAB4X+Q6QOsi1wFaF7kOkJ8yF+uzZ8+OSZMmxcSJE6N///4xb9686NChQyxYsKDB8d/+9rdj5MiRccMNN8SHPvShuPnmm+O8886L7373uxHx9m9J58yZE1OnTo1Ro0bFwIED4+67747NmzfHT37yk6M6OAD+OLkO0LrIdYDWRa4D5KcTsgzet29frFixIiorK3PzCgsLo6ysLJYuXdrgOkuXLo2Kiop688rLy3NhvW7duqitrY2ysrLc8s6dO0dpaWksXbo0xo4de8g29+7dG3v37s29fu211yIiYufOnVkOJ+fA3j1HtB7vONLv/eE4J0fPOck/R3JODq6TUmrs3YkIuc7hyZD845zkH7l++FyPaNxs93k9ejIk/zgn+Ueuy/WWRIbkH+ck/zR1rmcq1rdv3x779++P7t2715vfvXv3eO655xpcp7a2tsHxtbW1ueUH5x1uzB+qqqqKGTNmHDK/V69e7+9AaHSd5xzrPeAPOSf552jOya5du6Jz586Nti8HyXUOR4bkH+ck/8j1w+d6hGzPNzIk/zgn+Ueuy/WWRIbkH+ck/zR1rmcq1vNFZWVlvd++HjhwIP73f/83PvCBD0RBQcEx3LPGt3PnzujVq1ds3LgxOnXqdKx3h3BO8lVrPS8ppdi1a1f07NnzWO9Kk5LrHEvOSX5qrefleMn1iOMn21vrZ7Ulc07yU2s9L3JdrtP0nJP81FrPS5Zcz1Ssd+3aNdq0aRN1dXX15tfV1UVxcXGD6xQXF7/n+IP/1tXVRY8ePeqNGTx4cIPbLCoqiqKionrzTjnllCyH0uJ06tSpVX1IWwPnJD+1xvPSFFe+HCTXj53W+Flt6ZyT/NQaz8vxkOsRx1+2t8bPakvnnOSn1nhe5Hrr1Bo/qy2dc5KfWuN5eb+5nunhpW3bto2hQ4dGdXV1bt6BAweiuro6hg8f3uA6w4cPrzc+IuLhhx/OjT/jjDOiuLi43pidO3fGsmXLDrtNABqHXAdoXeQ6QOsi1wHyV+ZbwVRUVMSECRNi2LBhccEFF8ScOXNi9+7dMXHixIiIGD9+fJx++ulRVVUVERHXXXddjBgxImbNmhWXXXZZ3HffffHb3/427rjjjoiIKCgoiOuvvz5uueWWOOuss+KMM86Ir371q9GzZ8+4/PLLG+9IAWiQXAdoXeQ6QOsi1wHyU+ZifcyYMbFt27aYNm1a1NbWxuDBg2Px4sW5h15s2LAhCgvfuRD+wgsvjHvvvTemTp0aN954Y5x11lnxk5/8JM4999zcmC9/+cuxe/fu+Ou//ut49dVX46Mf/WgsXrw42rVr1wiH2LIVFRXF9OnTD/lzK44d5yQ/OS9HTq43L5/V/OOc5Cfn5cjJ9ebls5p/nJP85LwcObnevHxW849zkp+cl4iClFI61jsBAAAAAAAtRaZ7rAMAAAAAwPFOsQ4AAAAAABko1gEAAAAAIAPFOtDi/emf/mlcf/31x3o3AGgkch2gdZHrAK2PbFesN4lt27bF5MmT4//9v/8XRUVFUVxcHOXl5fH4448f611rtTZu3Bif+9znomfPntG2bdvo3bt3XHfddbFjx45jvWtHZcmSJVFQUBCvvvrqsd6VJnP11VdHQUFBFBQUxIknnhhnnHFGfPnLX44333zzfW/jxz/+cdx8881NuJcc7+R685PrLZdcpyWQ681Prrdccp2WQK43P7nessn2xnHCsd6B1mj06NGxb9++uOuuu6JPnz5RV1cX1dXVLT5c8tVLL70Uw4cPj7PPPjt+9KMfxRlnnBGrV6+OG264If7zP/8znnzyyTj11FOb5L3feuutOPHEE5tk28eTkSNHxp133hlvvfVWrFixIiZMmBAFBQXxjW98432t31TnFw6S681Lrrd8cp18J9ebl1xv+eQ6+U6uNy+53jrI9kaQaFSvvPJKioi0ZMmSBpevW7cuRUR66qmnDlnn0UcfTSml9Oijj6aISI888kgaOnRoat++fRo+fHh67rnncutMnz49DRo0KN19992pd+/eqVOnTmnMmDFp586dKaWU7rrrrnTqqaemN998s977jxo1Kn32s59t3IM+xkaOHJk++MEPpj179tSbv2XLltShQ4f0+c9/PlVWVqYLLrjgkHUHDhyYZsyYkXs9f/78dM4556SioqLUr1+/NHfu3Nyyg+fuvvvuSx/72MdSUVFRuvPOO1NKKf3gBz9I/fv3T23btk3FxcXp7/7u73LrzZo1K5177rmpQ4cO6YMf/GCaPHly2rVrV275+vXr0yc/+cl0yimnpA4dOqT+/funn/3sZ7n3e/c0YcKERvqu5Y8JEyakUaNG1Zv3mc98Jg0ZMiSllNL27dvT2LFjU8+ePVP79u3Tueeem+69995640eMGJGuu+663OvevXunr3/962nixImpY8eOqVevXulf/uVfcss//vGP1ztHKaW0devWdOKJJ6ZHHnmkcQ+QFk+uNz+53rLJdfKdXG9+cr1lk+vkO7ne/OR6yyfbG4divZG99dZbqWPHjun6668/JExTyhbopaWlacmSJWn16tXpoosuShdeeGFunenTp6eOHTumz3zmM+mZZ55Jv/71r1NxcXG68cYbU0op7dmzJ3Xu3Dndf//9uXXq6urSCSeckH71q181zcEfAzt27EgFBQXpn//5nxtcPmnSpNSlS5e0atWqFBHpxRdfzC07OO+FF15IKaX0wx/+MPXo0SM99NBD6aWXXkoPPfRQOvXUU9PChQtTSu+cu5KSktyYzZs3p+9973upXbt2ac6cOen5559Py5cvT9/61rdy7/Otb30r/epXv0rr1q1L1dXVqV+/fmny5Mm55Zdddlm65JJL0tNPP53Wrl2b/uM//iM99thj6f/+7//SQw89lCIiPf/882nLli3p1VdfbYLv4rH1h2H+zDPPpOLi4lRaWppSSmnTpk3ptttuS0899VRau3Ztuv3221ObNm3SsmXLcus0FOannnpqmjt3bnrhhRdSVVVVKiwszP2n6J577kldunSp9zM6e/bsVFJSkg4cONC0B0yLI9ebl1xv+eQ6+U6uNy+53vLJdfKdXG9ecr11kO2NQ7HeBB588MHUpUuX1K5du3ThhRemysrK9D//8z8ppey/KT3oZz/7WYqI9MYbb6SU3g70Dh065H4zmlJKN9xwQ+4HIKWUJk+enC699NLc61mzZqU+ffq02A9rQ5588skUEenf/u3fGlw+e/bsFBGprq4uDRo0KH3ta1/LLausrKz3/TrzzDMP+e3bzTffnIYPH55SeufczZkzp96Ynj17pn/6p3963/v8wAMPpA984AO51wMGDEg33XRTg2MPfhZeeeWV9739lmbChAmpTZs26aSTTkpFRUUpIlJhYWF68MEHD7vOZZddlr74xS/mXjcU5u++IuDAgQPptNNOS9///vdTSim98cYbqUuXLmnRokW5MQMHDjzseQC53nzkessn12kJ5Hrzkestn1ynJZDrzUeutw6yvXF4eGkTGD16dGzevDn+/d//PUaOHBlLliyJ8847LxYuXJhpOwMHDsx93aNHj4iI2Lp1a25eSUlJnHzyyfXGvHv5pEmT4pe//GW8/PLLERGxcOHC3MMJWpuU0h8dc+WVV8a9996bG/+jH/0orrzyyoiI2L17d6xduzauueaa6NixY2665ZZbYu3atfW2M2zYsNzXW7dujc2bN8fFF1982Pd95JFH4uKLL47TTz89Tj755Ljqqqtix44dsWfPnoiI+Pu///u45ZZb4k/+5E9i+vTp8fTTT2c+/pbu4x//eNTU1MSyZctiwoQJMXHixBg9enREROzfvz9uvvnmGDBgQJx66qnRsWPH+MUvfhEbNmx4z22+++enoKAgiouLcz8f7dq1i6uuuioWLFgQERErV66MVatWxdVXX900B0iLJ9ebn1xv2eQ6+U6uNz+53rLJdfKdXG9+cr3lk+1HT7HeRNq1axeXXHJJfPWrX40nnngirr766pg+fXoUFr79LX93AL311lsNbuPdD2M4GMIHDhxocPnBMe9ePmTIkBg0aFDcfffdsWLFili9enWL/rA2pG/fvlFQUBBr1qxpcPmaNWuiS5cu0a1btxg3blw8//zzsXLlynjiiSdi48aNMWbMmIiIeP311yMiYv78+VFTU5ObVq1aFU8++WS9bZ500km5r9u3b/+e+7d+/fr45Cc/GQMHDoyHHnooVqxYEXPnzo2IiH379kVExLXXXhsvvfRSXHXVVfHMM8/EsGHD4jvf+c6RfUNaqJNOOin69u0bgwYNigULFsSyZcviBz/4QURE3HbbbfHtb387/vEf/zEeffTRqKmpifLy8tz373D+2M/HtddeGw8//HBs2rQp7rzzzvjEJz4RvXv3bvyDo9WQ681DrrcOcp2WQK43D7neOsh1WgK53jzkeush24+eYr2Z9O/fP3bv3h3dunWLiIgtW7bkltXU1DTZ+1577bWxcOHCuPPOO6OsrCx69erVZO91LHzgAx+ISy65JL73ve/FG2+8UW9ZbW1t3HPPPTFmzJgoKCiID37wgzFixIi455574p577olLLrkkTjvttIiI6N69e/Ts2TNeeuml6Nu3b73pjDPOOOz7n3zyyVFSUhLV1dUNLl+xYkUcOHAgZs2aFR/5yEfi7LPPjs2bNx8yrlevXvH5z38+fvzjH8cXv/jFmD9/fkREtG3bNiLe/k3h8aKwsDBuvPHGmDp1arzxxhvx+OOPx6hRo+Kzn/1sDBo0KPr06RO/+93vjvp9BgwYEMOGDYv58+fHvffeG5/73OcaYe85nsj1piHXWx+5Tksh15uGXG995DothVxvGnK9dZLtR0ax3sh27NgRn/jEJ+KHP/xhPP3007Fu3bp44IEH4pvf/GaMGjUq2rdvHx/5yEfi1ltvjTVr1sRjjz0WU6dObbL9+au/+qvYtGlTzJ8/v8V/WA/nu9/9buzduzfKy8vj17/+dWzcuDEWL14cl1xySZx++unx9a9/PTf2yiuvjPvuuy8eeOCB3J8fHTRjxoyoqqqK22+/PX73u9/FM888E3feeWfMnj37Pd//pptuilmzZsXtt98eL7zwQqxcuTL3m86+ffvGW2+9Fd/5znfipZdein/913+NefPm1Vv/+uuvj1/84hexbt26WLlyZTz66KPxoQ99KCIievfuHQUFBfHTn/40tm3blvuNbmt3xRVXRJs2bWLu3Llx1llnxcMPPxxPPPFErFmzJv7mb/4m6urqGuV9rr322rj11lsjpRSf/vSnG2WbtD5yvfnJ9dZHrpNP5Hrzk+utj1wnn8j15ifXWyfZfgSa/7burdubb76ZvvKVr6Tzzjsvde7cOXXo0CH169cvTZ06Ne3ZsyellNKzzz6bhg8fntq3b58GDx6cfvnLXzb40Ix3PyjhqaeeShGR1q1bl1J6+6EZgwYNqvfe3/rWt1Lv3r0P2aerrroqnXrqqQ0+Hbu1WL9+fZowYULq3r17OvHEE1OvXr3SF77whbR9+/Z641555ZVUVFSUOnTokHbt2nXIdu655540ePDg1LZt29SlS5f0sY99LP34xz9OKTX8wJOD5s2bl/r165dOPPHE1KNHj/SFL3wht2z27NmpR48eqX379qm8vDzdfffd9c7vlClT0plnnpmKiopSt27d0lVXXVVvv7/2ta+l4uLiVFBQkCZMmHD036w884dPoj6oqqoqdevWLW3atCmNGjUqdezYMZ122mlp6tSpafz48fXWaeiBGe9+InhKKQ0aNChNnz693rxdu3alDh06pL/9279tvAOi1ZHrx4Zcb7nkOvlOrh8bcr3lkuvkO7l+bMj1lk22N46ClN7H0wZo0S6++OL48Ic/HLfffvux3hXIK+vXr48zzzwzfvOb38R55513rHcH3je5Dg2T67RUch0aJtdpqeQ6HF5rynbFeiv2yiuvxJIlS+Iv//Iv49lnn41+/fod612CvPDWW2/Fjh074ktf+lKsW7cuHn/88WO9S/C+yHVomFynpZLr0DC5Tksl1+HwWmO2n3Csd4CmM2TIkHjllVfiG9/4hjCHd3n88cfj4x//eJx99tnx4IMPHuvdgfdNrkPD5DotlVyHhsl1Wiq5DofXGrPdFesAAAAAAJBB4bHeAQAAAAAAaEkU6wAAAAAAkIFiHQAAAAAAMlCsAwAAAABABop1AAAAAADIQLEOAAAAAAAZKNYBAAAAACADxToAAAAAAGSgWAcAAAAAgAz+P+//dBmydw9yAAAAAElFTkSuQmCC\n",
      "text/plain": [
       "<Figure size 1850x600 with 4 Axes>"
      ]
=======
      "image/png": "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",
      "text/plain": [
       "<Figure size 1332x432 with 4 Axes>"
      ]
     },
     "metadata": {
      "needs_background": "light"
>>>>>>> d432bf208edfb2dd8f8390db5351f679e173f00d
     },
     "output_type": "display_data"
    }
   ],
   "source": [
    "day_2: np.array = trajectories[:, 2]\n",
    "day_3: np.array = trajectories[:, 3]\n",
    "day_30: np.array = trajectories[:, 30]\n",
    "plot_hist(days=[day_2, day_3, day_30])"
   ]
  },
  {
<<<<<<< HEAD
   "cell_type": "markdown",
   "metadata": {
=======
   "attachments": {},
   "cell_type": "markdown",
   "metadata": {
    "collapsed": false,
>>>>>>> d432bf208edfb2dd8f8390db5351f679e173f00d
    "pycharm": {
     "name": "#%% md\n"
    }
   },
   "source": [
    "We have found that the invariant measure $p$ is, given the probability of the event $\"rainy\"$, $p_r$: $p=\\begin{pmatrix}6/5p_r \\\\ 8/5p_r \\\\ p_r\\end{pmatrix}$. <br>\n",
    "We notice that, for $t=30$, $p_s\\approx 6/5*p_r$, $p_o\\approx 8/5*p_r$:"
   ]
  },
  {
<<<<<<< HEAD
   "cell_type": "markdown",
   "metadata": {
=======
   "attachments": {},
   "cell_type": "markdown",
   "metadata": {
    "collapsed": false,
>>>>>>> d432bf208edfb2dd8f8390db5351f679e173f00d
    "pycharm": {
     "name": "#%% md\n"
    }
   },
   "source": [
    "Then it seems that there is convergence to the invariant measure."
   ]
  },
  {
<<<<<<< HEAD
   "cell_type": "markdown",
   "metadata": {
=======
   "attachments": {},
   "cell_type": "markdown",
   "metadata": {
    "collapsed": false,
>>>>>>> d432bf208edfb2dd8f8390db5351f679e173f00d
    "pycharm": {
     "name": "#%% md\n"
    }
   },
   "source": [
    "# Task 1.4 <br>\n",
    "The invariant measure, $p\\in[0,1]^3$, is the eigenvector of $P$ for $\\lambda_1=1$. <br>\n",
    "$\\begin{align}det(P-\\lambda I)=-\\lambda^3+7/5\\lambda^2-13/30\\lambda+1/30=0 \\iff \\lambda=1 \\vee \\lambda=1/30(6+\\sqrt{6})\\vee \\lambda=1/30(6-\\sqrt{6}),\\end{align}$\n",
    "then the other eigenvalues of $P$ are $\\lambda_2=1/30(6+\\sqrt{6}), \\ \\lambda_3=1/30(6+\\sqrt{6})$. We notice that they are both <1, which is in line with theory since a stochastic matrix has eigenvalues 1 and the others less than 1 in module. Let be $v_2, \\ v_3$ the eigenvectors corresponding to $\\lambda_2$ and $\\lambda_3$. <br>\n",
    "Proving that the chain converges to the invariant measure means showing that:\n",
    "$\\begin{align}\\lim_{t\\to\\infty} Pp_t=\\lim_{t\\to\\infty}P^tp_1=p,\\end{align}$\n",
    "where $p_t$ is the distribution of $X_t$ and $p_1$ is the initial distribution. <br>\n",
    "Since $p,v_2,v_3$ form a basis of $[0,1]^3$ we have:\n",
    "$\\begin{align}\\exists \\alpha,\\beta,\\gamma\\in\\mathbb{R} | \\ p_1=\\alpha p+\\beta v_2+ \\gamma v_3.\\end{align}$\n",
    "Now we observe that $\\forall i\\in\\{2,3\\}$ $<v_i,(1,1,1)>=0$: <br>\n",
    "$Pv_i=\\lambda_i v_i\\iff <Pv_i,(1,1,1)>=\\lambda_i<v_i,(1,1,1)>\\iff\\lambda_i<v_i,(1,1,1)>=\\sum_{j=1}^3 {v_i}_j  (\\sum_{k=1}^3 P_{kj})=<v_i,(1,1,1)>\\iff <v_i,(1,1,1)>=0$,<br>\n",
    "where we have used that $P$ is stochastic and that $\\lambda_i<1$ (from which follows the conclusion).<br>\n",
    "$p_1$ is a probability measure as well as $p$, then: \n",
    "$1=\\sum_{i=1}^3{p_1}_i=<p_1,(1,1,1)>=\\alpha<p,(1,1,1)>+\\beta<v_2,(1,1,1)>+\\gamma<v_3,(1,1,1)>=\\alpha \\iff \\alpha=1$.<br>\n",
    "Consequently:\n",
    "$\\begin{align}\\lim_{t\\to\\infty}P^tp_1&=\\lim_{t\\to\\infty}(P^tp+\\beta P^tv_2+\\gamma P^tv_3)=\\\\\n",
    "&=\\lim_{t\\to\\infty}(\\lambda_1^t p+\\beta \\lambda_2^tv_2+\\gamma \\lambda_3^t v_3)=p,\\end{align}$\n",
    "given that $\\lambda_1^t=1^t\\to 1 \\text{ if } t\\to\\infty$, while $\\lambda_2,\\lambda_3<1$, then  $\\lambda_i^t\\to 0 \\text{ if } t\\to\\infty, \\ i\\in\\{2,3\\}$. Moreover the other quantities don't depend on t."
   ]
  },
  {
<<<<<<< HEAD
   "cell_type": "markdown",
   "metadata": {
=======
   "attachments": {},
   "cell_type": "markdown",
   "metadata": {
    "collapsed": false,
>>>>>>> d432bf208edfb2dd8f8390db5351f679e173f00d
    "pycharm": {
     "name": "#%% md\n"
    }
   },
   "source": [
    "# Task 1.5 Version 1\n",
    "\n",
    "For this task we implemented two versions to approach the problem.\n",
    "for both we consider:\n",
    "s = sunny\n",
    "o = overcast\n",
    "r = rainy\n",
    "\n",
    "given the information, that on day two there is no sun, we can follow, that it is either rainy or overcast on day 2.\n",
    "We know, that yesterday (simulation start) the weather was sunny. So we have the conditional probabilities for:\n",
    "\n",
    "o on day 2 given s on day 1 = P(o|s) = 1/3\n",
    "r on day 2 given s on day 1 = P(r|s) = 1/6\n",
    "s on day 2 given s on day 1 = P(s|s) = 1/2\n",
    "\n",
    "since we know that on day 2 it is not sunny, we conclude the probability for sunny on day 2 is 0\n",
    "\n",
    "However, we can distribute the probability from p(s|s) proportionally to P(o|s) and P(r|s) by:\n",
    "\n",
    "P(r|s) = P(r|s)/P(s|s) = 1/3\n",
    "P(o|s) = P(r|s)/P(s|s) = 2/3\n",
    "\n",
    "This allows us to have P(r|s) + P(o|s) = 1\n",
    "\n",
    "In version one, we use the simulation of day 2 and count all sunny, overcast and rainy days. Hover we distribute the sunny days proportionally to overcast(2/3) and rainy(1/3) and then calculate the probabilities for rain and overcast."
   ]
  },
  {
   "cell_type": "code",
   "execution_count": 10,
   "metadata": {
    "collapsed": false,
<<<<<<< HEAD
    "jupyter": {
     "outputs_hidden": false
    },
=======
>>>>>>> d432bf208edfb2dd8f8390db5351f679e173f00d
    "pycharm": {
     "name": "#%%\n"
    }
   },
   "outputs": [
    {
     "name": "stdout",
     "output_type": "stream",
     "text": [
      "P: Rainy    = 0.35789473684210527\n",
      "P: Overcast = 0.6421052631578947\n"
     ]
    }
   ],
   "source": [
    "count_sunny_day_2: np.array = np.count_nonzero(day_2 == 0)\n",
    "count_overcast_day_2: np.array = np.count_nonzero(day_2 == 1) + count_sunny_day_2 * (2/3)\n",
    "count_count_rainy_day_2: np.array = np.count_nonzero(day_2 == 2) + count_sunny_day_2 * (1/3)\n",
    "\n",
    "p_rainy: float = count_count_rainy_day_2 / len(day_2)\n",
    "p_overc: float = count_overcast_day_2 / len(day_2)\n",
    "\n",
    "print(f\"P: Rainy    = {p_rainy}\")\n",
    "print(f\"P: Overcast = {p_overc}\")"
   ]
  },
  {
<<<<<<< HEAD
   "cell_type": "markdown",
   "metadata": {
=======
   "attachments": {},
   "cell_type": "markdown",
   "metadata": {
    "collapsed": false,
>>>>>>> d432bf208edfb2dd8f8390db5351f679e173f00d
    "pycharm": {
     "name": "#%% md\n"
    }
   },
   "source": [
    "## Task 1.5 Version 2"
   ]
  },
  {
<<<<<<< HEAD
   "cell_type": "markdown",
   "metadata": {
=======
   "attachments": {},
   "cell_type": "markdown",
   "metadata": {
    "collapsed": false,
>>>>>>> d432bf208edfb2dd8f8390db5351f679e173f00d
    "pycharm": {
     "name": "#%% md\n"
    }
   },
   "source": [
    "Given the information we can compute the probability of rain at day 2 by considering the results of the simulation excluding all the events $\\{X_2=\"sunny\"\\}$."
   ]
  },
  {
   "cell_type": "code",
   "execution_count": 11,
   "metadata": {
    "collapsed": false,
<<<<<<< HEAD
    "jupyter": {
     "outputs_hidden": false
    },
=======
>>>>>>> d432bf208edfb2dd8f8390db5351f679e173f00d
    "pycharm": {
     "name": "#%%\n"
    }
   },
   "outputs": [
    {
     "name": "stdout",
     "output_type": "stream",
     "text": [
      "P: Rainy    = 0.3728813559322034\n",
      "P: Overcast = 0.6271186440677966\n"
     ]
    }
   ],
   "source": [
    "p_rainy2: float = np.sum(day_2 == 2) / np.sum(day_2 != 0)\n",
    "p_overcast2: float = np.sum(day_2 == 1) / np.sum(day_2 != 0)\n",
    "\n",
    "print(f\"P: Rainy    = {p_rainy2}\")\n",
    "print(f\"P: Overcast = {p_overcast2}\")"
   ]
  },
  {
<<<<<<< HEAD
   "cell_type": "markdown",
   "metadata": {
=======
   "attachments": {},
   "cell_type": "markdown",
   "metadata": {
    "collapsed": false,
>>>>>>> d432bf208edfb2dd8f8390db5351f679e173f00d
    "pycharm": {
     "name": "#%% md\n"
    }
   },
   "source": [
    "If we compute the probability not empirically we get: <br>\n",
    "Let be $E_1=\\{X_1=\"sunny\"\\}$ (initial condition), $P_{E_1}(\\cdot):=P(\\cdot|E_1)$ and $I=\\{X_2\\neq\"sunny\"\\}$, <br>\n",
    "$P_{E_1}(X_2=\"rainy\"|I)=\\frac{P_{E_1}(X_2=\"rainy\",I)}{P_{E_1}(I)}=\\frac{P_{E_1}(X_2=\"rainy\")}{1/3+1/6}=9/2*1/6=1/3\\approx 0.33$, <br>\n",
    "then, since $P_{E_1}(X_2=\"sunny\"|I)=0$, we have $P_{E_1}(X_2=\"overcast\"|I)=1-1/3=2/3$."
   ]
  },
  {
   "attachments": {},
   "cell_type": "markdown",
   "metadata": {
    "pycharm": {
     "name": "#%% md\n"
    }
   },
   "source": [
    "# Task 1.6"
   ]
  },
  {
   "cell_type": "code",
   "execution_count": 12,
   "metadata": {
    "collapsed": false,
<<<<<<< HEAD
    "jupyter": {
     "outputs_hidden": false
    },
=======
>>>>>>> d432bf208edfb2dd8f8390db5351f679e173f00d
    "pycharm": {
     "name": "#%%\n"
    }
   },
   "outputs": [],
   "source": [
    "#Empirical distribution of day 3:\n",
    "empirical_dist_day_3 = {\"sunny\": np.sum(day_3 == 0) / len(day_3), \"overcast\": np.sum(day_3 == 1) / len(day_3), \"rainy\": np.sum(day_3 == 2) / len(day_3)}"
   ]
  },
  {
   "cell_type": "code",
   "execution_count": 13,
   "metadata": {
    "collapsed": false,
<<<<<<< HEAD
    "jupyter": {
     "outputs_hidden": false
    },
=======
>>>>>>> d432bf208edfb2dd8f8390db5351f679e173f00d
    "pycharm": {
     "name": "#%%\n"
    }
   },
   "outputs": [
    {
     "data": {
<<<<<<< HEAD
      "image/png": "iVBORw0KGgoAAAANSUhEUgAAAvUAAAIQCAYAAAABy5G8AAAAOXRFWHRTb2Z0d2FyZQBNYXRwbG90bGliIHZlcnNpb24zLjYuMiwgaHR0cHM6Ly9tYXRwbG90bGliLm9yZy8o6BhiAAAACXBIWXMAAA9hAAAPYQGoP6dpAABy7ElEQVR4nO3de1xUdeL/8feAMdwUURREWUFsvSVgkqTrrULRr1taWei2gmxqq1EqZUopeA01M9JMdt28W9rFzK0WU5SupK3G2kVNTcMbeClBUcHg/P7wx+QEKIOoDLyej8d56JzzOZ/z+cwwn3lz5pwPJsMwDAEAAACwWw43uwEAAAAArg2hHgAAALBzhHoAAADAzhHqAQAAADtHqAcAAADsHKEeAAAAsHOEegAAAMDOEeoBAAAAO0eoBwAAAOxctQ71kydPlslkuiHH6tmzp3r27Gl5nJ6eLpPJpLfffvuGHH/o0KHy9/e/IceqTpYuXSqTyaSDBw/e7KbYpKzX6+zZsxo2bJh8fHxkMpk0ZswYm+s1mUyaPHlylbQRAGzBZ27NZ6+fuaiYGxbqS36QShZnZ2f5+voqIiJC8+bN05kzZ6rkOEePHtXkyZOVmZlZJfVVpercttrmk08+0X333Sc/Pz85OzvLx8dHffr00eeff17pOp9//nktXbpUI0eO1IoVKzRkyJAqbPH1c+jQIU2ZMkWdOnWSp6envLy81LNnT23atOlmN63aef7557Vu3bqb3QzgqvjMrd5tq22ux2cuSqtzow84depUBQQE6OLFi8rOzlZ6errGjBmjuXPnav369QoKCrKUnThxoiZMmGBT/UePHtWUKVPk7++vkJCQCu/30Ucf2XScyrhS2xYtWqTi4uLr3gZc8sMPP8jBwUF///vf5ePjo19++UUrV65U9+7d9cEHH6hPnz5X3L+s12vz5s268847lZiYeD2bXuXee+89zZo1SwMGDFB0dLR+/fVXLV++XL169dLixYsVExNzs5tYbTz//PMaOHCgBgwYcLObAlQIn7l85lYH1/qZi4q54aG+b9++Cg0NtTyOj4/X5s2b9ec//1n33Xefdu3aJRcXl0uNq1NHdepc3yaeO3dOrq6ucnJyuq7HuZpbbrnlph6/thk2bJiGDRtmtW7UqFFq0aKFkpOTrzrAlPV6HT9+XG3btq3Sdt4Id911l7KysuTl5WVZ9/e//10hISFKSEgg1AN2jM/csvGZe2Nd62cuKqZaXFN/9913a9KkSfrpp5+0cuVKy/qyru/buHGjunbtqvr168vd3V2tWrXSs88+K+nSNXl33HGHJCkmJsbytePSpUslXbqG77bbbtP27dvVvXt3ubq6Wvb9/fV9JYqKivTss8/Kx8dHbm5uuu+++3To0CGrMv7+/ho6dGipfS+v82ptK+v6vvz8fD311FPy8/OT2WxWq1atNGfOHBmGYVXOZDIpNjZW69at02233Saz2ax27dopNTW17Cf8d44fP65HH31U3t7ecnZ2VnBwsJYtW2ZV5uDBgzKZTJozZ47++c9/KjAwUGazWXfccYe++uqrCh3nu+++09133y0XFxc1a9ZM06dPL/NMyXvvvad+/frJ19dXZrNZgYGBmjZtmoqKiixlEhMTdcstt+jEiROl9h8xYoTq16+vCxcuVKhdJVxdXdWoUSOdPn36qmUvf71KrgU9cOCAPvjgA8tre6VrFgsKCjR27Fg1atRIdevW1X333afDhw+XKvfTTz9p1KhRatWqlVxcXNSwYUM99NBDVnX/+OOPMplMeumll0rt/8UXX8hkMumNN94oty3t2rWzCvSSZDab9X//9386fPjwFb+mP336tBwdHTVv3jzLupMnT8rBwUENGza0+lkdOXKkfHx8LI8//fRTPfTQQ/rDH/4gs9ksPz8/jR07VufPn7c6RnZ2tmJiYtSsWTOZzWY1adJE/fv3v+o1oUOHDpW7u7uOHDmiAQMGyN3dXY0aNdLTTz9t9bMkVey9ZjKZlJ+fr2XLllle47Le95ebP3++2rVrJ1dXV3l6eio0NFSvv/66VRvLuq63rLGvou/zkn337dunoUOHqn79+vLw8FBMTIzOnTtnKdejRw8FBweX2e5WrVopIiLiin2D/eIzl8/cy9nDZy4q5oafqS/PkCFD9Oyzz+qjjz7S8OHDyyzz3Xff6c9//rOCgoI0depUmc1m7du3z3JNVps2bTR16lQlJCRoxIgR6tatmySpS5culjpOnTqlvn37atCgQfrrX/8qb2/vK7ZrxowZMplMGj9+vI4fP67k5GSFh4crMzPTcnajIirStssZhqH77rtPW7Zs0aOPPqqQkBBt2LBB48aN05EjR0oFuM8++0xr167VqFGjVLduXc2bN08PPvigsrKy1LBhw3Lbdf78efXs2VP79u1TbGysAgIC9NZbb2no0KE6ffq0Ro8ebVX+9ddf15kzZ/TYY4/JZDJp9uzZeuCBB/Tjjz9e8cxHdna27rrrLv3666+aMGGC3Nzc9M9//rPM53Dp0qVyd3dXXFyc3N3dtXnzZiUkJCgvL08vvPCCpEs/L1OnTtWaNWsUGxtr2bewsFBvv/22HnzwQTk7O5fbnhJ5eXkqLCzUyZMntXz5cn377beWD52KatOmjVasWKGxY8eqWbNmeuqppyRJjRo1KnefYcOGaeXKlfrLX/6iLl26aPPmzerXr1+pcl999ZW++OILDRo0SM2aNdPBgwe1cOFC9ezZU99//71cXV3VokUL/elPf9KqVas0duxYq/1XrVqlunXrqn///jb1Sbr0mrm6usrV1bXcMvXr19dtt92mTz75RE8++aSkSz+LJpNJP//8s77//nu1a9dO0qUQX/JzL0lvvfWWzp07p5EjR6phw4batm2b5s+fr8OHD+utt96ylHvwwQf13Xff6YknnpC/v7+OHz+ujRs3Kisr66o3uhUVFSkiIkJhYWGaM2eONm3apBdffFGBgYEaOXKkpIq/11asWKFhw4apU6dOGjFihCQpMDCw3GMvWrRITz75pAYOHKjRo0frwoUL2rlzp7Zu3aq//OUvV2x3eWx5nz/88MMKCAhQUlKSduzYoX/9619q3LixZs2aJenSe2j48OH69ttvddttt1n2++qrr/TDDz9o4sSJlWoj7AOfudb4zLWfz1xcgXGDLFmyxJBkfPXVV+WW8fDwMDp06GB5nJiYaFzexJdeesmQZJw4caLcOr766itDkrFkyZJS23r06GFIMlJSUsrc1qNHD8vjLVu2GJKMpk2bGnl5eZb1b775piHJePnlly3rmjdvbkRHR1+1ziu1LTo62mjevLnl8bp16wxJxvTp063KDRw40DCZTMa+ffss6yQZTk5OVuv+97//GZKM+fPnlzrW5ZKTkw1JxsqVKy3rCgsLjc6dOxvu7u6Wvh84cMCQZDRs2ND4+eefLWXfe+89Q5Lx73//+4rHGTNmjCHJ2Lp1q2Xd8ePHDQ8PD0OSceDAAcv6c+fOldr/scceM1xdXY0LFy5Y1nXu3NkICwuzKrd27VpDkrFly5YrtqdERESEIcnyHD722GPG+fPnr7rf718vw7j0c9CvX7+r7puZmWlIMkaNGmW1/i9/+YshyUhMTLSsK+u5yMjIMCQZy5cvt6z7xz/+YUgydu3aZVlXWFhoeHl5lfmzeTV79+41nJ2djSFDhly17OOPP254e3tbHsfFxRndu3c3GjdubCxcuNAwDMM4deqUYTKZrN43ZfUtKSnJMJlMxk8//WQYhmH88ssvhiTjhRdesLkP0dHRhiRj6tSpVus7dOhgdOzY0fLYlveam5tbhZ/P/v37G+3atbtqG3//c2QYpcc+w6j4+7xk37/97W9W+99///1Gw4YNLY9Pnz5tODs7G+PHj7cq9+STTxpubm7G2bNnr9pHVF985vKZW5M+c1Ex1eLymxLu7u5X/Kq/fv36ki59VVTZG1zMZrNN1whHRUWpbt26lscDBw5UkyZN9OGHH1bq+BX14YcfytHR0XL2s8RTTz0lwzD0n//8x2p9eHi41VnDoKAg1atXTz/++ONVj+Pj46PBgwdb1t1yyy168skndfbsWX388cdW5SMjI+Xp6Wl5XHL2oyLHufPOO9WpUyfLukaNGumRRx4pVfbyMwlnzpzRyZMn1a1bN507d067d++2bIuKitLWrVu1f/9+y7pVq1bJz89PPXr0uGJ7SsycOVMfffSRXnvtNd15550qLCzUr7/+WqF9K6vkZ+f3r21ZU2Be/lxcvHhRp06dUsuWLVW/fn3t2LHDsu3hhx+Ws7OzVq1aZVm3YcMGnTx5Un/9619tat+5c+f00EMPycXFRTNnzrxq+W7duiknJ0d79uyRdOmMfPfu3dWtWzd9+umnki6d1TIMw+pM/eV9y8/P18mTJ9WlSxcZhqGvv/7aUsbJyUnp6en65ZdfbOpHib///e+l2nv5z6ut77WKql+/vg4fPlzhr8orwpb3eVn9PnXqlPLy8iRJHh4e6t+/v9544w3L5QVFRUVas2aNBgwYIDc3typrN6onPnN/w2fuJTXxM7c2qVah/uzZs1Zv5t+LjIzUn/70Jw0bNkze3t4aNGiQ3nzzTZsGm6ZNm9p0g86tt95q9dhkMqlly5bXfY7Xn376Sb6+vqWejzZt2li2X+4Pf/hDqTo8PT2vGoR++ukn3XrrrXJwsP5RqOhxSgabih7n91q1alVq3Xfffaf7779fHh4eqlevnho1amQJprm5uZZykZGRMpvNliCbm5ur999/X4888kiF51oOCQlRr1699Le//U0bN27Utm3brnqd9LX66aef5ODgUOrSjbKei/PnzyshIcFyjaeXl5flGsTLn4v69evr3nvvtbpee9WqVWratKnuvvvuCretqKhIgwYN0vfff6+3335bvr6+V92n5EPm008/VX5+vr7++mt169ZN3bt3t4T6Tz/9VPXq1bO6hjsrK0tDhw5VgwYNLNe7l3wwlPTNbDZr1qxZ+s9//iNvb291795ds2fPVnZ2doX64+zsXOoyqN+/L2x9r1XU+PHj5e7urk6dOunWW2/V448/fs3Tt9nyPq/IezUqKkpZWVmW12nTpk3Kycmxm+lYcW34zP0Nn7k19zO3Nqk2of7w4cPKzc1Vy5Ytyy3j4uKiTz75RJs2bdKQIUO0c+dORUZGqlevXqVufLtSHVWtvB/mirapKjg6Opa53vjdDT7V/TinT59Wjx499L///U9Tp07Vv//9b23cuNFyHfDlHyaenp7685//bBlg3n77bRUUFNh8ZrqEk5OT7rvvPq1du7bUzZo3yxNPPKEZM2bo4Ycf1ptvvqmPPvpIGzduVMOGDUt9sEZFRenHH3/UF198oTNnzmj9+vUaPHhwqQ+PKxk+fLjef/99LV26tMK/DPj6+iogIECffPKJMjIyZBiGOnfurG7duunQoUP66aef9Omnn6pLly6WthQVFalXr1764IMPNH78eK1bt04bN2603MR2ed/GjBmjH374QUlJSXJ2dtakSZPUpk0by9n8Kynv5/VGaNOmjfbs2aPVq1era9eueuedd9S1a1erKU9tHTtsef9VpGxERIS8vb0tN0uuXLlSPj4+Cg8PL7tTqDH4zL02fObWzM9ce1dtQv2KFSsk6aozLjg4OOiee+7R3Llz9f3332vGjBnavHmztmzZIqn8N3tl7d271+qxYRjat2+f1Q16np6eZd69/fvfuG1pW/PmzXX06NFSX42WfBXWvHnzCtd1tePs3bu3VEC8Xsf5vZJLNkqkp6fr1KlTWrp0qUaPHq0///nPCg8Pt/r68XJRUVH64Ycf9NVXX2nVqlXq0KGD5cbMyjh//rwMw6iyP8xSlubNm6u4uNjqK0yp9HMhXRo0o6Oj9eKLL2rgwIHq1auXunbtWubPW58+fdSoUSOtWrVK7777rs6dO2fTGddx48ZpyZIleumll6y+Gq6IkkttPv30U4WEhKhu3boKDg6Wh4eHUlNTtWPHDnXv3t1S/ptvvtEPP/ygF198UePHj1f//v0VHh5e7jcDgYGBeuqpp/TRRx/p22+/VWFhoV588UWb2lgeW95rto4vbm5uioyM1JIlS5SVlaV+/fppxowZllkiKjp2XC+Ojo76y1/+orffflu//PKL1q1bp8GDB9/UX4ZwY/CZa43P3Jr7mVubVItQv3nzZk2bNk0BAQFlXu9V4ueffy61ruQPShQUFEiS5TrQqpoiafny5VY/bG+//baOHTumvn37WtYFBgbqyy+/VGFhoWXd+++/X2oaLlva9n//938qKirSK6+8YrX+pZdekslksjr+tfi///s/ZWdna82aNZZ1v/76q+bPny93d/cKXydXkeN8+eWX2rZtm2XdiRMnrK4Bl347K3H5WYjCwkK9+uqrZdbbt29feXl5adasWfr4448rfMbg+PHjpdadPn1a77zzjvz8/NS4ceMK1VMZJa/d5dNASlJycnKpso6OjqXOyMyfP7/MM1J16tTR4MGD9eabb2rp0qVq37691R+WuZIXXnhBc+bM0bPPPltq9oWK6Natmw4ePKg1a9ZYLsdxcHBQly5dNHfuXF28eNHqevqyXmfDMPTyyy9b1Xvu3LlS06QFBgaqbt26lvf8tbLlvebm5lbhseXUqVNWj52cnNS2bVsZhqGLFy9KutSX3Nxc7dy501Lu2LFjevfddyvZG9sNGTJEv/zyix577DGdPXu20mfdYD/4zC2Nz9ya+5lbm9zwKS3/85//aPfu3fr111+Vk5OjzZs3a+PGjWrevLnWr19/xSmRpk6dqk8++UT9+vVT8+bNdfz4cb366qtq1qyZunbtKunSm71+/fpKSUlR3bp15ebmprCwMAUEBFSqvQ0aNFDXrl0VExOjnJwcJScnq2XLllZTgA0bNkxvv/22+vTpo4cfflj79+/XypUrS10zbUvb7r33Xt1111167rnndPDgQQUHB+ujjz7Se++9pzFjxlxxKj1bjBgxQv/4xz80dOhQbd++Xf7+/nr77bf1+eefKzk5+YrXW9rimWee0YoVK9SnTx+NHj3aMr1W8+bNrQJNly5d5OnpqejoaD355JMymUxasWJFuV813nLLLRo0aJBeeeUVOTo6VvgMc9++fdWsWTOFhYWpcePGysrK0pIlS3T06FGrwfZ6CAkJ0eDBg/Xqq68qNzdXXbp0UVpamvbt21eq7J///GetWLFCHh4eatu2rTIyMrRp06Zyp0yLiorSvHnztGXLFsvXp1fz7rvv6plnntGtt96qNm3aWM1bLUm9evW66jR0JYF9z549ev755y3ru3fvrv/85z+W+ZVLtG7dWoGBgXr66ad15MgR1atXT++8806p60R/+OEH3XPPPXr44YfVtm1b1alTR++++65ycnI0aNCgCvXvamx5r3Xs2FGbNm3S3LlzLZcdhYWFlVlv79695ePjoz/96U/y9vbWrl279Morr6hfv36W99WgQYM0fvx43X///XryySd17tw5LVy4UH/84x+tboS+njp06KDbbrtNb731ltq0aaPbb7/9hhwXNwafuXzm1vbP3FrlRk2zUzK9li6bysjHx8fo1auX8fLLL1tNYVXi99NrpaWlGf379zd8fX0NJycnw9fX1xg8eLDxww8/WO333nvvGW3btjXq1KljNZ1Vjx49yp1irrzptd544w0jPj7eaNy4seHi4mL069fPMt3e5V588UWjadOmhtlsNv70pz8Z//3vf0vVeaW2lTW13ZkzZ4yxY8cavr6+xi233GLceuutxgsvvGAUFxdblZNkPP7446XaVN60X7+Xk5NjxMTEGF5eXoaTk5PRvn37UlOAlUyvVdbUgvrdNIzl2blzp9GjRw/D2dnZaNq0qTFt2jTjtddeKzW91ueff27ceeedhouLi+Hr62s888wzxoYNG8qdNmvbtm2GJKN3795XbUOJV155xejatavh5eVl1KlTx2jUqJFx7733Gp988kmF9r+WKS0NwzDOnz9vPPnkk0bDhg0NNzc349577zUOHTpU6rn85ZdfLK+Nu7u7ERERYezevfuKr227du0MBwcH4/DhwxVqS8n7rLylolOVNW7c2JBk5OTkWNZ99tlnhiSjW7dupcp///33Rnh4uOHu7m54eXkZw4cPt0wLV/Lzd/LkSePxxx83Wrdubbi5uRkeHh5GWFiY8eabb161PdHR0Yabm1u5/b1cRd9ru3fvNrp37264uLgYkq74/vrHP/5hdO/e3WjYsKFhNpuNwMBAY9y4cUZubq5VuY8++si47bbbDCcnJ6NVq1bGypUry53SsiLv85J9fz8NYckYfPl7rcTs2bMNScbzzz9fbn9gX/jMvXLb+Mw9YClnD5+5qBiTYVTxXR3ADfa///1PISEhWr58ObN26NKZ1wYNGigtLe1mNwV24uWXX9bYsWN18ODBMmf1AIASfOZWX9XimnrgWixatEju7u564IEHbnZTbrr//ve/yszMVFRU1M1uCuyEYRh67bXX1KNHDwI9gKviM7f6uuHX1ANV5d///re+//57/fOf/1RsbGyt/mM53377rbZv364XX3xRTZo0UWRk5M1uEqq5/Px8rV+/Xlu2bNE333yj995772Y3CUA1xmdu9cflN7Bb/v7+ysnJUUREhFasWFFlNxjZo8mTJ2vq1Klq1aqVUlJSqmwGBdRcBw8eVEBAgOrXr69Ro0ZpxowZN7tJAKoxPnOrP0I9AAAAYOe4ph4AAACwc4R6AAAAwM7ViBtli4uLdfToUdWtW7fK/2Q1AFRHxv//0+q+vr5ycKhd52cY8wHUJhUd72tEqD969Kj8/PxudjMA4IY7dOiQmjVrdrObcUMx5gOoja423teIUF9yB/ahQ4dUr169m9waALj+8vLy5OfnVytnoGDMB1CbVHS8rxGhvuTr13r16jHAA6hVauPlJ4z5AGqjq433tetCTAAAAKAGItQDAAAAdo5QDwAAANg5Qj0AoFwLFiyQv7+/nJ2dFRYWpm3btlVov9WrV8tkMmnAgAFW6w3DUEJCgpo0aSIXFxeFh4dr796916HlAFC7EOoBAGVas2aN4uLilJiYqB07dig4OFgRERE6fvz4Ffc7ePCgnn76aXXr1q3UttmzZ2vevHlKSUnR1q1b5ebmpoiICF24cOF6dQMAagVCPQCgTHPnztXw4cMVExOjtm3bKiUlRa6urlq8eHG5+xQVFemRRx7RlClT1KJFC6tthmEoOTlZEydOVP/+/RUUFKTly5fr6NGjWrdu3XXuDQDUbIR6AEAphYWF2r59u8LDwy3rHBwcFB4eroyMjHL3mzp1qho3bqxHH3201LYDBw4oOzvbqk4PDw+FhYVdsc6CggLl5eVZLQAAa4R6AEApJ0+eVFFRkby9va3We3t7Kzs7u8x9PvvsM7322mtatGhRmdtL9rOlTklKSkqSh4eHZeGvyQJAaYR6AMA1O3PmjIYMGaJFixbJy8urSuuOj49Xbm6uZTl06FCV1g8ANQGhHrVKVc7kcfHiRY0fP17t27eXm5ubfH19FRUVpaNHj1rtO2PGDHXp0kWurq6qX79+mfWbTKZSy+rVqyvbTeCaeXl5ydHRUTk5OVbrc3Jy5OPjU6r8/v37dfDgQd17772qU6eO6tSpo+XLl2v9+vWqU6eO9u/fb9mvonWWMJvNlr8ey1+RRUXZMt6vXbtWoaGhql+/vtzc3BQSEqIVK1ZYlTl79qxiY2PVrFkzubi4WO4zudz+/ft1//33q1GjRqpXr54efvjhUj/v/v7+pcb7mTNnVl3HUWsR6lFrVPVMHufOndOOHTs0adIk7dixQ2vXrtWePXt03333WZUrLCzUQw89pJEjR17xOEuWLNGxY8csy++nAgRuJCcnJ3Xs2FFpaWmWdcXFxUpLS1Pnzp1LlW/durW++eYbZWZmWpb77rtPd911lzIzM+Xn56eAgAD5+PhY1ZmXl6etW7eWWSdQWbaO9w0aNNBzzz2njIwM7dy5UzExMYqJidGGDRssZeLi4pSamqqVK1dq165dGjNmjGJjY7V+/XpJUn5+vnr37i2TyaTNmzfr888/V2Fhoe69914VFxdbHW/q1KlW4/0TTzxx/Z4M1B5GDZCbm2tIMnJzc292U1CNderUyXj88cctj4uKigxfX18jKSmp3H1+/fVXo0uXLsa//vUvIzo62ujfv/8Vj7Ft2zZDkvHTTz+V2rZkyRLDw8OjzP0kGe+++25FugEYhnFjxr3Vq1cbZrPZWLp0qfH9998bI0aMMOrXr29kZ2cbhmEYQ4YMMSZMmFDu/mW9Z2bOnGnUr1/feO+994ydO3ca/fv3NwICAozz589XuF2M+biayoz3v9ehQwdj4sSJlsft2rUzpk6dalXm9ttvN5577jnDMAxjw4YNhoODg9XP5enTpw2TyWRs3LjRsq558+bGSy+9ZGuXUItVdMzjTD1qhesxk0dZcnNzZTKZyr3M5koef/xxeXl5qVOnTlq8eLEMw7C5DqAqRUZGas6cOUpISFBISIgyMzOVmppqudE1KytLx44ds6nOZ555Rk888YRGjBihO+64Q2fPnlVqaqqcnZ2vRxdQC1V2vC9hGIbS0tK0Z88ede/e3bK+S5cuWr9+vY4cOSLDMLRlyxb98MMP6t27t6RLszSZTCaZzWbLPs7OznJwcNBnn31mdYyZM2eqYcOG6tChg1544QX9+uuv19ptQHVudgOAG+FKM3ns3r27zH1KZvLIzMys0DEuXLig8ePHa/DgwTZf8zt16lTdfffdcnV11UcffaRRo0bp7NmzevLJJ22qB6hqsbGxio2NLXNbenr6FfddunRpqXUmk0lTp07V1KlTq6B1QGmVGe+lSydlmjZtqoKCAjk6OurVV19Vr169LNvnz5+vESNGqFmzZqpTp44cHBy0aNEiS/C/88475ebmpvHjx+v555+XYRiaMGGCioqKrH75ffLJJ3X77berQYMG+uKLLxQfH69jx45p7ty5VfxMoLYh1ANlsHUmj4sXL+rhhx+WYRhauHChzcebNGmS5f8dOnRQfn6+XnjhBUI9ANwgdevWVWZmps6ePau0tDTFxcWpRYsW6tmzp6RLof7LL7/U+vXr1bx5c33yySd6/PHH5evrq/DwcDVq1EhvvfWWRo4cqXnz5snBwUGDBw/W7bffLgeH3y6MiIuLs/w/KChITk5Oeuyxx5SUlGR1lh+wFaEetcK1zORRouRGpzp16mjPnj0KDAyU9Fug/+mnn7R58+YqmZkjLCxM06ZNU0FBAYM8ANjA1vG+hIODg1q2bClJCgkJ0a5du5SUlKSePXvq/PnzevbZZ/Xuu++qX79+ki4F8szMTM2ZM8dyqU/v3r21f/9+nTx5UnXq1FH9+vXl4+NT6q8rXy4sLEy//vqrDh48qFatWl1r91GLcU09aoXrMZOH9Fug37t3rzZt2qSGDRtWSXszMzPl6elJoAcAG9k63penuLhYBQUFki6N9RcvXrQ64y5Jjo6OpWa2kS79YlG/fn1t3rxZx48fLzUr2uUyMzPl4OCgxo0bV7htQFk4U49aIy4uTtHR0QoNDVWnTp2UnJys/Px8xcTESJKioqLUtGlTJSUlydnZWbfddpvV/iU3v5asv3jxogYOHKgdO3bo/fffV1FRkeWvYjZo0EBOTk6SLt1M+PPPPysrK0tFRUWWa/Rbtmwpd3d3/fvf/1ZOTo7uvPNOOTs7a+PGjXr++ef19NNP34BnBQBqHlvGe+nSXy0ODQ1VYGCgCgoK9OGHH2rFihWWyynr1aunHj16aNy4cXJxcVHz5s318ccfa/ny5VbXwi9ZskRt2rRRo0aNlJGRodGjR2vs2LGWM/AZGRnaunWr7rrrLtWtW1cZGRkaO3as/vrXv8rT0/MGP0uoca7/RDzXH9OboaLmz59v/OEPfzCcnJyMTp06GV9++aVlW48ePYzo6Ohy9/399HwHDhwwJJW5bNmyxWq/K5X5z3/+Y4SEhBju7u6Gm5ubERwcbKSkpBhFRUVV3HvUJLV53KvNfUfF2TLeP/fcc0bLli0NZ2dnw9PT0+jcubOxevVqq/qOHTtmDB061PD19TWcnZ2NVq1aGS+++KJRXFxsKTN+/HjD29vbuOWWW4xbb7211Pbt27cbYWFhhoeHh+Hs7Gy0adPGeP75540LFy5cvycCdq+iY57JMOx/3ry8vDx5eHgoNzeXvzRYw/hP+OBmN6FGODiz381uAqpYbR73anPfazLG+6rDmF+zVHTM45p6AAAAwM4R6gEAAAA7R6gHAAAA7ByhHgAAALBzhHoAAADAzhHqAQAAADtHqAcAAADsHKEeAAAAsHOEegAAAMDOEeoBAAAAO0eoBwAAAOwcoR4AAACwc4R6AAAAwM4R6gEAAAA7R6gHAAAA7ByhHkC1sGDBAvn7+8vZ2VlhYWHatm1buWXXrl2r0NBQ1a9fX25ubgoJCdGKFSusyuTk5Gjo0KHy9fWVq6ur+vTpo71795aqKyMjQ3fffbfc3NxUr149de/eXefPn5ckpaeny2Qylbl89dVXVfsEAABwDQj1AG66NWvWKC4uTomJidqxY4eCg4MVERGh48ePl1m+QYMGeu6555SRkaGdO3cqJiZGMTEx2rBhgyTJMAwNGDBAP/74o9577z19/fXXat68ucLDw5Wfn2+pJyMjQ3369FHv3r21bds2ffXVV4qNjZWDw6WhsUuXLjp27JjVMmzYMAUEBCg0NPT6PzEAAFRQpUK9LWfULrd69WqZTCYNGDDAar1hGEpISFCTJk3k4uKi8PDwMs+oAaiZ5s6dq+HDhysmJkZt27ZVSkqKXF1dtXjx4jLL9+zZU/fff7/atGmjwMBAjR49WkFBQfrss88kSXv37tWXX36phQsX6o477lCrVq20cOFCnT9/Xm+88YalnrFjx+rJJ5/UhAkT1K5dO7Vq1UoPP/ywzGazJMnJyUk+Pj6WpWHDhnrvvfcUExMjk8l0/Z8YAAAqyOZQb+sZtRIHDx7U008/rW7dupXaNnv2bM2bN08pKSnaunWr3NzcFBERoQsXLtjaPAB2prCwUNu3b1d4eLhlnYODg8LDw5WRkXHV/Q3DUFpamvbs2aPu3btLkgoKCiRJzs7OVnWazWZL8D9+/Li2bt2qxo0bq0uXLvL29laPHj0s28uyfv16nTp1SjExMZXqKwAA14vNod7WM2qSVFRUpEceeURTpkxRixYtrLYZhqHk5GRNnDhR/fv3V1BQkJYvX66jR49q3bp1NncIgH05efKkioqK5O3tbbXe29tb2dnZ5e6Xm5srd3d3OTk5qV+/fpo/f7569eolSWrdurX+8Ic/KD4+Xr/88osKCws1a9YsHT58WMeOHZMk/fjjj5KkyZMna/jw4UpNTdXtt9+ue+65p9xvCl977TVFRESoWbNmVdF1AACqjE2hvrJn1KZOnarGjRvr0UcfLbXtwIEDys7OtqrTw8NDYWFhFTpLB6B2qlu3rjIzM/XVV19pxowZiouLU3p6uiTplltu0dq1a/XDDz+oQYMGcnV11ZYtW9S3b1/L9fLFxcWSpMcee0wxMTHq0KGDXnrpJbVq1arMkxSHDx/Whg0byhzHAAC42erYUvhKZ9R2795d5j6fffaZXnvtNWVmZpa5veRMnC1n6QoKCixfr0tSXl5eRbsAoJrx8vKSo6OjcnJyrNbn5OTIx8en3P0cHBzUsmVLSVJISIh27dqlpKQk9ezZU5LUsWNHZWZmKjc3V4WFhWrUqJHCwsIsN7g2adJEktS2bVuretu0aaOsrKxSx1uyZIkaNmyo++67r9J9BQDgermus9+cOXNGQ4YM0aJFi+Tl5VVl9SYlJcnDw8Oy+Pn5VVndAG4sJycndezYUWlpaZZ1xcXFSktLU+fOnStcT3FxsdUv+yU8PDzUqFEj7d27V//973/Vv39/SZK/v798fX21Z88eq/I//PCDmjdvbrXOMAwtWbJEUVFRuuWWW2zpHgAAN4RNZ+ptPaO2f/9+HTx4UPfee69lXclX3nXq1NGePXss++Xk5FjOnJU8DgkJKbMd8fHxiouLszzOy8sj2AN2LC4uTtHR0QoNDVWnTp2UnJys/Px8yw2pUVFRatq0qZKSkiRd+sU+NDRUgYGBKigo0IcffqgVK1Zo4cKFljrfeustNWrUSH/4wx/0zTffaPTo0RowYIB69+4tSTKZTBo3bpwSExMVHByskJAQLVu2TLt379bbb79t1b7NmzfrwIEDGjZs2A16RgAAsI1Nof7yM2ol01KWnFGLjY0tVb5169b65ptvrNZNnDhRZ86c0csvvyw/Pz/dcsst8vHxUVpamiXE5+XlaevWrRo5cmSZ7TCbzZYp5wDYv8jISJ04cUIJCQnKzs5WSEiIUlNTLZflZWVlWa6Fl6T8/HyNGjVKhw8flouLi1q3bq2VK1cqMjLSUubYsWOKi4uznDCIiorSpEmTrI47ZswYXbhwQWPHjtXPP/+s4OBgbdy4UYGBgVblXnvtNXXp0kWtW7e+js8CAACVZzIMw7BlhzVr1ig6Olr/+Mc/LGfU3nzzTe3evVve3t6lzqj93tChQ3X69GmrmW1mzZqlmTNnatmyZQoICNCkSZO0c+dOff/991ZT0pUnLy9PHh4eys3NVb169WzpDqo5/wkf3Owm1AgHZ/ar8jp5bapGZV+b2jzu1ea+12SMKVXneoz5uHkqOubZdKZesv2MWkU888wzys/P14gRI3T69Gl17dpVqampFQr0AAAAQG1nc6iXpNjY2DIvt5FkmVKuPEuXLi21zmQyaerUqZo6dWplmgMAAADUatd19hsAAAAA1x+hHgAAALBzhHoAAADAzhHqAQAAADtHqAcAAADsHKEeAAAAsHOEegAAAMDOEeoBAAAAO0eoBwAAAOwcoR4AAACwc4R6AAAAwM4R6gEA5VqwYIH8/f3l7OyssLAwbdu2rdyya9euVWhoqOrXry83NzeFhIRoxYoVVmWGDh0qk8lktfTp0+d6dwMAarw6N7sBAIDqac2aNYqLi1NKSorCwsKUnJysiIgI7dmzR40bNy5VvkGDBnruuefUunVrOTk56f3331dMTIwaN26siIgIS7k+ffpoyZIllsdms/mG9AcAajLO1AMAyjR37lwNHz5cMTExatu2rVJSUuTq6qrFixeXWb5nz566//771aZNGwUGBmr06NEKCgrSZ599ZlXObDbLx8fHsnh6et6I7gBAjUaoBwCUUlhYqO3btys8PNyyzsHBQeHh4crIyLjq/oZhKC0tTXv27FH37t2ttqWnp6tx48Zq1aqVRo4cqVOnTlV5+wGgtuHyGwBAKSdPnlRRUZG8vb2t1nt7e2v37t3l7pebm6umTZuqoKBAjo6OevXVV9WrVy/L9j59+uiBBx5QQECA9u/fr2effVZ9+/ZVRkaGHB0dy6yzoKBABQUFlsd5eXnX2DsAqHkI9QCAKlO3bl1lZmbq7NmzSktLU1xcnFq0aKGePXtKkgYNGmQp2759ewUFBSkwMFDp6em65557yqwzKSlJU6ZMuRHNBwC7xeU3AIBSvLy85OjoqJycHKv1OTk58vHxKXc/BwcHtWzZUiEhIXrqqac0cOBAJSUllVu+RYsW8vLy0r59+8otEx8fr9zcXMty6NAh2zsEADUcoR4AUIqTk5M6duyotLQ0y7ri4mKlpaWpc+fOFa6nuLjY6tKZ3zt8+LBOnTqlJk2alFvGbDarXr16VgsAwBqX3wAAyhQXF6fo6GiFhoaqU6dOSk5OVn5+vmJiYiRJUVFRatq0qeVMfFJSkkJDQxUYGKiCggJ9+OGHWrFihRYuXChJOnv2rKZMmaIHH3xQPj4+2r9/v5555hm1bNnSaspLAIDtCPUAgDJFRkbqxIkTSkhIUHZ2tkJCQpSammq5eTYrK0sODr994Zufn69Ro0bp8OHDcnFxUevWrbVy5UpFRkZKkhwdHbVz504tW7ZMp0+flq+vr3r37q1p06YxVz0AXCNCPQCgXLGxsYqNjS1zW3p6utXj6dOna/r06eXW5eLiog0bNlRl8wAA/x/X1AMAAAB2jlAPAAAA2DlCPQAAAGDnCPUAAACAnSPUAwAAAHaOUA8AAADYOUI9AAAAYOcI9QAAAICdI9QDAAAAdo5QDwAAANg5Qj0AAABg5wj1AAAAgJ0j1AMAAAB2jlAPAAAA2DlCPQAAAGDnCPUAAACAnSPUAwAAAHaOUA8AAIAbZsGCBfL395ezs7PCwsK0bdu2csuuXbtWoaGhql+/vtzc3BQSEqIVK1ZYtl+8eFHjx49X+/bt5ebmJl9fX0VFReno0aNW9cyYMUNdunSRq6ur6tevX+axnnzySXXs2FFms1khISFV0dUbilAPAACAG2LNmjWKi4tTYmKiduzYoeDgYEVEROj48eNllm/QoIGee+45ZWRkaOfOnYqJiVFMTIw2bNggSTp37px27NihSZMmaceOHVq7dq327Nmj++67z6qewsJCPfTQQxo5cuQV2/e3v/1NkZGRVdPZG6xSob4qf8OSpKFDh8pkMlktffr0qUzTAAAAUE3NnTtXw4cPV0xMjNq2bauUlBS5urpq8eLFZZbv2bOn7r//frVp00aBgYEaPXq0goKC9Nlnn0mSPDw8tHHjRj388MNq1aqV7rzzTr3yyivavn27srKyLPVMmTJFY8eOVfv27ctt27x58/T444+rRYsWVdvpG8TmUF/Vv2GV6NOnj44dO2ZZ3njjjcr1CAAAANVOYWGhtm/frvDwcMs6BwcHhYeHKyMj46r7G4ahtLQ07dmzR927dy+3XG5urkwmU7mX2dRUdWzd4fLfsCQpJSVFH3zwgRYvXqwJEyaUKt+zZ0+rx6NHj9ayZcv02WefKSIiwrLebDbLx8fH1uYAAADADpw8eVJFRUXy9va2Wu/t7a3du3eXu19ubq6aNm2qgoICOTo66tVXX1WvXr3KLHvhwgWNHz9egwcPVr169aq0/dWdTWfqr+dvWOnp6WrcuLFatWqlkSNH6tSpU7Y0DQAAADVQ3bp1lZmZqa+++kozZsxQXFyc0tPTS5W7ePGiHn74YRmGoYULF974ht5kNp2pv16/YfXp00cPPPCAAgICtH//fj377LPq27evMjIy5OjoWKq+goICFRQUWB7n5eXZ0g0AAADcYF5eXnJ0dFROTo7V+pycnCtereHg4KCWLVtKkkJCQrRr1y4lJSVZXQ1SEuh/+uknbd68udadpZcqcflNZZT8hnX27FmlpaUpLi5OLVq0sLwYgwYNspRt3769goKCFBgYqPT0dN1zzz2l6ktKStKUKVNuRNMBAABQBZycnNSxY0elpaVpwIABkqTi4mKlpaUpNja2wvUUFxdbndwtCfR79+7Vli1b1LBhw6puul2wKdRfz9+wLteiRQt5eXlp3759ZYb6+Ph4xcXFWR7n5eXJz8/Plq4AAADgBouLi1N0dLRCQ0PVqVMnJScnKz8/33KvZlRUlJo2baqkpCRJl07khoaGKjAwUAUFBfrwww+1YsUKy+U1Fy9e1MCBA7Vjxw69//77KioqUnZ2tqRLk7U4OTlJkrKysvTzzz8rKytLRUVFyszMlCS1bNlS7u7ukqR9+/bp7Nmzys7O1vnz5y1l2rZta6mnOrMp1F+v37B+7/Dhwzp16pSaNGlS5naz2Syz2WxL0wEAAHCTRUZG6sSJE0pISFB2drZCQkKUmppqubQ7KytLDg6/3fKZn5+vUaNG6fDhw3JxcVHr1q21cuVKy1zyR44c0fr16yWp1B+M2rJli+UEckJCgpYtW2bZ1qFDh1Jlhg0bpo8//rhUmQMHDsjf37/KnoPrxWQYhmHLDmvWrFF0dLT+8Y9/WH7DevPNN7V79255e3tX6DesCRMmaOHChRo2bJjOnj2rKVOm6MEHH5SPj4/279+vZ555RmfOnNE333xTofCel5cnDw8P5ebm1sprqGoy/wkf3Owm1AgHZ/ar8jp5bapGZV+b2jzu1ea+12SMKVWnqsd8XpuqU5nXpqJjns3X1Ff1b1iOjo7auXOnli1bptOnT8vX11e9e/fWtGnTOBsPAAAAVEClbpSNjY0t93Kb308xNH36dE2fPr3culxcXEr9ISoAAAAAFWfzX5QFAAAAUL0Q6gEAAAA7R6gHAAAA7ByhHgAAALBzhHoAAADAzhHqAQAAADtHqAcAAADsHKEeAAAAsHOEegAAAMDOEeoBAAAAO0eoBwAAAOwcoR4AAACwc4R6AAAAwM4R6gEAAAA7R6gHAAAA7ByhHgAAALBzhHoAQLkWLFggf39/OTs7KywsTNu2bSu37Nq1axUaGqr69evLzc1NISEhWrFihVUZwzCUkJCgJk2ayMXFReHh4dq7d+/17gYA1HiEegBAmdasWaO4uDglJiZqx44dCg4OVkREhI4fP15m+QYNGui5555TRkaGdu7cqZiYGMXExGjDhg2WMrNnz9a8efOUkpKirVu3ys3NTREREbpw4cKN6hYA1EiEegBAmebOnavhw4crJiZGbdu2VUpKilxdXbV48eIyy/fs2VP333+/2rRpo8DAQI0ePVpBQUH67LPPJF06S5+cnKyJEyeqf//+CgoK0vLly3X06FGtW7fuBvYMAGoeQj0AoJTCwkJt375d4eHhlnUODg4KDw9XRkbGVfc3DENpaWnas2ePunfvLkk6cOCAsrOzrer08PBQWFjYFessKChQXl6e1QIAsEaoBwCUcvLkSRUVFcnb29tqvbe3t7Kzs8vdLzc3V+7u7nJyclK/fv00f/589erVS5Is+9laZ1JSkjw8PCyLn59fZbsFADUWoR4AUGXq1q2rzMxMffXVV5oxY4bi4uKUnp5+TXXGx8crNzfXshw6dKhqGgsANQihHgBQipeXlxwdHZWTk2O1PicnRz4+PuXu5+DgoJYtWyokJERPPfWUBg4cqKSkJEmy7GdrnWazWfXq1bNaqgtbZgdatGiRunXrJk9PT3l6eio8PLxU+bNnzyo2NlbNmjWTi4uL5V6Gy+3fv1/333+/GjVqpHr16unhhx8u9Zz6+/vLZDJZLTNnzqy6jgOodgj1AIBSnJyc1LFjR6WlpVnWFRcXKy0tTZ07d65wPcXFxSooKJAkBQQEyMfHx6rOvLw8bd261aY6qwtbZwdKT0/X4MGDtWXLFmVkZMjPz0+9e/fWkSNHLGXi4uKUmpqqlStXateuXRozZoxiY2O1fv16SVJ+fr569+4tk8mkzZs36/PPP1dhYaHuvfdeFRcXWx1v6tSpOnbsmGV54oknrt+TAeCmq3OzGwAAqJ7i4uIUHR2t0NBQderUScnJycrPz1dMTIwkKSoqSk2bNrWciU9KSlJoaKgCAwNVUFCgDz/8UCtWrNDChQslSSaTSWPGjNH06dN16623KiAgQJMmTZKvr68GDBhws7pZaZfPDiRJKSkp+uCDD7R48WJNmDChVPlVq1ZZPf7Xv/6ld955R2lpaYqKipIkffHFF4qOjlbPnj0lSSNGjNA//vEPbdu2Tffdd58+//xzHTx4UF9//bXlG4tly5bJ09NTmzdvtroJuW7dulf8BgRAzcKZegBAmSIjIzVnzhwlJCQoJCREmZmZSk1NtdzompWVpWPHjlnK5+fna9SoUWrXrp3+9Kc/6Z133tHKlSs1bNgwS5lnnnlGTzzxhEaMGKE77rhDZ8+eVWpqqpydnW94/67Ftc4OJEnnzp3TxYsX1aBBA8u6Ll26aP369Tpy5IgMw9CWLVv0ww8/qHfv3pIuzQRkMplkNpst+zg7O8vBwcEydWiJmTNnqmHDhurQoYNeeOEF/frrr9fSZQDVHGfqAQDlio2NVWxsbJnbfn8D7PTp0zV9+vQr1mcymTR16lRNnTq1qpp4U1xpdqDdu3dXqI7x48fL19fX6heD+fPna8SIEWrWrJnq1KkjBwcHLVq0yDIt6J133ik3NzeNHz9ezz//vAzD0IQJE1RUVGT1C9aTTz6p22+/XQ0aNNAXX3yh+Ph4HTt2THPnzq2C3gOojgj1AADcYDNnztTq1auVnp5u9S3F/Pnz9eWXX2r9+vVq3ry5PvnkEz3++OOW8N+oUSO99dZbGjlypObNmycHBwcNHjxYt99+uxwcfvvyPS4uzvL/oKAgOTk56bHHHlNSUpLVWX4ANQehHgAAG1V2diBJmjNnjmbOnKlNmzYpKCjIsv78+fN69tln9e6776pfv36SLgXyzMxMzZkzx3JGv3fv3tq/f79OnjypOnXqqH79+vLx8VGLFi3KPWZYWJh+/fVXHTx4UK1atapstwFUY1xTDwCAjSo7O9Ds2bM1bdo0paamKjQ01GrbxYsXdfHiRasz7pLk6OhYamYb6dIvFvXr19fmzZt1/Phx3XfffeUeNzMzUw4ODmrcuHFFuwjAznCmHgCASrB1dqBZs2YpISFBr7/+uvz9/S1/Rdfd3V3u7u6qV6+eevTooXHjxsnFxUXNmzfXxx9/rOXLl1tdC79kyRK1adNGjRo1UkZGhkaPHq2xY8dazsBnZGRo69atuuuuu1S3bl1lZGRo7Nix+utf/ypPT88b/CwBuFEI9QAAVEJkZKROnDihhIQEZWdnKyQkpNTsQJefdV+4cKEKCws1cOBAq3oSExM1efJkSdLq1asVHx+vRx55RD///LOaN2+uGTNm6O9//7ul/J49exQfH6+ff/5Z/v7+eu655zR27FjLdrPZrNWrV2vy5MkqKChQQECAxo4da3WdPYCax2QYhnGzG3Gt8vLy5OHhodzc3Gr1lwZx7fwnfHCzm1AjHJzZr8rr5LWpGpV9bWrzuHctfefntupU9bjCa1N1eG2qr8q8NhUd87imHgAAALBzhHoAAADAzhHqAQAAADtHqAcAAADsHKEeAAAAsHOEegAAAMDOEeoBAAAAO0eoBwAAAOwcoR4AAACwc5UK9QsWLJC/v7+cnZ0VFhambdu2lVt27dq1Cg0NVf369eXm5qaQkBCtWLHCqoxhGEpISFCTJk3k4uKi8PBw7d27tzJNAwAAAGodm0P9mjVrFBcXp8TERO3YsUPBwcGKiIjQ8ePHyyzfoEEDPffcc8rIyNDOnTsVExOjmJgYbdiwwVJm9uzZmjdvnlJSUrR161a5ubkpIiJCFy5cqHzPAAAAgFrC5lA/d+5cDR8+XDExMWrbtq1SUlLk6uqqxYsXl1m+Z8+euv/++9WmTRsFBgZq9OjRCgoK0meffSbp0ln65ORkTZw4Uf3791dQUJCWL1+uo0ePat26ddfUOQAAAKA2sCnUFxYWavv27QoPD/+tAgcHhYeHKyMj46r7G4ahtLQ07dmzR927d5ckHThwQNnZ2VZ1enh4KCwsrNw6CwoKlJeXZ7UAAAAAtZVNof7kyZMqKiqSt7e31Xpvb29lZ2eXu19ubq7c3d3l5OSkfv36af78+erVq5ckWfazpc6kpCR5eHhYFj8/P1u6AQAAANQoN2T2m7p16yozM1NfffWVZsyYobi4OKWnp1e6vvj4eOXm5lqWQ4cOVV1jAQAAADtTx5bCXl5ecnR0VE5OjtX6nJwc+fj4lLufg4ODWrZsKUkKCQnRrl27lJSUpJ49e1r2y8nJUZMmTazqDAkJKbM+s9kss9lsS9MBAACAGsumM/VOTk7q2LGj0tLSLOuKi4uVlpamzp07V7ie4uJiFRQUSJICAgLk4+NjVWdeXp62bt1qU50AAABAbWXTmXpJiouLU3R0tEJDQ9WpUyclJycrPz9fMTExkqSoqCg1bdpUSUlJki5d/x4aGqrAwEAVFBToww8/1IoVK7Rw4UJJkslk0pgxYzR9+nTdeuutCggI0KRJk+Tr66sBAwZUXU8BAACAGsrmUB8ZGakTJ04oISFB2dnZCgkJUWpqquVG16ysLDk4/PYFQH5+vkaNGqXDhw/LxcVFrVu31sqVKxUZGWkp88wzzyg/P18jRozQ6dOn1bVrV6WmpsrZ2bkKuggAAADUbDaHekmKjY1VbGxsmdt+fwPs9OnTNX369CvWZzKZNHXqVE2dOrUyzQEAAABqtRsy+w0AAACA64dQDwAAANg5Qj0AAABg5wj1AAAAgJ0j1AMAAAB2jlAPAAAA2DlCPQAAAGDnCPUAAACAnSPUAwAAAHaOUA8AAADYOUI9AAAAYOcI9QAAAICdI9QDAAAAdo5QDwAAANg5Qj0AAABg5wj1AAAAgJ0j1AMAAAB2jlAPAAAA2DlCPQAAAGDnCPUAgHItWLBA/v7+cnZ2VlhYmLZt21Zu2UWLFqlbt27y9PSUp6enwsPDS5UfOnSoTCaT1dKnT5/r3Q0AqPEI9QCAMq1Zs0ZxcXFKTEzUjh07FBwcrIiICB0/frzM8unp6Ro8eLC2bNmijIwM+fn5qXfv3jpy5IhVuT59+ujYsWOW5Y033rgR3QGAGo1QDwAo09y5czV8+HDFxMSobdu2SklJkaurqxYvXlxm+VWrVmnUqFEKCQlR69at9a9//UvFxcVKS0uzKmc2m+Xj42NZPD09b0R3AKBGI9QDAEopLCzU9u3bFR4eblnn4OCg8PBwZWRkVKiOc+fO6eLFi2rQoIHV+vT0dDVu3FitWrXSyJEjderUqSptOwDURnVudgMAANXPyZMnVVRUJG9vb6v13t7e2r17d4XqGD9+vHx9fa1+MejTp48eeOABBQQEaP/+/Xr22WfVt29fZWRkyNHRscx6CgoKVFBQYHmcl5dXiR4BQM1GqAcAVLmZM2dq9erVSk9Pl7Ozs2X9oEGDLP9v3769goKCFBgYqPT0dN1zzz1l1pWUlKQpU6Zc9zYDgD3j8hsAQCleXl5ydHRUTk6O1fqcnBz5+Phccd85c+Zo5syZ+uijjxQUFHTFsi1atJCXl5f27dtXbpn4+Hjl5uZalkOHDlW8IwBQSxDqAQClODk5qWPHjlY3uZbc9Nq5c+dy95s9e7amTZum1NRUhYaGXvU4hw8f1qlTp9SkSZNyy5jNZtWrV89qAQBYI9QDAMoUFxenRYsWadmyZdq1a5dGjhyp/Px8xcTESJKioqIUHx9vKT9r1ixNmjRJixcvlr+/v7Kzs5Wdna2zZ89Kks6ePatx48bpyy+/1MGDB5WWlqb+/furZcuWioiIuCl9BICagmvqAQBlioyM1IkTJ5SQkKDs7GyFhIQoNTXVcvNsVlaWHBx+Oze0cOFCFRYWauDAgVb1JCYmavLkyXJ0dNTOnTu1bNkynT59Wr6+vurdu7emTZsms9l8Q/sGADUNoR4AUK7Y2FjFxsaWuS09Pd3q8cGDB69Yl4uLizZs2FBFLQMAXI7LbwAAAAA7R6gHAAAA7ByhHgAAALBzhHoAAADAzhHqAQAAADtHqAcAAADsHKEeAAAAsHOEegAAAMDOEeoBAAAAO0eoBwAAAOwcoR4AAACwc5UK9QsWLJC/v7+cnZ0VFhambdu2lVt20aJF6tatmzw9PeXp6anw8PBS5YcOHSqTyWS19OnTpzJNAwAAAGodm0P9mjVrFBcXp8TERO3YsUPBwcGKiIjQ8ePHyyyfnp6uwYMHa8uWLcrIyJCfn5969+6tI0eOWJXr06ePjh07ZlneeOONyvUIAAAAqGVsDvVz587V8OHDFRMTo7Zt2yolJUWurq5avHhxmeVXrVqlUaNGKSQkRK1bt9a//vUvFRcXKy0tzaqc2WyWj4+PZfH09KxcjwAAAIBaxqZQX1hYqO3btys8PPy3ChwcFB4eroyMjArVce7cOV28eFENGjSwWp+enq7GjRurVatWGjlypE6dOlVuHQUFBcrLy7NaAAAAgNrKplB/8uRJFRUVydvb22q9t7e3srOzK1TH+PHj5evra/WLQZ8+fbR8+XKlpaVp1qxZ+vjjj9W3b18VFRWVWUdSUpI8PDwsi5+fny3dAAAAAGqUOjfyYDNnztTq1auVnp4uZ2dny/pBgwZZ/t++fXsFBQUpMDBQ6enpuueee0rVEx8fr7i4OMvjvLw8gj0AAABqLZvO1Ht5ecnR0VE5OTlW63NycuTj43PFfefMmaOZM2fqo48+UlBQ0BXLtmjRQl5eXtq3b1+Z281ms+rVq2e1AAAAALWVTaHeyclJHTt2tLrJteSm186dO5e73+zZszVt2jSlpqYqNDT0qsc5fPiwTp06pSZNmtjSPAAAAKBWsnn2m7i4OC1atEjLli3Trl27NHLkSOXn5ysmJkaSFBUVpfj4eEv5WbNmadKkSVq8eLH8/f2VnZ2t7OxsnT17VpJ09uxZjRs3Tl9++aUOHjyotLQ09e/fXy1btlREREQVdRMAAACouWy+pj4yMlInTpxQQkKCsrOzFRISotTUVMvNs1lZWXJw+O13hYULF6qwsFADBw60qicxMVGTJ0+Wo6Ojdu7cqWXLlun06dPy9fVV7969NW3aNJnN5mvsHgAAAFDzVepG2djYWMXGxpa5LT093erxwYMHr1iXi4uLNmzYUJlmAAAAAFAlLr8BAAAAUL0Q6gEAAAA7R6gHAAAA7ByhHgAAALBzhHoAAADAzhHqAQAAADtHqAcAAADsHKEeAAAAsHOEegAAAMDOEeoBAAAAO0eoBwAAAOwcoR4AAACwc4R6AAAAwM4R6gEAAAA7R6gHAAAA7ByhHgAAALBzhHoAAADAzhHqAQAAADtHqAcAAADsHKEeAAAAsHOEegAAAMDOEeoBAAAAO0eoBwAAAOwcoR4AAACwc4R6AEC5FixYIH9/fzk7OyssLEzbtm0rt+yiRYvUrVs3eXp6ytPTU+Hh4aXKG4ahhIQENWnSRC4uLgoPD9fevXuvdzcAoMYj1AMAyrRmzRrFxcUpMTFRO3bsUHBwsCIiInT8+PEyy6enp2vw4MHasmWLMjIy5Ofnp969e+vIkSOWMrNnz9a8efOUkpKirVu3ys3NTREREbpw4cKN6hYA1EiEegBAmebOnavhw4crJiZGbdu2VUpKilxdXbV48eIyy69atUqjRo1SSEiIWrdurX/9618qLi5WWlqapEtn6ZOTkzVx4kT1799fQUFBWr58uY4ePap169bdwJ4BQM1DqAcAlFJYWKjt27crPDzcss7BwUHh4eHKyMioUB3nzp3TxYsX1aBBA0nSgQMHlJ2dbVWnh4eHwsLCrlhnQUGB8vLyrBYAgDVCPQCglJMnT6qoqEje3t5W6729vZWdnV2hOsaPHy9fX19LiC/Zz9Y6k5KS5OHhYVn8/Pxs6QoA1AqEegBAlZs5c6ZWr16td999V87OztdUV3x8vHJzcy3LoUOHqqiVAFBz1LnZDQAAVD9eXl5ydHRUTk6O1fqcnBz5+Phccd85c+Zo5syZ2rRpk4KCgizrS/bLyclRkyZNrOoMCQkptz6z2Syz2VyJXgBA7cGZegBAKU5OTurYsaPlJldJlpteO3fuXO5+s2fP1rRp05SamqrQ0FCrbQEBAfLx8bGqMy8vT1u3br1inQCAq+NMPQCgTHFxcYqOjlZoaKg6deqk5ORk5efnKyYmRpIUFRWlpk2bKikpSZI0a9YsJSQk6PXXX5e/v7/lOnl3d3e5u7vLZDJpzJgxmj59um699VYFBARo0qRJ8vX11YABA25WNwGgRiDUAwDKFBkZqRMnTighIUHZ2dkKCQlRamqq5UbXrKwsOTj89oXvwoULVVhYqIEDB1rVk5iYqMmTJ0uSnnnmGeXn52vEiBE6ffq0unbtqtTU1Gu+7h4AajtCPQCgXLGxsYqNjS1zW3p6utXjgwcPXrU+k8mkqVOnaurUqVXQOgBACa6pBwAAAOwcoR4AAACwc4R6AAAAwM4R6gEAAAA7R6gHAAAA7ByhHgAAALBzlQr1CxYskL+/v5ydnRUWFqZt27aVW3bRokXq1q2bPD095enpqfDw8FLlDcNQQkKCmjRpIhcXF4WHh2vv3r2VaRoAAABQ69gc6tesWaO4uDglJiZqx44dCg4OVkREhI4fP15m+fT0dA0ePFhbtmxRRkaG/Pz81Lt3bx05csRSZvbs2Zo3b55SUlK0detWubm5KSIiQhcuXKh8zwAAAIBawuZQP3fuXA0fPlwxMTFq27atUlJS5OrqqsWLF5dZftWqVRo1apRCQkLUunVr/etf/1JxcbHS0tIkXTpLn5ycrIkTJ6p///4KCgrS8uXLdfToUa1bt+6aOgcAAADUBjaF+sLCQm3fvl3h4eG/VeDgoPDwcGVkZFSojnPnzunixYtq0KCBJOnAgQPKzs62qtPDw0NhYWHl1llQUKC8vDyrBQAAAKitbAr1J0+eVFFRkby9va3We3t7Kzs7u0J1jB8/Xr6+vpYQX7KfLXUmJSXJw8PDsvj5+dnSDQAAAKBGuaGz38ycOVOrV6/Wu+++K2dn50rXEx8fr9zcXMty6NChKmwlAAAAYF/q2FLYy8tLjo6OysnJsVqfk5MjHx+fK+47Z84czZw5U5s2bVJQUJBlfcl+OTk5atKkiVWdISEhZdZlNptlNpttaToAAABQY9l0pt7JyUkdO3a03OQqyXLTa+fOncvdb/bs2Zo2bZpSU1MVGhpqtS0gIEA+Pj5Wdebl5Wnr1q1XrBMAAADAJTadqZekuLg4RUdHKzQ0VJ06dVJycrLy8/MVExMjSYqKilLTpk2VlJQkSZo1a5YSEhL0+uuvy9/f33KdvLu7u9zd3WUymTRmzBhNnz5dt956qwICAjRp0iT5+vpqwIABVddTAAAAoIayOdRHRkbqxIkTSkhIUHZ2tkJCQpSammq50TUrK0sODr99AbBw4UIVFhZq4MCBVvUkJiZq8uTJkqRnnnlG+fn5GjFihE6fPq2uXbsqNTX1mq67BwAAAGoLm0O9JMXGxio2NrbMbenp6VaPDx48eNX6TCaTpk6dqqlTp1amOQAAAECtdkNnvwEAAABQ9Qj1AAAAgJ0j1AMAAAB2jlB/HSxYsED+/v5ydnZWWFiYtm3bVm7Z7777Tg8++KD8/f1lMpmUnJxcqkxRUZEmTZqkgIAAubi4KDAwUNOmTZNhGJYya9euVe/evdWwYUOZTCZlZmaWqic7O1tDhgyRj4+P3NzcdPvtt+udd96pii4DAADgJiLUV7E1a9YoLi5OiYmJ2rFjh4KDgxUREaHjx4+XWf7cuXNq0aKFZs6cWe4f8Jo1a5YWLlyoV155Rbt27dKsWbM0e/ZszZ8/31ImPz9fXbt21axZs8ptW1RUlPbs2aP169frm2++0QMPPKCHH35YX3/99bV1GgAAADdVpWa/Qfnmzp2r4cOHW+btT0lJ0QcffKDFixdrwoQJpcrfcccduuOOOySpzO2S9MUXX6h///7q16+fJMnf319vvPGG1TcAQ4YMkXTl2Ya++OILLVy4UJ06dZIkTZw4US+99JK2b9+uDh062N5ZAAAAVAucqa9ChYWF2r59u8LDwy3rHBwcFB4eroyMjErX26VLF6WlpemHH36QJP3vf//TZ599pr59+9pcz5o1a/Tzzz+ruLhYq1ev1oULF9SzZ89Ktw0AAAA3H2fqq9DJkydVVFRk+UNcJby9vbV79+5K1zthwgTl5eWpdevWcnR0VFFRkWbMmKFHHnnEpnrefPNNRUZGqmHDhqpTp45cXV317rvvqmXLlpVuGwAAAG4+Qr0dePPNN7Vq1Sq9/vrrateunTIzMzVmzBj5+voqOjq6wvVMmjRJp0+f1qZNm+Tl5aV169bp4Ycf1qeffqr27dtfxx4AAADgeiLUVyEvLy85OjoqJyfHan1OTk65N8FWxLhx4zRhwgQNGjRIktS+fXv99NNPSkpKqnCo379/v1555RV9++23ateunSQpODhYn376qRYsWKCUlJRKtw8AAAA3F9fUVyEnJyd17NhRaWlplnXFxcVKS0tT586dK13vuXPn5OBg/VI5OjqquLjYpjokXXM9AAAAqH44U1/F4uLiFB0drdDQUHXq1EnJycnKz8+3zIYTFRWlpk2bKikpSdKlm2u///57y/+PHDmizMxMubu7W651v/feezVjxgz94Q9/ULt27fT1119r7ty5+tvf/mY57s8//6ysrCwdPXpUkrRnzx5Jko+Pj3x8fNS6dWu1bNlSjz32mObMmaOGDRtq3bp12rhxo95///0b9vwAAACg6hHqJflP+KAKa3OXa7ehevTJcSrK/0VOjVuowb2TFPbSfyVJ2elfq47HUb1hXDrmr7k5OpLyqGXvOXPmaM6cOTL73Safv8yUJBV79lOezy/q/5cYFZ/LlaN7A7m2uUeriztrzf9v+9lvNunUh8mWekou1fH402DV73rphtqLd43T9o+XqfNdETIunled+k3U4P/GatQnhvTJtT8HB2f2u+Y6AAAAYDtC/XVQr+O9qtfx3jK3lQT1EnU8vNV8/JXPlDuYXdUgfIQahI8ot4x7+3C5tw8vd7sk3dKgqRrd/+wVywAAAMD+cE09AAAAYOcI9QAAAICdI9QDAAAAdo5QDwAAANg5Qj0AAABg5wj1AAAAgJ0j1AMAAAB2jlAPAAAA2DlCPQAAAGDnCPUAAACAnSPUAwAAAHaOUA8AAADYOUI9AAAAYOcI9QAAAICdI9QDAMq1YMEC+fv7y9nZWWFhYdq2bVu5Zb/77js9+OCD8vf3l8lkUnJycqkykydPlslkslpat259HXsAALUDoR4AUKY1a9YoLi5OiYmJ2rFjh4KDgxUREaHjx4+XWf7cuXNq0aKFZs6cKR8fn3LrbdeunY4dO2ZZPvvss+vVBQCoNQj1AIAyzZ07V8OHD1dMTIzatm2rlJQUubq6avHixWWWv+OOO/TCCy9o0KBBMpvN5dZbp04d+fj4WBYvL6/r1QUAqDUI9QCAUgoLC7V9+3aFh4db1jk4OCg8PFwZGRnXVPfevXvl6+urFi1a6JFHHlFWVta1NhcAaj1CPQCglJMnT6qoqEje3t5W6729vZWdnV3pesPCwrR06VKlpqZq4cKFOnDggLp166YzZ86Uu09BQYHy8vKsFgCAtTo3uwEAgNqjb9++lv8HBQUpLCxMzZs315tvvqlHH320zH2SkpI0ZcqUG9VEALBLnKkHAJTi5eUlR0dH5eTkWK3Pycm54k2wtqpfv77++Mc/at++feWWiY+PV25urmU5dOhQlR0fAGoKQj0AoBQnJyd17NhRaWlplnXFxcVKS0tT586dq+w4Z8+e1f79+9WkSZNyy5jNZtWrV89qAQBY4/IbAECZ4uLiFB0drdDQUHXq1EnJycnKz89XTEyMJCkqKkpNmzZVUlKSpEs3137//feW/x85ckSZmZlyd3dXy5YtJUlPP/207r33XjVv3lxHjx5VYmKiHB0dNXjw4JvTSQCoIQj1AIAyRUZG6sSJE0pISFB2drZCQkKUmppquXk2KytLDg6/feF79OhRdejQwfJ4zpw5mjNnjnr06KH09HRJ0uHDhzV48GCdOnVKjRo1UteuXfXll1+qUaNGN7RvAFDTEOoBAOWKjY1VbGxsmdtKgnoJf39/GYZxxfpWr15dVU0DAFyGa+oBAAAAO0eoBwAAAOxcpUL9ggUL5O/vL2dnZ4WFhWnbtm3llv3uu+/04IMPyt/fXyaTScnJyaXKTJ48WSaTyWpp3bp1ZZoGAAAA1Do2h/o1a9YoLi5OiYmJ2rFjh4KDgxUREaHjx4+XWf7cuXNq0aKFZs6cecW5jdu1a6djx45Zls8++8zWpgEAAAC1ks2hfu7cuRo+fLhiYmLUtm1bpaSkyNXVVYsXLy6z/B133KEXXnhBgwYNktlsLrfeOnXqyMfHx7J4eXnZ2jQAAACgVrIp1BcWFmr79u0KDw//rQIHB4WHhysjI+OaGrJ37175+vqqRYsWeuSRR5SVlXVN9QEAAAC1hU2h/uTJkyoqKrLMUVzC29tb2dnZlW5EWFiYli5dqtTUVC1cuFAHDhxQt27ddObMmTLLFxQUKC8vz2oBAAAAaqtqMU993759Lf8PCgpSWFiYmjdvrjfffFOPPvpoqfJJSUmaMmXKjWwiAAAAUG3ZdKbey8tLjo6OysnJsVqfk5NzxZtgbVW/fn398Y9/1L59+8rcHh8fr9zcXMty6NChKjs2AAAAYG9sCvVOTk7q2LGj0tLSLOuKi4uVlpamzp07V1mjzp49q/3796tJkyZlbjebzapXr57VAgAAANRWNl9+ExcXp+joaIWGhqpTp05KTk5Wfn6+YmJiJElRUVFq2rSpkpKSJF26ufb777+3/P/IkSPKzMyUu7u7WrZsKUl6+umnde+996p58+Y6evSoEhMT5ejoqMGDB1dVPwEAAIAay+ZQHxkZqRMnTighIUHZ2dkKCQlRamqq5ebZrKwsOTj89gXA0aNH1aFDB8vjOXPmaM6cOerRo4fS09MlSYcPH9bgwYN16tQpNWrUSF27dtWXX36pRo0aXWP3AAAAgJqvUjfKxsbGKjY2tsxtJUG9hL+/vwzDuGJ9q1evrkwzAAAAAKgSf3wKAAAAQPVCqAcAAADsHKEeAAAAsHOEegAAAMDOEeoBAAAAO0eoBwAAAOwcoR4AAACwc4R6AAAAwM4R6gEAAAA7R6gHAAAA7ByhHgAAALBzhHoAAADAzhHqAQAAADtHqAcAAADsHKEeAAAAsHOEegAAAMDOEeoBAAAAO0eoBwAAAOwcoR4AAACwc4R6AAAAwM4R6gEAAAA7R6gHAAAA7ByhHgAAALBzhHoAAADAzhHqAQAAADtHqAcAAADsHKEeAAAAsHOEegAAAMDOEeoBAAAAO0eoBwAAAOwcoR4AAACwc4R6AAAAwM4R6gEAAAA7R6gHAJRrwYIF8vf3l7Ozs8LCwrRt27Zyy3733Xd68MEH5e/vL5PJpOTk5GuuEwBQMYR6AECZ1qxZo7i4OCUmJmrHjh0KDg5WRESEjh8/Xmb5c+fOqUWLFpo5c6Z8fHyqpE4AQMUQ6gEAZZo7d66GDx+umJgYtW3bVikpKXJ1ddXixYvLLH/HHXfohRde0KBBg2Q2m6ukTgBAxRDqAQClFBYWavv27QoPD7esc3BwUHh4uDIyMm5onQUFBcrLy7NaAADWCPUAgFJOnjypoqIieXt7W6339vZWdnb2Da0zKSlJHh4elsXPz69SxweAmoxQDwCo1uLj45Wbm2tZDh06dLObBADVTp2b3QAAQPXj5eUlR0dH5eTkWK3Pyckp9ybY61Wn2Wwu9xp9AMAlnKkHAJTi5OSkjh07Ki0tzbKuuLhYaWlp6ty5c7WpEwBwSaVCPfMWA0DNFxcXp0WLFmnZsmXatWuXRo4cqfz8fMXExEiSoqKiFB8fbylfWFiozMxMZWZmqrCwUEeOHFFmZqb27dtX4ToBAJVj8+U3JXMMp6SkKCwsTMnJyYqIiNCePXvUuHHjUuVL5i1+6KGHNHbs2CqpEwBw/UVGRurEiRNKSEhQdna2QkJClJqaarnRNSsrSw4Ov50bOnr0qDp06GB5PGfOHM2ZM0c9evRQenp6heoEAFSOzWfqmbcYAGqP2NhY/fTTTyooKNDWrVsVFhZm2Zaenq6lS5daHvv7+8swjFJLSaCvSJ0AgMqxKdRXp3mLAQAAAFxi0+U3V5pjePfu3ZVqQGXqLCgoUEFBgeUxf4gEAAAAtZldzn7DHyIBAAAAfmNTqK8u8xbzh0gAAACA39gU6qvLvMVms1n16tWzWgAAAIDayuYpLePi4hQdHa3Q0FB16tRJycnJpeYtbtq0qZKSkiRduhH2+++/t/y/ZN5id3d3tWzZskJ1AgAAACifzaGeeYsBAACA6sXmUC9dmmM4Nja2zG2/n4+4ZN7ia6kTAAAAQPnscvYbAAAAAL8h1AMAAAB2jlAPAAAA2DlCPQAAAGDnCPUAAACAnSPUAwAAAHaOUA8AAADYOUI9AAAAYOcI9QAAAICdI9QDAAAAdo5QDwAAANg5Qj0AAABg5wj1AAAAgJ0j1AMAAAB2jlAPAAAA2DlCPQAAAGDnCPUAAACAnSPUAwAAAHaOUA8AAADYOUI9AAAAYOcI9QAAAICdI9QDAAAAdo5QDwAAANg5Qj0AAABg5wj1AAAAgJ0j1AMAAAB2jlAPAAAA2DlCPQAAAGDnCPUAAACAnSPUAwAAAHaOUA8AAADYOUI9AAAAYOcI9QAAAICdI9QDAAAAdo5QDwAAANg5Qj0AAABg5wj1AAAAgJ0j1AMAyrVgwQL5+/vL2dlZYWFh2rZt2xXLv/XWW2rdurWcnZ3Vvn17ffjhh1bbhw4dKpPJZLX06dPnenYBAGoFQj0AoExr1qxRXFycEhMTtWPHDgUHBysiIkLHjx8vs/wXX3yhwYMH69FHH9XXX3+tAQMGaMCAAfr222+tyvXp00fHjh2zLG+88caN6A4A1GiEegBAmebOnavhw4crJiZGbdu2VUpKilxdXbV48eIyy7/88svq06ePxo0bpzZt2mjatGm6/fbb9corr1iVM5vN8vHxsSyenp43ojsAUKMR6gEApRQWFmr79u0KDw+3rHNwcFB4eLgyMjLK3CcjI8OqvCRFRESUKp+enq7GjRurVatWGjlypE6dOlX1HQCAWqbOzW4AAKD6OXnypIqKiuTt7W213tvbW7t37y5zn+zs7DLLZ2dnWx736dNHDzzwgAICArR//349++yz6tu3rzIyMuTo6FhmvQUFBSooKLA8zsvLq2y3AKDGqtSZem6cAgBUxqBBg3Tfffepffv2GjBggN5//3199dVXSk9PL3efpKQkeXh4WBY/P78b12AAsBM2h3punAKAms/Ly0uOjo7KycmxWp+TkyMfH58y9/Hx8bGpvCS1aNFCXl5e2rdvX7ll4uPjlZuba1kOHTpkQ08AoHawOdRz4xQA1HxOTk7q2LGj0tLSLOuKi4uVlpamzp07l7lP586drcpL0saNG8stL0mHDx/WqVOn1KRJk3LLmM1m1atXz2oBAFizKdRXlxunCgoKlJeXZ7UAAKpWXFycFi1apGXLlmnXrl0aOXKk8vPzFRMTI0mKiopSfHy8pfzo0aOVmpqqF198Ubt379bkyZP13//+V7GxsZKks2fPaty4cfryyy918OBBpaWlqX///mrZsqUiIiJuSh8BoKaw6UbZ6nLjVFJSkqZMmWJL0wEANoqMjNSJEyeUkJCg7OxshYSEKDU11TKmZ2VlycHht3NDXbp00euvv66JEyfq2Wef1a233qp169bptttukyQ5Ojpq586dWrZsmU6fPi1fX1/17t1b06ZNk9lsvil9BICaolrMfjNo0CDL/9u3b6+goCAFBgYqPT1d99xzT6ny8fHxiouLszzOy8vjxikAuA5iY2MtZ9p/r6ybWx966CE99NBDZZZ3cXHRhg0bqrJ5AID/z6bLb6rLjVNcXwkAAAD8xqZQX51unAIAAABwic2z33DjFAAAAFC92HxNPTdOAQAAANVLpW6U5cYpAAAAoPqw+fIbAAAAANULoR4AAACwc4R6AAAAwM4R6gEAAAA7R6gHAAAA7ByhHgAAALBzhHoAAADAzhHqAQAAADtHqAcAAADsHKEeAAAAsHOEegAAAMDOEeoBAAAAO0eoBwAAAOwcoR4AAACwc4R6AAAAwM4R6gEAAAA7R6gHAAAA7ByhHgAAALBzhHoAAADAzhHqAQAAADtHqAcAAADsHKEeAAAAsHOEegAAAMDOEeoBAAAAO0eoBwAAAOwcoR4AAACwc4R6AAAAwM4R6gEAAAA7R6gHAAAA7ByhHgAAALBzhHoAAADAzhHqAQAAADtHqAcAAADsHKEeAAAAsHOEegAAAMDOEeoBAAAAO0eoBwAAAOwcoR4AAACwc4R6AAAAwM4R6gEAAAA7R6gHAAAA7FylQv2CBQvk7+8vZ2dnhYWFadu2bVcs/9Zbb6l169ZydnZW+/bt9eGHH1ptNwxDCQkJatKkiVxcXBQeHq69e/dWpmkAgCrEeA8A9sHmUL9mzRrFxcUpMTFRO3bsUHBwsCIiInT8+PEyy3/xxRcaPHiwHn30UX399dcaMGCABgwYoG+//dZSZvbs2Zo3b55SUlK0detWubm5KSIiQhcuXKh8zwAA14TxHgDsh82hfu7cuRo+fLhiYmLUtm1bpaSkyNXVVYsXLy6z/Msvv6w+ffpo3LhxatOmjaZNm6bbb79dr7zyiqRLZ22Sk5M1ceJE9e/fX0FBQVq+fLmOHj2qdevWXVPnAACVx3gPAPajji2FCwsLtX37dsXHx1vWOTg4KDw8XBkZGWXuk5GRobi4OKt1ERERlgH8wIEDys7OVnh4uGW7h4eHwsLClJGRoUGDBpWqs6CgQAUFBZbHubm5kqS8vDxbumNRXHCuUvvBWmWf/yvhtakavDbVV2Vfm5L9DMOoyuZYVJfxXqraMZ+f26pT1eMKr03V4bWpvirz2lR0vLcp1J88eVJFRUXy9va2Wu/t7a3du3eXuU92dnaZ5bOzsy3bS9aVV+b3kpKSNGXKlFLr/fz8KtYRXBceyTe7BSgPr031da2vzZkzZ+Th4VElbblcdRnvJcb86opxpfritam+ruW1udp4b1Oory7i4+OtzgYVFxfr559/VsOGDWUymW5iy66PvLw8+fn56dChQ6pXr97Nbg4uw2tTfdX018YwDJ05c0a+vr43uynXHWM+qgNel+qrpr82FR3vbQr1Xl5ecnR0VE5OjtX6nJwc+fj4lLmPj4/PFcuX/JuTk6MmTZpYlQkJCSmzTrPZLLPZbLWufv36tnTFLtWrV69G/rDWBLw21VdNfm2uxxn6EtVlvJcY81G98LpUXzX5tanIeG/TjbJOTk7q2LGj0tLSLOuKi4uVlpamzp07l7lP586drcpL0saNGy3lAwIC5OPjY1UmLy9PW7duLbdOAMD1xXgPAPbF5stv4uLiFB0drdDQUHXq1EnJycnKz89XTEyMJCkqKkpNmzZVUlKSJGn06NHq0aOHXnzxRfXr10+rV6/Wf//7X/3zn/+UJJlMJo0ZM0bTp0/XrbfeqoCAAE2aNEm+vr4aMGBA1fUUAGATxnsAsB82h/rIyEidOHFCCQkJys7OVkhIiFJTUy03PmVlZcnB4bcvALp06aLXX39dEydO1LPPPqtbb71V69at02233WYp88wzzyg/P18jRozQ6dOn1bVrV6WmpsrZ2bkKumj/zGazEhMTS339jJuP16b64rW5doz3Nwc/u9UTr0v1xWtzicm4XvOhAQAAALghbP7jUwAAAACqF0I9AAAAYOcI9QAAAICdI9QDqJF69uypMWPG3OxmAACuM8b7Swj118mJEyc0cuRI/eEPf5DZbJaPj48iIiL0+eef3+ym1XiHDh3S3/72N/n6+srJyUnNmzfX6NGjderUqZvdtGuSnp4uk8mk06dP3+ymXHdDhw6VyWSSyWTSLbfcooCAAD3zzDO6cOFChetYu3atpk2bdh1bCfyGMf/mYLy3f4z3VcfmKS1RMQ8++KAKCwu1bNkytWjRQjk5OUpLS7P7gaa6+/HHH9W5c2f98Y9/1BtvvKGAgAB99913GjdunP7zn//oyy+/VIMGDa7LsS9evKhbbrnlutRdG/Xp00dLlizRxYsXtX37dkVHR8tkMmnWrFkV2v96vc5AWRjzbzzG+5qD8b6KGKhyv/zyiyHJSE9PL3P7gQMHDEnG119/XWqfLVu2GIZhGFu2bDEkGZs2bTI6duxouLi4GJ07dzZ2795t2ScxMdEIDg42li9fbjRv3tyoV6+eERkZaeTl5RmGYRjLli0zGjRoYFy4cMHq+P379zf++te/Vm2nq4k+ffoYzZo1M86dO2e1/tixY4arq6vx97//3YiPjzc6depUat+goCBjypQplseLFi0yWrdubZjNZqNVq1bGggULLNtKXsPVq1cb3bt3N8xms7FkyRLDMAzjtddeM9q2bWs4OTkZPj4+xuOPP27Z78UXXzRuu+02w9XV1WjWrJkxcuRI48yZM5btBw8eNP785z8b9evXN1xdXY22bdsaH3zwgeV4ly/R0dFV9KxVP9HR0Ub//v2t1j3wwANGhw4dDMMwjJMnTxqDBg0yfH19DRcXF+O2224zXn/9davyPXr0MEaPHm153Lx5c2PGjBlGTEyM4e7ubvj5+Rn/+Mc/LNvvuusuq9fKMAzj+PHjxi233GJs2rSpajuIGoUx/+ZgvK8ZGO+rDqH+Orh48aLh7u5ujBkzptTgahi2DfBhYWFGenq68d133xndunUzunTpYtknMTHRcHd3Nx544AHjm2++MT755BPDx8fHePbZZw3DMIxz584ZHh4exptvvmnZJycnx6hTp46xefPm69P5m+jUqVOGyWQynn/++TK3Dx8+3PD09DS+/fZbQ5Kxb98+y7aSdXv37jUMwzBWrlxpNGnSxHjnnXeMH3/80XjnnXeMBg0aGEuXLjUM47fX0N/f31Lm6NGjxquvvmo4OzsbycnJxp49e4xt27YZL730kuU4L730krF582bjwIEDRlpamtGqVStj5MiRlu39+vUzevXqZezcudPYv3+/8e9//9v4+OOPjV9//dV45513DEnGnj17jGPHjhmnT5++Ds9i9fD7Qf6bb74xfHx8jLCwMMMwDOPw4cPGCy+8YHz99dfG/v37jXnz5hmOjo7G1q1bLfuUNcg3aNDAWLBggbF3714jKSnJcHBwsISmVatWGZ6enlbv2blz5xr+/v5GcXHx9e0w7Bpj/o3HeF9zMN5XHUL9dfL2228bnp6ehrOzs9GlSxcjPj7e+N///mcYhu1nbUp88MEHhiTj/PnzhmFcGuBdXV0tZ2kMwzDGjRtneSMYhmGMHDnS6Nu3r+Xxiy++aLRo0cKuf2jL8+WXXxqSjHfffbfM7XPnzjUkGTk5OUZwcLAxdepUy7b4+Hir5y0wMLDUmYBp06YZnTt3Ngzjt9cwOTnZqoyvr6/x3HPPVbjNb731ltGwYUPL4/bt2xuTJ08us2zJz8Qvv/xS4frtVXR0tOHo6Gi4ubkZZrPZkGQ4ODgYb7/9drn79OvXz3jqqacsj8sa5C8/W1lcXGw0btzYWLhwoWEYhnH+/HnD09PTWLNmjaVMUFBQua8HcDnG/BuL8b7mYLyvOtwoe508+OCDOnr0qNavX68+ffooPT1dt99+u5YuXWpTPUFBQZb/N2nSRJJ0/Phxyzp/f3/VrVvXqszl24cPH66PPvpIR44ckSQtXbrUclNKTWVU4I8kP/LII3r99dct5d944w098sgjkqT8/Hzt379fjz76qNzd3S3L9OnTtX//fqt6QkNDLf8/fvy4jh49qnvuuafc427atEn33HOPmjZtqrp162rIkCE6deqUzp07J0l68sknNX36dP3pT39SYmKidu7caXP/a4q77rpLmZmZ2rp1q6KjoxUTE6MHH3xQklRUVKRp06apffv2atCggdzd3bVhwwZlZWVdsc7L308mk0k+Pj6W94uzs7OGDBmixYsXS5J27Nihb7/9VkOHDr0+HUSNwph/czDe1wyM91WDUH8dOTs7q1evXpo0aZK++OILDR06VImJiXJwuPS0Xz4YXbx4scw6Lr8Rp2RQLi4uLnN7SZnLt3fo0EHBwcFavny5tm/fru+++87uf2jL07JlS5lMJu3atavM7bt27ZKnp6caNWqkwYMHa8+ePdqxY4e++OILHTp0SJGRkZKks2fPSpIWLVqkzMxMy/Ltt9/qyy+/tKrTzc3N8n8XF5crtu/gwYP685//rKCgIL3zzjvavn27FixYIEkqLCyUJA0bNkw//vijhgwZom+++UahoaGaP39+5Z4QO+fm5qaWLVsqODhYixcv1tatW/Xaa69Jkl544QW9/PLLGj9+vLZs2aLMzExFRERYnsfyXO39MmzYMG3cuFGHDx/WkiVLdPfdd6t58+ZV3znUSIz5Nw7jfc3CeF81CPU3UNu2bZWfn69GjRpJko4dO2bZlpmZed2OO2zYMC1dulRLlixReHi4/Pz8rtuxbqaGDRuqV69eevXVV3X+/HmrbdnZ2Vq1apUiIyNlMpnUrFkz9ejRQ6tWrdKqVavUq1cvNW7cWJLk7e0tX19f/fjjj2rZsqXVEhAQUO7x69atK39/f6WlpZW5ffv27SouLtaLL76oO++8U3/84x919OjRUuX8/Pz097//XWvXrtVTTz2lRYsWSZKcnJwkXTprUds4ODjo2Wef1cSJE3X+/Hl9/vnn6t+/v/76178qODhYLVq00A8//HDNx2nfvr1CQ0O1aNEivf766/rb3/5WBa1HbcWYf/0w3tdcjPeVR6i/Dk6dOqW7775bK1eu1M6dO3XgwAG99dZbmj17tvr37y8XFxfdeeedmjlzpnbt2qWPP/5YEydOvG7t+ctf/qLDhw9r0aJFNeKH9kpeeeUVFRQUKCIiQp988okOHTqk1NRU9erVS02bNtWMGTMsZR955BGtXr1ab731luWr2BJTpkxRUlKS5s2bpx9++EHffPONlixZorlz517x+JMnT9aLL76oefPmae/evdqxY4flzEvLli118eJFzZ8/Xz/++KNWrFihlJQUq/3HjBmjDRs26MCBA9qxY4e2bNmiNm3aSJKaN28uk8mk999/XydOnLCcYaotHnroITk6OmrBggW69dZbtXHjRn3xxRfatWuXHnvsMeXk5FTJcYYNG6aZM2fKMAzdf//9VVInajbG/JuD8b7mYryvpJt3OX/NdeHCBWPChAnG7bffbnh4eBiurq5Gq1atjIkTJ1qm3vr++++Nzp07Gy4uLkZISIjx0UcflXnT1OU3yXz99deGJOPAgQOGYfw2vdnlXnrpJaN58+al2jRkyJAypzqriQ4ePGhER0cb3t7exi233GL4+fkZTzzxhHHy5Emrcr/88othNpsNV1dXq2nGSqxatcoICQkxnJycDE9PT6N79+7G2rVrDcMo+8a3EikpKUarVq2MW265xWjSpInxxBNPWLbNnTvXaNKkieHi4mJEREQYy5cvt3qdY2NjjcDAQMNsNhuNGjUyhgwZYtXuqVOnGj4+PobJZKp1U5wZhmEkJSUZjRo1Mg4fPmz079/fcHd3Nxo3bmxMnDjRiIqKstqnrBunLp+ZwjAMIzg42EhMTLRad+bMGcPV1dUYNWpU1XUINRpj/s3DeG//GO+rjskwKnCXCezePffco3bt2mnevHk3uylAtXbw4EEFBgbqq6++0u23336zmwNUCmM+cHU1bbwn1Ndwv/zyi9LT0zVw4EB9//33atWq1c1uElAtXbx4UadOndLTTz+tAwcO6PPPP7/ZTQJsxpgPXF1NHe/r3OwG4Prq0KGDfvnlF82aNYvBHbiCzz//XHfddZf++Mc/6u23377ZzQEqhTEfuLqaOt5zph4AAACwc8x+AwAAANg5Qj0AAABg5wj1AAAAgJ0j1AMAAAB2jlAPAAAA2DlCPQAAAGDnCPUAAACAnSPUAwAAAHaOUA8AAADYuf8H39ijkf+MfdoAAAAASUVORK5CYII=\n",
      "text/plain": [
       "<Figure size 900x600 with 2 Axes>"
      ]
=======
      "image/png": "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",
      "text/plain": [
       "<Figure size 648x432 with 2 Axes>"
      ]
     },
     "metadata": {
      "needs_background": "light"
>>>>>>> d432bf208edfb2dd8f8390db5351f679e173f00d
     },
     "output_type": "display_data"
    }
   ],
   "source": [
    "def plot_hist_no_sun(d_2: np.array, d_3: np.array):\n",
    "    x = [\"Sunny\", \"Overcast\", \"Rainy\"]\n",
    "    fig, axes = plt.subplots(1, 2)\n",
    "    fig.set_size_inches(9, 6)\n",
    "\n",
    "    count_0: np.array = np.count_nonzero(d_3[d_2 != 0] == 0)\n",
    "    count_1: np.array = np.count_nonzero(d_3[d_2 != 0] == 1)\n",
    "    count_2: np.array = np.count_nonzero(d_3[d_2 != 0] == 2)\n",
    "\n",
    "    p_0: float = round(count_0/(count_0 + count_1 + count_2), 4)\n",
    "    p_1: float = round(count_1/(count_0 + count_1 + count_2), 4)\n",
    "    p_2: float = round(count_2/(count_0 + count_1 + count_2), 4)\n",
    "\n",
    "\n",
    "    y = [p_0, p_1, p_2]\n",
    "    axes[0].bar(x, y)\n",
    "    axes[0].set_title(\"Distribution on day 3 if day 2 was not sunny\")\n",
    "    for i in range(3):\n",
    "        axes[0].text(i, y[i], y[i], ha = 'center')\n",
    "\n",
    "    y = [round(empirical_dist_day_3[\"sunny\"], 4), round(empirical_dist_day_3[\"overcast\"], 4), round(empirical_dist_day_3[\"rainy\"], 4)]\n",
    "    axes[1].bar(x, y)\n",
    "    axes[1].set_title(\"Distribution on day 3\")\n",
    "    for i in range(3):\n",
    "        axes[1].text(i, y[i], y[i], ha = 'center')\n",
    "\n",
    "plot_hist_no_sun(day_2, day_3)"
   ]
  },
  {
<<<<<<< HEAD
   "cell_type": "markdown",
   "metadata": {
=======
   "attachments": {},
   "cell_type": "markdown",
   "metadata": {
    "collapsed": false,
>>>>>>> d432bf208edfb2dd8f8390db5351f679e173f00d
    "pycharm": {
     "name": "#%% md\n"
    }
   },
   "source": [
    "We notice that the probability of the event $\\{X_3=\"sunny\"\\}$ has decreased."
   ]
  },
  {
<<<<<<< HEAD
   "cell_type": "markdown",
   "metadata": {
=======
   "attachments": {},
   "cell_type": "markdown",
   "metadata": {
    "collapsed": false,
>>>>>>> d432bf208edfb2dd8f8390db5351f679e173f00d
    "pycharm": {
     "name": "#%% md\n"
    }
   },
   "source": [
    "# Task 1.7"
   ]
  },
  {
<<<<<<< HEAD
   "cell_type": "markdown",
   "metadata": {
=======
   "attachments": {},
   "cell_type": "markdown",
   "metadata": {
    "collapsed": false,
>>>>>>> d432bf208edfb2dd8f8390db5351f679e173f00d
    "pycharm": {
     "name": "#%% md\n"
    }
   },
   "source": [
    "Given $E_1=\\{X_1=\"sunny\"\\}$ and introducing the event $I=\\{\\text{the information of the agent is true}\\}$, that has probability 1/2 we get that the distribution of $X_2$ is: <br>\n",
    "$P_{E_1}(X_2=rainy)=P_{E_1}(X_2=rainy|I)P(I)+P_{E_1}(X_2=rainy|I)P(I^c)=1/2*1/3+1/2*1/6=1/4$ and similarly we get $P_{E_1}(X_2=overcast)=1/2$, $P_{E_1}(X_2=sunny)=1/4$, then the distribution of $X_3$ is: $P\\begin{pmatrix}1/4 \\\\ 1/2 \\\\ 1/4\\end{pmatrix}$"
   ]
  },
  {
   "cell_type": "code",
   "execution_count": 14,
   "metadata": {
    "collapsed": false,
<<<<<<< HEAD
    "jupyter": {
     "outputs_hidden": false
    },
    "pycharm": {
     "name": "#%%\n"
    }
   },
   "outputs": [
    {
     "name": "stdout",
     "output_type": "stream",
     "text": [
      "Theoretical distribution of X_3: [0.3        0.43333333 0.26666667]\n"
     ]
    }
   ],
   "source": [
    "print(\"Theoretical distribution of X_3:\", np.dot(transition_matrix, np.array([1/4,1/2,1/4])))"
   ]
  },
  {
   "cell_type": "code",
   "execution_count": 15,
   "metadata": {
    "collapsed": false,
    "jupyter": {
     "outputs_hidden": false
    },
=======
>>>>>>> d432bf208edfb2dd8f8390db5351f679e173f00d
    "pycharm": {
     "name": "#%%\n"
    }
   },
   "outputs": [
    {
     "name": "stdout",
     "output_type": "stream",
     "text": [
      "Theorical distribution of X_3: [0.3        0.43333333 0.26666667]\n"
     ]
    }
   ],
   "source": [
    "print(\"Theorical distribution of X_3:\", np.dot(transition_matrix, np.array([1/4,1/2,1/4])))"
   ]
  },
  {
   "cell_type": "code",
   "execution_count": 15,
   "metadata": {
    "collapsed": false,
    "pycharm": {
     "name": "#%%\n"
    }
   },
   "outputs": [
    {
     "name": "stdout",
     "output_type": "stream",
     "text": [
      "Empirical distribution of X_3: [0.35263158 0.45789474 0.18947368]\n"
     ]
    }
   ],
   "source": [
    "p_3_7 = 1/2 * np.array(list(empirical_dist_day_3.values())) + 1/2 * np.array(list(empirical_dist_day_3.values()))\n",
    "print(\"Empirical distribution of X_3:\", p_3_7)"
   ]
  }
 ],
 "metadata": {
  "kernelspec": {
   "display_name": "Python 3 (ipykernel)",
   "language": "python",
   "name": "python3"
  },
  "language_info": {
   "codemirror_mode": {
    "name": "ipython",
    "version": 3
   },
   "file_extension": ".py",
   "mimetype": "text/x-python",
   "name": "python",
   "nbconvert_exporter": "python",
   "pygments_lexer": "ipython3",
<<<<<<< HEAD
   "version": "3.11.3"
  }
 },
 "nbformat": 4,
 "nbformat_minor": 4
=======
   "version": "3.9.12"
  }
 },
 "nbformat": 4,
 "nbformat_minor": 0
>>>>>>> d432bf208edfb2dd8f8390db5351f679e173f00d
}
