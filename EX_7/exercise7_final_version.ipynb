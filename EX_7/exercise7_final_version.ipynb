{
 "cells": [
  {
   "cell_type": "code",
   "execution_count": 1,
   "metadata": {
    "collapsed": false,
    "pycharm": {
     "name": "#%%\n"
    }
   },
   "outputs": [],
   "source": [
    "import numpy as np\n",
    "import matplotlib.pyplot as plt\n",
    "from typing import List"
   ]
  },
  {
   "attachments": {},
   "cell_type": "markdown",
   "metadata": {
    "collapsed": false,
    "pycharm": {
     "name": "#%% md\n"
    }
   },
   "source": [
    "## Set up the transitionmatrix"
   ]
  },
  {
   "cell_type": "code",
   "execution_count": 2,
   "metadata": {
    "collapsed": false,
    "pycharm": {
     "name": "#%%\n"
    }
   },
   "outputs": [
    {
     "data": {
      "text/plain": [
       "array([[0.5       , 0.25      , 0.2       ],\n",
       "       [0.33333333, 0.5       , 0.4       ],\n",
       "       [0.16666667, 0.25      , 0.4       ]])"
      ]
     },
     "execution_count": 2,
     "metadata": {},
     "output_type": "execute_result"
    }
   ],
   "source": [
    "transition_matrix: np.array = np.array(\n",
    "    [ [1/2, 1/4, 1/5],\n",
    "      [1/3, 1/2, 2/5],\n",
    "      [1/6, 1/4, 2/5]]\n",
    ")\n",
    "transition_matrix"
   ]
  },
  {
   "attachments": {},
   "cell_type": "markdown",
   "metadata": {
    "collapsed": false,
    "pycharm": {
     "name": "#%% md\n"
    }
   },
   "source": [
    "# Task 1.3\n",
    "The following numerical decoding will be used\n",
    "\n",
    "0 = sunny\n",
    "1 = overcast\n",
    "2 = rainy\n",
    "\n",
    "The transition matrix P is constructed such that: P(ij)=P(tomorrow=i|today=j)."
   ]
  },
  {
   "cell_type": "code",
   "execution_count": 3,
   "metadata": {
    "collapsed": false,
    "pycharm": {
     "name": "#%%\n"
    }
   },
   "outputs": [
    {
     "data": {
      "text/plain": [
       "(190, 31)"
      ]
     },
     "execution_count": 3,
     "metadata": {},
     "output_type": "execute_result"
    }
   ],
   "source": [
    "number_simulations: int = 190\n",
    "number_simulated_days: int = 30 + 1  # +1 since day 0 is always sunny and day one is at position [1]\n",
    "\n",
    "initial_trajectories: np.array = np.zeros((number_simulations, number_simulated_days)).astype(int)\n",
    "initial_trajectories.shape"
   ]
  },
  {
   "cell_type": "code",
   "execution_count": 4,
   "metadata": {
    "collapsed": false,
    "pycharm": {
     "name": "#%%\n"
    }
   },
   "outputs": [],
   "source": [
    "def sim_step(x: np.array) -> int:\n",
    "    \"\"\"\n",
    "    Produce one step in the simulation given x as the array of weather states in [0, 1, 2]\n",
    "    this function is applied on each element of the array x and will calculate the weahter for the next day using the transition probabilites given in\n",
    "    Transition matrix\n",
    "    :param x: [0|1|2]\n",
    "    :return: 0|1|2\n",
    "    \"\"\"\n",
    "    # get the transition probabilities for the given weather today\n",
    "    probs: np.array = np.array(transition_matrix[:, x])\n",
    "    return np.random.choice([0, 1, 2],p=probs)"
   ]
  },
  {
   "attachments": {},
   "cell_type": "markdown",
   "metadata": {
    "collapsed": false,
    "pycharm": {
     "name": "#%% md\n"
    }
   },
   "source": [
    "### Vectorize the sim step to apply it to each element of a vector"
   ]
  },
  {
   "cell_type": "code",
   "execution_count": 5,
   "metadata": {
    "collapsed": false,
    "pycharm": {
     "name": "#%%\n"
    }
   },
   "outputs": [],
   "source": [
    "vectorized_step  = np.vectorize(sim_step)"
   ]
  },
  {
   "attachments": {},
   "cell_type": "markdown",
   "metadata": {
    "collapsed": false,
    "pycharm": {
     "name": "#%% md\n"
    }
   },
   "source": [
    "### Produce the simulation"
   ]
  },
  {
   "cell_type": "code",
   "execution_count": 6,
   "metadata": {
    "collapsed": false,
    "pycharm": {
     "name": "#%%\n"
    }
   },
   "outputs": [],
   "source": [
    "trajectories: np.array = initial_trajectories\n",
    "\n",
    "for i in range(1, number_simulated_days):\n",
    "    trajectories[:, i] = vectorized_step(trajectories[:, i-1])"
   ]
  },
  {
   "cell_type": "code",
   "execution_count": 7,
   "metadata": {
    "collapsed": false,
    "pycharm": {
     "name": "#%%\n"
    }
   },
   "outputs": [
    {
     "data": {
      "text/plain": [
       "array([[0, 1, 2, ..., 0, 2, 2],\n",
       "       [0, 2, 2, ..., 1, 1, 1],\n",
       "       [0, 1, 1, ..., 1, 0, 1],\n",
       "       ...,\n",
       "       [0, 1, 2, ..., 1, 1, 2],\n",
       "       [0, 0, 0, ..., 2, 2, 2],\n",
       "       [0, 1, 2, ..., 0, 0, 1]])"
      ]
     },
     "execution_count": 7,
     "metadata": {},
     "output_type": "execute_result"
    }
   ],
   "source": [
    "trajectories"
   ]
  },
  {
   "cell_type": "code",
   "execution_count": 8,
   "metadata": {
    "collapsed": false,
    "pycharm": {
     "name": "#%%\n"
    }
   },
   "outputs": [],
   "source": [
    "def plot_hist(days: List[np.array]):\n",
    "    # for comparison\n",
    "    invariant_measure: List [float] = [round(6/19, 4), round(8/19, 4), round(5/19, 4)]\n",
    "\n",
    "    fig, axes = plt.subplots(1, 4)\n",
    "    fig.set_size_inches(18.5, 6)\n",
    "    x = [\"Sunny\", \"Overcast\", \"Rainy\"]\n",
    "    titles = [\"2\", \"3\", \"30\"]\n",
    "    for day, ax, title in zip(days, axes, titles):\n",
    "        count_0: np.array = np.count_nonzero(day == 0) # Sunny\n",
    "        count_1: np.array = np.count_nonzero(day == 1) # overcast\n",
    "        count_2: np.array = np.count_nonzero(day == 2) # rainy\n",
    "\n",
    "        p_0: float = round(count_0/len(day), 4)\n",
    "        p_1: float = round(count_1/len(day), 4)\n",
    "        p_2: float = round(count_2/len(day), 4)\n",
    "\n",
    "        y = [p_0, p_1, p_2]\n",
    "        ax.bar(x, y)\n",
    "        ax.set_title(f\"Distribution after {title} Days\")\n",
    "        for i in range(3):\n",
    "            ax.text(i, y[i], y[i], ha = 'center')\n",
    "\n",
    "    # set the invariant measure\n",
    "    axes[3].bar(x, invariant_measure)\n",
    "    axes[3].set_title(\"Invariant Measure\")\n",
    "    for i in range(3):\n",
    "        plt.text(i, invariant_measure[i], invariant_measure[i], ha = 'center')"
   ]
  },
  {
   "cell_type": "code",
   "execution_count": 9,
   "metadata": {
    "collapsed": false,
    "pycharm": {
     "name": "#%%\n"
    }
   },
   "outputs": [
    {
     "data": {
      "image/png": "[encoded data removed]",
      "text/plain": [
       "<Figure size 1850x600 with 4 Axes>"
      ]
     },
     "metadata": {},
     "output_type": "display_data"
    }
   ],
   "source": [
    "day_2: np.array = trajectories[:, 2]\n",
    "day_3: np.array = trajectories[:, 3]\n",
    "day_30: np.array = trajectories[:, 30]\n",
    "plot_hist(days=[day_2, day_3, day_30])"
   ]
  },
  {
   "attachments": {},
   "cell_type": "markdown",
   "metadata": {
    "collapsed": false,
    "pycharm": {
     "name": "#%% md\n"
    }
   },
   "source": [
    "We have found that the invariant measure $p$ is, given the probability of the event $\"rainy\"$, $p_r$: $p=\\begin{pmatrix}6/5p_r \\\\ 8/5p_r \\\\ p_r\\end{pmatrix}$. <br>\n",
    "We notice that, for $t=30$, $p_s\\approx 6/5*p_r$, $p_o\\approx 8/5*p_r$:"
   ]
  },
  {
   "attachments": {},
   "cell_type": "markdown",
   "metadata": {
    "collapsed": false,
    "pycharm": {
     "name": "#%% md\n"
    }
   },
   "source": [
    "Then it seems that there is convergence to the invariant measure."
   ]
  },
  {
   "attachments": {},
   "cell_type": "markdown",
   "metadata": {
    "collapsed": false,
    "pycharm": {
     "name": "#%% md\n"
    }
   },
   "source": [
    "# Task 1.4 <br>\n",
    "The invariant measure, $p\\in[0,1]^3$, is the eigenvector of $P$ for $\\lambda_1=1$. <br>\n",
    "$\\begin{align}det(P-\\lambda I)=-\\lambda^3+7/5\\lambda^2-13/30\\lambda+1/30=0 \\iff \\lambda=1 \\vee \\lambda=1/30(6+\\sqrt{6})\\vee \\lambda=1/30(6-\\sqrt{6}),\\end{align}$\n",
    "then the other eigenvalues of $P$ are $\\lambda_2=1/30(6+\\sqrt{6}), \\ \\lambda_3=1/30(6+\\sqrt{6})$. We notice that they are both <1, which is in line with theory since a stochastic matrix has eigenvalues 1 and the others less than 1 in module. Let be $v_2, \\ v_3$ the eigenvectors corresponding to $\\lambda_2$ and $\\lambda_3$. <br>\n",
    "Proving that the chain converges to the invariant measure means showing that:\n",
    "$\\begin{align}\\lim_{t\\to\\infty} Pp_t=\\lim_{t\\to\\infty}P^tp_1=p,\\end{align}$\n",
    "where $p_t$ is the distribution of $X_t$ and $p_1$ is the initial distribution. <br>\n",
    "Since $p,v_2,v_3$ form a basis of $[0,1]^3$ we have:\n",
    "$\\begin{align}\\exists \\alpha,\\beta,\\gamma\\in\\mathbb{R} | \\ p_1=\\alpha p+\\beta v_2+ \\gamma v_3.\\end{align}$\n",
    "Now we observe that $\\forall i\\in\\{2,3\\}$ $<v_i,(1,1,1)>=0$: <br>\n",
    "$Pv_i=\\lambda_i v_i\\iff <Pv_i,(1,1,1)>=\\lambda_i<v_i,(1,1,1)>\\iff\\lambda_i<v_i,(1,1,1)>=\\sum_{j=1}^3 {v_i}_j  (\\sum_{k=1}^3 P_{kj})=<v_i,(1,1,1)>\\iff <v_i,(1,1,1)>=0$,<br>\n",
    "where we have used that $P$ is stochastic and that $\\lambda_i<1$ (from which follows the conclusion).<br>\n",
    "$p_1$ is a probability measure as well as $p$, then: \n",
    "$1=\\sum_{i=1}^3{p_1}_i=<p_1,(1,1,1)>=\\alpha<p,(1,1,1)>+\\beta<v_2,(1,1,1)>+\\gamma<v_3,(1,1,1)>=\\alpha \\iff \\alpha=1$.<br>\n",
    "Consequently:\n",
    "$\\begin{align}\\lim_{t\\to\\infty}P^tp_1&=\\lim_{t\\to\\infty}(P^tp+\\beta P^tv_2+\\gamma P^tv_3)=\\\\\n",
    "&=\\lim_{t\\to\\infty}(\\lambda_1^t p+\\beta \\lambda_2^tv_2+\\gamma \\lambda_3^t v_3)=p,\\end{align}$\n",
    "given that $\\lambda_1^t=1^t\\to 1 \\text{ if } t\\to\\infty$, while $\\lambda_2,\\lambda_3<1$, then  $\\lambda_i^t\\to 0 \\text{ if } t\\to\\infty, \\ i\\in\\{2,3\\}$. Moreover the other quantities don't depend on t."
   ]
  },
  {
   "attachments": {},
   "cell_type": "markdown",
   "metadata": {
    "collapsed": false,
    "pycharm": {
     "name": "#%% md\n"
    }
   },
   "source": [
    "# Task 1.5 Version 1\n",
    "\n",
    "For this task we implemented two versions to approach the problem.\n",
    "for both we consider:\n",
    "s = sunny\n",
    "o = overcast\n",
    "r = rainy\n",
    "\n",
    "given the information, that on day two there is no sun, we can follow, that it is either rainy or overcast on day 2.\n",
    "We know, that yesterday (simulation start) the weather was sunny. So we have the conditional probabilities for:\n",
    "\n",
    "o on day 2 given s on day 1 = P(o|s) = 1/3\n",
    "r on day 2 given s on day 1 = P(r|s) = 1/6\n",
    "s on day 2 given s on day 1 = P(s|s) = 1/2\n",
    "\n",
    "since we know that on day 2 it is not sunny, we conclude the probability for sunny on day 2 is 0\n",
    "\n",
    "However, we can distribute the probability from p(s|s) proportionally to P(o|s) and P(r|s) by:\n",
    "\n",
    "P(r|s) = P(r|s)/P(s|s) = 1/3\n",
    "P(o|s) = P(r|s)/P(s|s) = 2/3\n",
    "\n",
    "This allows us to have P(r|s) + P(o|s) = 1\n",
    "\n",
    "In version one, we use the simulation of day 2 and count all sunny, overcast and rainy days. Hover we distribute the sunny days proportionally to overcast(2/3) and rainy(1/3) and then calculate the probabilities for rain and overcast."
   ]
  },
  {
   "cell_type": "code",
   "execution_count": 10,
   "metadata": {
    "collapsed": false,
    "pycharm": {
     "name": "#%%\n"
    }
   },
   "outputs": [
    {
     "name": "stdout",
     "output_type": "stream",
     "text": [
      "P: Rainy    = 0.35789473684210527\n",
      "P: Overcast = 0.6421052631578947\n"
     ]
    }
   ],
   "source": [
    "count_sunny_day_2: np.array = np.count_nonzero(day_2 == 0)\n",
    "count_overcast_day_2: np.array = np.count_nonzero(day_2 == 1) + count_sunny_day_2 * (2/3)\n",
    "count_count_rainy_day_2: np.array = np.count_nonzero(day_2 == 2) + count_sunny_day_2 * (1/3)\n",
    "\n",
    "p_rainy: float = count_count_rainy_day_2 / len(day_2)\n",
    "p_overc: float = count_overcast_day_2 / len(day_2)\n",
    "\n",
    "print(f\"P: Rainy    = {p_rainy}\")\n",
    "print(f\"P: Overcast = {p_overc}\")"
   ]
  },
  {
   "attachments": {},
   "cell_type": "markdown",
   "metadata": {
    "collapsed": false,
    "pycharm": {
     "name": "#%% md\n"
    }
   },
   "source": [
    "## Task 1.5 Version 2"
   ]
  },
  {
   "attachments": {},
   "cell_type": "markdown",
   "metadata": {
    "collapsed": false,
    "pycharm": {
     "name": "#%% md\n"
    }
   },
   "source": [
    "Given the information we can compute the probability of rain at day 2 by considering the results of the simulation excluding all the events $\\{X_2=\"sunny\"\\}$."
   ]
  },
  {
   "cell_type": "code",
   "execution_count": 11,
   "metadata": {
    "collapsed": false,
    "pycharm": {
     "name": "#%%\n"
    }
   },
   "outputs": [
    {
     "name": "stdout",
     "output_type": "stream",
     "text": [
      "P: Rainy    = 0.371900826446281\n",
      "P: Overcast = 0.628099173553719\n"
     ]
    }
   ],
   "source": [
    "p_rainy2: float = np.sum(day_2 == 2) / np.sum(day_2 != 0)\n",
    "p_overcast2: float = np.sum(day_2 == 1) / np.sum(day_2 != 0)\n",
    "\n",
    "print(f\"P: Rainy    = {p_rainy2}\")\n",
    "print(f\"P: Overcast = {p_overcast2}\")"
   ]
  },
  {
   "attachments": {},
   "cell_type": "markdown",
   "metadata": {
    "collapsed": false,
    "pycharm": {
     "name": "#%% md\n"
    }
   },
   "source": [
    "If we compute the probability not empirically we get: <br>\n",
    "Let be $E_1=\\{X_1=\"sunny\"\\}$ (initial condition), $P_{E_1}(\\cdot):=P(\\cdot|E_1)$ and $I=\\{X_2\\neq\"sunny\"\\}$, <br>\n",
    "$P_{E_1}(X_2=\"rainy\"|I)=\\frac{P_{E_1}(X_2=\"rainy\",I)}{P_{E_1}(I)}=\\frac{P_{E_1}(X_2=\"rainy\")}{1/3+1/6}=9/2*1/6=1/3\\approx 0.33$, <br>\n",
    "then, since $P_{E_1}(X_2=\"sunny\"|I)=0$, we have $P_{E_1}(X_2=\"overcast\"|I)=1-1/3=2/3$."
   ]
  },
  {
   "attachments": {},
   "cell_type": "markdown",
   "metadata": {
    "collapsed": false,
    "pycharm": {
     "name": "#%% md\n"
    }
   },
   "source": [
    "# Task 1.6"
   ]
  },
  {
   "cell_type": "code",
   "execution_count": 12,
   "metadata": {
    "collapsed": false,
    "pycharm": {
     "name": "#%%\n"
    }
   },
   "outputs": [],
   "source": [
    "#Empirical distribution of day 3:\n",
    "empirical_dist_day_3 = {\"sunny\": np.sum(day_3 == 0) / len(day_3), \"overcast\": np.sum(day_3 == 1) / len(day_3), \"rainy\": np.sum(day_3 == 2) / len(day_3)}"
   ]
  },
  {
   "cell_type": "code",
   "execution_count": 13,
   "metadata": {
    "collapsed": false,
    "pycharm": {
     "name": "#%%\n"
    }
   },
   "outputs": [
    {
     "data": {
      "image/png": "[encoded data removed]",
      "text/plain": [
       "<Figure size 900x600 with 2 Axes>"
      ]
     },
     "metadata": {},
     "output_type": "display_data"
    }
   ],
   "source": [
    "def plot_hist_no_sun(d_2: np.array, d_3: np.array):\n",
    "    x = [\"Sunny\", \"Overcast\", \"Rainy\"]\n",
    "    fig, axes = plt.subplots(1, 2)\n",
    "    fig.set_size_inches(9, 6)\n",
    "\n",
    "    count_0: np.array = np.count_nonzero(d_3[d_2 != 0] == 0)\n",
    "    count_1: np.array = np.count_nonzero(d_3[d_2 != 0] == 1)\n",
    "    count_2: np.array = np.count_nonzero(d_3[d_2 != 0] == 2)\n",
    "\n",
    "    p_0: float = round(count_0/(count_0 + count_1 + count_2), 4)\n",
    "    p_1: float = round(count_1/(count_0 + count_1 + count_2), 4)\n",
    "    p_2: float = round(count_2/(count_0 + count_1 + count_2), 4)\n",
    "\n",
    "\n",
    "    y = [p_0, p_1, p_2]\n",
    "    axes[0].bar(x, y)\n",
    "    axes[0].set_title(\"Distribution on day 3 if day 2 was not sunny\")\n",
    "    for i in range(3):\n",
    "        axes[0].text(i, y[i], y[i], ha = 'center')\n",
    "\n",
    "    y = [round(empirical_dist_day_3[\"sunny\"], 4), round(empirical_dist_day_3[\"overcast\"], 4), round(empirical_dist_day_3[\"rainy\"], 4)]\n",
    "    axes[1].bar(x, y)\n",
    "    axes[1].set_title(\"Distribution on day 3\")\n",
    "    for i in range(3):\n",
    "        axes[1].text(i, y[i], y[i], ha = 'center')\n",
    "\n",
    "plot_hist_no_sun(day_2, day_3)"
   ]
  },
  {
   "attachments": {},
   "cell_type": "markdown",
   "metadata": {
    "collapsed": false,
    "pycharm": {
     "name": "#%% md\n"
    }
   },
   "source": [
    "We notice that the probability of the event $\\{X_3=\"sunny\"\\}$ has decreased."
   ]
  },
  {
   "attachments": {},
   "cell_type": "markdown",
   "metadata": {
    "collapsed": false,
    "pycharm": {
     "name": "#%% md\n"
    }
   },
   "source": [
    "# Task 1.7"
   ]
  },
  {
   "attachments": {},
   "cell_type": "markdown",
   "metadata": {
    "collapsed": false,
    "pycharm": {
     "name": "#%% md\n"
    }
   },
   "source": [
    "Given $E_1=\\{X_1=\"sunny\"\\}$ and introducing the event $I=\\{\\text{the information of the agent is true}\\}$, that has probability 1/2 we get that the distribution of $X_2$ is: <br>\n",
    "$P_{E_1}(X_2=rainy)=P_{E_1}(X_2=rainy|I)P(I)+P_{E_1}(X_2=rainy|I)P(I^c)=1/2*1/3+1/2*1/6=1/4$ and similarly we get $P_{E_1}(X_2=overcast)=1/2$, $P_{E_1}(X_2=sunny)=1/4$, then the distribution of $X_3$ is: $P\\begin{pmatrix}1/4 \\\\ 1/2 \\\\ 1/4\\end{pmatrix}$"
   ]
  },
  {
   "cell_type": "code",
   "execution_count": 14,
   "metadata": {
    "collapsed": false,
    "pycharm": {
     "name": "#%%\n"
    }
   },
   "outputs": [
    {
     "name": "stdout",
     "output_type": "stream",
     "text": [
      "Theoretical distribution of X_3: [0.3        0.43333333 0.26666667]\n"
     ]
    }
   ],
   "source": [
    "print(\"Theoretical distribution of X_3:\", np.dot(transition_matrix, np.array([1/4,1/2,1/4])))"
   ]
  },
  {
   "cell_type": "code",
   "execution_count": 15,
   "metadata": {
    "collapsed": false,
    "pycharm": {
     "name": "#%%\n"
    }
   },
   "outputs": [
    {
     "name": "stdout",
     "output_type": "stream",
     "text": [
      "Empirical distribution of X_3: [0.28947368 0.38947368 0.32105263]\n"
     ]
    }
   ],
   "source": [
    "p_3_7 = 1/2 * np.array(list(empirical_dist_day_3.values())) + 1/2 * np.array(list(empirical_dist_day_3.values()))\n",
    "print(\"Empirical distribution of X_3:\", p_3_7)"
   ]
  }
 ],
 "metadata": {
  "kernelspec": {
   "display_name": "Python 3",
   "language": "python",
   "name": "python3"
  },
  "language_info": {
   "codemirror_mode": {
    "name": "ipython",
    "version": 2
   },
   "file_extension": ".py",
   "mimetype": "text/x-python",
   "name": "python",
   "nbconvert_exporter": "python",
   "pygments_lexer": "ipython2",
   "version": "2.7.6"
  }
 },
 "nbformat": 4,
 "nbformat_minor": 0
}
