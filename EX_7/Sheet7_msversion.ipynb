{
 "cells": [
  {
   "cell_type": "code",
   "execution_count": 79,
   "metadata": {},
   "outputs": [],
   "source": [
    "import numpy as np\n",
    "import matplotlib.pyplot as plt\n",
    "import pandas as pd"
   ]
  },
  {
   "attachments": {},
   "cell_type": "markdown",
   "metadata": {},
   "source": [
    "2)"
   ]
  },
  {
   "cell_type": "code",
   "execution_count": 96,
   "metadata": {},
   "outputs": [],
   "source": [
    "P=np.array([[1/2,1/4,1/5],[1/3,1/2,2/5],[1/6,1/4,2/5]]) #transition matrix "
   ]
  },
  {
   "cell_type": "code",
   "execution_count": 97,
   "metadata": {},
   "outputs": [
    {
     "data": {
      "text/plain": [
       "array([0.31578947, 0.42105263, 0.26315789])"
      ]
     },
     "execution_count": 97,
     "metadata": {},
     "output_type": "execute_result"
    }
   ],
   "source": [
    "eigs, eigen=np.linalg.eig(P)\n",
    "inv_meas=eigen[:,0]/(np.sum(eigen[:,0])) #the invariant measure is the eigenvector corresponding to 1\n",
    "inv_meas"
   ]
  },
  {
   "attachments": {},
   "cell_type": "markdown",
   "metadata": {},
   "source": [
    "3)"
   ]
  },
  {
   "attachments": {},
   "cell_type": "markdown",
   "metadata": {},
   "source": [
    "For simplicity in the simulation loop I consider $S=\\{sunny,overcast,rainy\\}=\\{1,2,3\\}$ and at time $t$ if $X_t=i$ then I represent the state at time t as $e_i \\ \\forall i\\in\\{1,2,3\\}$. Afterwards, to plot the required histograms I reconvert the samples of interest to the inital notation (i.e \"sunny\",\"overcast\",\"rainy\")."
   ]
  },
  {
   "cell_type": "code",
   "execution_count": 101,
   "metadata": {},
   "outputs": [],
   "source": [
    "def transform_state(s):\n",
    "    if(s==1):\n",
    "        return np.array([1,0,0])\n",
    "    elif(s==2):\n",
    "        return np.array([0,1,0])\n",
    "    else:\n",
    "        return np.array([0,0,1])"
   ]
  },
  {
   "cell_type": "code",
   "execution_count": 102,
   "metadata": {},
   "outputs": [],
   "source": [
    "states=[1,2,3] \n",
    "s_1=np.array([1,0,0]) #inital state, X_0={sunny}={1}\n",
    "T=50 #we simulate for 50 days\n",
    "N=190 #\n",
    "X=np.zeros((T,N)) #column i-th conatins i-th simulation of the Markov chain up to time (day) T\n",
    "#Initial state is sunny for each simulation:\n",
    "X[0,:]=1"
   ]
  },
  {
   "cell_type": "code",
   "execution_count": 103,
   "metadata": {},
   "outputs": [],
   "source": [
    "#simulations:\n",
    "for n in range(N):\n",
    "    s_old=s_1\n",
    "    for j in range(1,T):\n",
    "        s_next=np.random.choice(states,p=np.dot(P,s_old.T)) ###\n",
    "        X[j,n]=s_next\n",
    "        s_old=transform_state(s_next)\n"
   ]
  },
  {
   "cell_type": "code",
   "execution_count": 104,
   "metadata": {},
   "outputs": [],
   "source": [
    "#for plotting histograms:\n",
    "def reconvert_state(s):\n",
    "    if(s==1):\n",
    "        return \"sunny\"\n",
    "    elif(s==2):\n",
    "        return \"overcast\"\n",
    "    else:\n",
    "        return \"rainy\"\n",
    "X_2=np.array(list(map(reconvert_state,list(X[1,:])))) #day 2\n",
    "X_3=np.array(list(map(reconvert_state,list(X[2,:])))) #day 3\n",
    "X_30=np.array(list(map(reconvert_state,list(X[29,:]))))#day 30"
   ]
  },
  {
   "cell_type": "code",
   "execution_count": 105,
   "metadata": {},
   "outputs": [
    {
     "data": {
      "text/plain": [
       "<matplotlib.legend.Legend at 0x20754bff160>"
      ]
     },
     "execution_count": 105,
     "metadata": {},
     "output_type": "execute_result"
    },
    {
     "data": {
      "image/png": "[encoded data removed]",
      "text/plain": [
       "<Figure size 432x288 with 1 Axes>"
      ]
     },
     "metadata": {
      "needs_background": "light"
     },
     "output_type": "display_data"
    }
   ],
   "source": [
    "fig, ax = plt.subplots()\n",
    "ax.hist([X_2,X_3,X_30], label=[\"Day 2\",\"Day 3\",\"Day 30\"], stacked=False)\n",
    "ax.set_title(\"Days 2,3,30 events frequencies\")\n",
    "ax.legend(loc=\"best\")"
   ]
  },
  {
   "attachments": {},
   "cell_type": "markdown",
   "metadata": {},
   "source": [
    "Computing empirical distributions:"
   ]
  },
  {
   "cell_type": "code",
   "execution_count": 106,
   "metadata": {},
   "outputs": [],
   "source": [
    "p_2={\"sunny\": np.sum(X_2==\"sunny\")/N,\"overcast\": np.sum(X_2==\"overcast\")/N, \"rainy\": np.sum(X_2==\"rainy\")/N}\n",
    "p_3={\"sunny\": np.sum(X_3==\"sunny\")/N, \"overcast\": np.sum(X_3==\"overcast\")/N, \"rainy\": np.sum(X_3==\"rainy\")/N}\n",
    "p_30={\"sunny\": np.sum(X_30==\"sunny\")/N,\"overcast\": np.sum(X_30==\"overcast\")/N,\"rainy\": np.sum(X_30==\"rainy\")/N}"
   ]
  },
  {
   "attachments": {},
   "cell_type": "markdown",
   "metadata": {},
   "source": [
    "Comparison:"
   ]
  },
  {
   "cell_type": "code",
   "execution_count": 107,
   "metadata": {},
   "outputs": [
    {
     "name": "stdout",
     "output_type": "stream",
     "text": [
      "Distribution at they 30:  {'sunny': 0.3105263157894737, 'overcast': 0.35789473684210527, 'rainy': 0.33157894736842103}\n",
      "Invariant Measure:  [0.31578947 0.42105263 0.26315789]\n"
     ]
    }
   ],
   "source": [
    "print(\"Distribution at they 30: \", p_30)\n",
    "print(\"Invariant Measure: \", inv_meas)"
   ]
  },
  {
   "attachments": {},
   "cell_type": "markdown",
   "metadata": {},
   "source": [
    "We have found that the invariant measure $p$ is, given the probability of the event $\"rainy\"$, $p_r$: $p=\\begin{pmatrix}6/5p_r \\\\ 8/5p_r \\\\ p_r\\end{pmatrix}$. <br>\n",
    "We notice that, for $t=30$, $p_s\\approx 6/5*p_r$, $p_o\\approx 8/5*p_r$:"
   ]
  },
  {
   "attachments": {},
   "cell_type": "markdown",
   "metadata": {},
   "source": [
    "Then it seems that there is convergence to the invariant measure."
   ]
  },
  {
   "attachments": {},
   "cell_type": "markdown",
   "metadata": {},
   "source": [
    "5) <br>\n",
    "Given the information we can compute the probability of rain at day 2 by considering the results of the simulation excluding all the events $\\{X_2=\"sunny\"\\}$."
   ]
  },
  {
   "attachments": {},
   "cell_type": "markdown",
   "metadata": {},
   "source": [
    "Empirical distribution at day 2:"
   ]
  },
  {
   "cell_type": "code",
   "execution_count": 108,
   "metadata": {},
   "outputs": [],
   "source": [
    "p_rainy2=np.sum((X_2!=\"sunny\") & (X_2==\"rainy\"))/np.sum(X_2!=\"sunny\") "
   ]
  },
  {
   "cell_type": "code",
   "execution_count": 110,
   "metadata": {},
   "outputs": [
    {
     "name": "stdout",
     "output_type": "stream",
     "text": [
      "Probability of rain at day 2 given that there is no sun: 0.34\n"
     ]
    }
   ],
   "source": [
    "print(\"Probability of rain at day 2 given that there is no sun: %a\" %p_rainy2)"
   ]
  },
  {
   "cell_type": "code",
   "execution_count": 111,
   "metadata": {},
   "outputs": [],
   "source": [
    "p_overcast2=np.sum((X_2!=\"sunny\") & (X_2==\"overcast\"))/np.sum(X_2!=\"sunny\")"
   ]
  },
  {
   "cell_type": "code",
   "execution_count": 112,
   "metadata": {},
   "outputs": [
    {
     "name": "stdout",
     "output_type": "stream",
     "text": [
      "Probability of rain at day 2 given that there is no sun: 0.66\n"
     ]
    }
   ],
   "source": [
    "print(\"Probability of rain at day 2 given that there is no sun: %a\" %p_overcast2)"
   ]
  },
  {
   "attachments": {},
   "cell_type": "markdown",
   "metadata": {},
   "source": [
    "If we compute the probability not empirically we get: <br>\n",
    "Let be $E_1=\\{X_1=\"sunny\"\\}$ (initial condition), $P_{E_1}(\\cdot):=P(\\cdot|E_1)$ and $I=\\{X_2\\neq\"sunny\"\\}$, <br>\n",
    "$P_{E_1}(X_2=\"rainy\"|I)=\\frac{P_{E_1}(X_2=\"rainy\",I)}{P_{E_1}(I)}=\\frac{P_{E_1}(X_2=\"rainy\")}{1/3+1/6}=9/2*1/6=1/3\\approx 0.33$"
   ]
  },
  {
   "attachments": {},
   "cell_type": "markdown",
   "metadata": {},
   "source": [
    "6)"
   ]
  },
  {
   "cell_type": "code",
   "execution_count": 113,
   "metadata": {},
   "outputs": [],
   "source": [
    "X_3_=np.array([X_3[j] for j in range(len(X_3)) if X_2[j]!=\"sunny\"])"
   ]
  },
  {
   "cell_type": "code",
   "execution_count": 114,
   "metadata": {},
   "outputs": [
    {
     "data": {
      "text/plain": [
       "<matplotlib.legend.Legend at 0x20754c5ed30>"
      ]
     },
     "execution_count": 114,
     "metadata": {},
     "output_type": "execute_result"
    },
    {
     "data": {
      "image/png": "[encoded data removed]",
      "text/plain": [
       "<Figure size 432x288 with 1 Axes>"
      ]
     },
     "metadata": {
      "needs_background": "light"
     },
     "output_type": "display_data"
    }
   ],
   "source": [
    "fig, ax = plt.subplots()\n",
    "ax.hist(X_3_, label=\"Day 3\")\n",
    "ax.set_title(\"Days 3 with additional information on t=2\")\n",
    "ax.legend(loc=\"best\")"
   ]
  },
  {
   "cell_type": "code",
   "execution_count": 115,
   "metadata": {},
   "outputs": [
    {
     "name": "stdout",
     "output_type": "stream",
     "text": [
      "Empirical distribution of X_3 with no information on t=2:\n",
      "  {'sunny': 0.38421052631578945, 'overcast': 0.4052631578947368, 'rainy': 0.21052631578947367} \n",
      " Empirical distribution of X_3 given I:\n",
      " {'sunny': 0.25, 'overcast': 0.49, 'rainy': 0.26}\n"
     ]
    }
   ],
   "source": [
    "#Empirical distribution of day 3:\n",
    "p_3_={\"sunny\": np.sum(X_3_==\"sunny\")/len(X_3_),\"overcast\": np.sum(X_3_==\"overcast\")/len(X_3_), \"rainy\": np.sum(X_3_==\"rainy\")/len(X_3_)}\n",
    "print(\"Empirical distribution of X_3 with no information on t=2:\\n \", p_3, \"\\n Empirical distribution of X_3 given I:\\n\", p_3_)"
   ]
  },
  {
   "attachments": {},
   "cell_type": "markdown",
   "metadata": {},
   "source": [
    "We notiche that the probability of the event $\\{X_3=\"sunny\"\\}$ has decreased."
   ]
  },
  {
   "attachments": {},
   "cell_type": "markdown",
   "metadata": {},
   "source": [
    "7) <br>\n",
    "Given $E_1=\\{X_1=\"sunny\"\\}$ and introducing the event $I=\\{\\text{the information of the agent is true}\\}$, that has probability 1/2 we get that the distribution of $X_2$ is: <br>\n",
    "$P_{E_1}(X_2=rainy)=P_{E_1}(X_2=rainy|I)P(I)+P_{E_1}(X_2=rainy|I)P(I^c)=1/2*1/3+1/2*1/6=1/4$ and similarly we get $P_{E_1}(X_2=overcast)=1/2$, $P_{E_1}(X_2=sunny)=1/4$, then the distributin of $X_3$ is: $P\\begin{pmatrix}1/4 \\\\ 1/2 \\\\ 1/4\\end{pmatrix}$"
   ]
  },
  {
   "attachments": {},
   "cell_type": "markdown",
   "metadata": {},
   "source": [
    "To forecast the weather in day 3 using the simulation results we weight 1/2 the empirical distribution of $X_3$ with no information at day 2 and 1/2 the empirical distribution of $X_3$ given information on day 2:"
   ]
  },
  {
   "cell_type": "code",
   "execution_count": 118,
   "metadata": {},
   "outputs": [
    {
     "name": "stdout",
     "output_type": "stream",
     "text": [
      "Theoretical distribution of X_3: [0.3        0.43333333 0.26666667]\n"
     ]
    }
   ],
   "source": [
    "print(\"Theoretical distribution of X_3:\", np.dot(P,np.array([1/4,1/2,1/4])))"
   ]
  },
  {
   "cell_type": "code",
   "execution_count": 119,
   "metadata": {},
   "outputs": [
    {
     "name": "stdout",
     "output_type": "stream",
     "text": [
      "Empirical distribution of X_3: [0.31710526 0.44763158 0.23526316]\n"
     ]
    }
   ],
   "source": [
    "p_3_7=1/2*np.array(list(p_3_.values()))+1/2*np.array(list(p_3.values()))\n",
    "print(\"Empirical distribution of X_3:\", p_3_7)"
   ]
  }
 ],
 "metadata": {
  "kernelspec": {
   "display_name": "base",
   "language": "python",
   "name": "python3"
  },
  "language_info": {
   "codemirror_mode": {
    "name": "ipython",
    "version": 3
   },
   "file_extension": ".py",
   "mimetype": "text/x-python",
   "name": "python",
   "nbconvert_exporter": "python",
   "pygments_lexer": "ipython3",
   "version": "3.9.12"
  },
  "orig_nbformat": 4
 },
 "nbformat": 4,
 "nbformat_minor": 2
}
